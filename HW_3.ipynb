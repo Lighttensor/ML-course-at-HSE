{
  "cells": [
    {
      "cell_type": "markdown",
      "metadata": {
        "id": "EmstOJoKmx2b"
      },
      "source": [
        "# Домашнее задание: модели классификации и оценка их качества.\n",
        "\n",
        "Будем тренироваться обучать модели классификации и интерпретировать их качество.\n",
        "\n",
        "Максимальный балл за задание - 11.\n",
        "Балл, который ставится в ведомость - min(10,ваш балл)."
      ]
    },
    {
      "cell_type": "markdown",
      "metadata": {
        "id": "rzsz4GWHmx2f"
      },
      "source": [
        "## Часть 1. Обучение моделей классификации (5 баллов). \n",
        "\n",
        "Поработайте с датасетом telecom_churn. Вам предстоит по характеристикам клиента предсказать, уйдет он или нет (целевая колонка - Churn).\n",
        "\n",
        "A. Решите задачу с помощью логистической регрессии:\n",
        "- подберите значение гиперпараметров с помощью GridSearchCV\n",
        "Что вы можете сказать об алгоритме? Он переобучился/недообучился/обучился как надо и вы довольны качеством?\n",
        "\n",
        "B. Решите задачу с помощью метода опорных векторов (с kernel = 'linear'):\n",
        "- подберите значение гиперпараметров с помощью GridSearchCV\n",
        "Что вы можете сказать об алгоритме? Он переобучился/недообучился/обучился как надо и вы довольны качеством?\n",
        "\n",
        "Не забудьте масштабировать данные перед применением линейных моделей.\n",
        "\n",
        "C. Попробуйте увеличить число признаков с помощью добавления полиномиальных признаков. Также можно добавить функции от признаков вручную (те, которые вам кажутся подходящими в данной задаче).\n",
        "Улучшилось ли качество алгоритма?\n",
        "\n",
        "D. Постройте матрицу корреляций признаков. Есть ли признаки, которые практически не коррелируют с целевой переменной? Попробуйте их удалить. Есть ли пары сильно коррелирующих между собой признаков? Удалите по одному признаку из каждой пары.\n",
        "Помогло ли это улучшить качество в данной задаче?\n",
        "\n",
        "Пункты C и D можно скомбинировать для достижения наилучшего качества.\n",
        "\n",
        "E. Сделайте мини-отчет о проведенной работе. Для этого ответьте на вопросы:\n",
        "a) какой классификатор дал наилучший результат? чему равны значения метрик accuracy, f1-score и ROC-AUC? \n",
        "(Вы можете изначально разбить данные на train и test и сравнивать значения метрик на этих выборках; или же можно оценивать качество алгоритмов по кросс-валидации).\n",
        "\n",
        "b) какие новые признаки вы добавили и какие признаки удалили?\n",
        "\n",
        "c) удалось ли добиться того, что алгоритм не переобучился и не недообучился?"
      ]
    },
    {
      "cell_type": "markdown",
      "source": [
        "#A"
      ],
      "metadata": {
        "id": "b9A9BdWwnWOm"
      }
    },
    {
      "cell_type": "code",
      "execution_count": null,
      "metadata": {
        "colab": {
          "base_uri": "https://localhost:8080/"
        },
        "id": "5ioV-oW5mx2i",
        "outputId": "5f6f3455-5762-426a-c269-27905688ea5a"
      },
      "outputs": [
        {
          "output_type": "stream",
          "name": "stdout",
          "text": [
            "Populating the interactive namespace from numpy and matplotlib\n"
          ]
        },
        {
          "output_type": "stream",
          "name": "stderr",
          "text": [
            "/usr/local/lib/python3.9/dist-packages/IPython/core/magics/pylab.py:159: UserWarning: pylab import has clobbered these variables: ['grid']\n",
            "`%matplotlib` prevents importing * from pylab and numpy\n",
            "  warn(\"pylab import has clobbered these variables: %s\"  % clobbered +\n"
          ]
        }
      ],
      "source": [
        "import pandas as pd\n",
        "import matplotlib.pyplot as plt\n",
        "import numpy as np\n",
        "from sklearn.svm import SVC\n",
        "from sklearn.metrics import accuracy_score, confusion_matrix\n",
        "from sklearn.model_selection import GridSearchCV, train_test_split\n",
        "from sklearn.linear_model import LogisticRegression\n",
        "from sklearn.preprocessing import PolynomialFeatures\n",
        "from sklearn.preprocessing import StandardScaler\n",
        "from sklearn.pipeline import make_pipeline\n",
        "from sklearn.metrics import classification_report\n",
        "\n",
        "\n",
        "%pylab inline"
      ]
    },
    {
      "cell_type": "code",
      "execution_count": null,
      "metadata": {
        "id": "NWgW_67zmx2l"
      },
      "outputs": [],
      "source": [
        "df = pd.read_csv(\"telecom_churn.csv\")"
      ]
    },
    {
      "cell_type": "code",
      "source": [
        "df['Voice mail plan'] = df['Voice mail plan'] == 'Yes'\n",
        "df['International plan'] = df['International plan'] == 'Yes'\n",
        "\n",
        "df['Voice mail plan'] = df['Voice mail plan'].replace({True: 1, False: 0})\n",
        "df['International plan'] = df['International plan'].replace({True: 1, False: 0})\n",
        "\n",
        "state = pd.get_dummies(df['State'])\n",
        "df = state.join(df).drop(\"State\", axis = 1)\n"
      ],
      "metadata": {
        "id": "Jt3_Entm0IW-"
      },
      "execution_count": null,
      "outputs": []
    },
    {
      "cell_type": "code",
      "source": [
        "df.head()"
      ],
      "metadata": {
        "colab": {
          "base_uri": "https://localhost:8080/",
          "height": 236
        },
        "id": "HgNjagKV4sOl",
        "outputId": "6dd75680-7276-43cc-babf-2d8f04b871e1"
      },
      "execution_count": null,
      "outputs": [
        {
          "output_type": "execute_result",
          "data": {
            "text/plain": [
              "   AK  AL  AR  AZ  CA  CO  CT  DC  DE  FL  ...  Total eve calls  \\\n",
              "0   0   0   0   0   0   0   0   0   0   0  ...               99   \n",
              "1   0   0   0   0   0   0   0   0   0   0  ...              103   \n",
              "2   0   0   0   0   0   0   0   0   0   0  ...              110   \n",
              "3   0   0   0   0   0   0   0   0   0   0  ...               88   \n",
              "4   0   0   0   0   0   0   0   0   0   0  ...              122   \n",
              "\n",
              "   Total eve charge  Total night minutes  Total night calls  \\\n",
              "0             16.78                244.7                 91   \n",
              "1             16.62                254.4                103   \n",
              "2             10.30                162.6                104   \n",
              "3              5.26                196.9                 89   \n",
              "4             12.61                186.9                121   \n",
              "\n",
              "   Total night charge  Total intl minutes  Total intl calls  \\\n",
              "0               11.01                10.0                 3   \n",
              "1               11.45                13.7                 3   \n",
              "2                7.32                12.2                 5   \n",
              "3                8.86                 6.6                 7   \n",
              "4                8.41                10.1                 3   \n",
              "\n",
              "   Total intl charge  Customer service calls  Churn  \n",
              "0               2.70                       1  False  \n",
              "1               3.70                       1  False  \n",
              "2               3.29                       0  False  \n",
              "3               1.78                       2  False  \n",
              "4               2.73                       3  False  \n",
              "\n",
              "[5 rows x 70 columns]"
            ],
            "text/html": [
              "\n",
              "  <div id=\"df-99b04b3b-f1ab-45ca-9db6-293a2ecc14c7\">\n",
              "    <div class=\"colab-df-container\">\n",
              "      <div>\n",
              "<style scoped>\n",
              "    .dataframe tbody tr th:only-of-type {\n",
              "        vertical-align: middle;\n",
              "    }\n",
              "\n",
              "    .dataframe tbody tr th {\n",
              "        vertical-align: top;\n",
              "    }\n",
              "\n",
              "    .dataframe thead th {\n",
              "        text-align: right;\n",
              "    }\n",
              "</style>\n",
              "<table border=\"1\" class=\"dataframe\">\n",
              "  <thead>\n",
              "    <tr style=\"text-align: right;\">\n",
              "      <th></th>\n",
              "      <th>AK</th>\n",
              "      <th>AL</th>\n",
              "      <th>AR</th>\n",
              "      <th>AZ</th>\n",
              "      <th>CA</th>\n",
              "      <th>CO</th>\n",
              "      <th>CT</th>\n",
              "      <th>DC</th>\n",
              "      <th>DE</th>\n",
              "      <th>FL</th>\n",
              "      <th>...</th>\n",
              "      <th>Total eve calls</th>\n",
              "      <th>Total eve charge</th>\n",
              "      <th>Total night minutes</th>\n",
              "      <th>Total night calls</th>\n",
              "      <th>Total night charge</th>\n",
              "      <th>Total intl minutes</th>\n",
              "      <th>Total intl calls</th>\n",
              "      <th>Total intl charge</th>\n",
              "      <th>Customer service calls</th>\n",
              "      <th>Churn</th>\n",
              "    </tr>\n",
              "  </thead>\n",
              "  <tbody>\n",
              "    <tr>\n",
              "      <th>0</th>\n",
              "      <td>0</td>\n",
              "      <td>0</td>\n",
              "      <td>0</td>\n",
              "      <td>0</td>\n",
              "      <td>0</td>\n",
              "      <td>0</td>\n",
              "      <td>0</td>\n",
              "      <td>0</td>\n",
              "      <td>0</td>\n",
              "      <td>0</td>\n",
              "      <td>...</td>\n",
              "      <td>99</td>\n",
              "      <td>16.78</td>\n",
              "      <td>244.7</td>\n",
              "      <td>91</td>\n",
              "      <td>11.01</td>\n",
              "      <td>10.0</td>\n",
              "      <td>3</td>\n",
              "      <td>2.70</td>\n",
              "      <td>1</td>\n",
              "      <td>False</td>\n",
              "    </tr>\n",
              "    <tr>\n",
              "      <th>1</th>\n",
              "      <td>0</td>\n",
              "      <td>0</td>\n",
              "      <td>0</td>\n",
              "      <td>0</td>\n",
              "      <td>0</td>\n",
              "      <td>0</td>\n",
              "      <td>0</td>\n",
              "      <td>0</td>\n",
              "      <td>0</td>\n",
              "      <td>0</td>\n",
              "      <td>...</td>\n",
              "      <td>103</td>\n",
              "      <td>16.62</td>\n",
              "      <td>254.4</td>\n",
              "      <td>103</td>\n",
              "      <td>11.45</td>\n",
              "      <td>13.7</td>\n",
              "      <td>3</td>\n",
              "      <td>3.70</td>\n",
              "      <td>1</td>\n",
              "      <td>False</td>\n",
              "    </tr>\n",
              "    <tr>\n",
              "      <th>2</th>\n",
              "      <td>0</td>\n",
              "      <td>0</td>\n",
              "      <td>0</td>\n",
              "      <td>0</td>\n",
              "      <td>0</td>\n",
              "      <td>0</td>\n",
              "      <td>0</td>\n",
              "      <td>0</td>\n",
              "      <td>0</td>\n",
              "      <td>0</td>\n",
              "      <td>...</td>\n",
              "      <td>110</td>\n",
              "      <td>10.30</td>\n",
              "      <td>162.6</td>\n",
              "      <td>104</td>\n",
              "      <td>7.32</td>\n",
              "      <td>12.2</td>\n",
              "      <td>5</td>\n",
              "      <td>3.29</td>\n",
              "      <td>0</td>\n",
              "      <td>False</td>\n",
              "    </tr>\n",
              "    <tr>\n",
              "      <th>3</th>\n",
              "      <td>0</td>\n",
              "      <td>0</td>\n",
              "      <td>0</td>\n",
              "      <td>0</td>\n",
              "      <td>0</td>\n",
              "      <td>0</td>\n",
              "      <td>0</td>\n",
              "      <td>0</td>\n",
              "      <td>0</td>\n",
              "      <td>0</td>\n",
              "      <td>...</td>\n",
              "      <td>88</td>\n",
              "      <td>5.26</td>\n",
              "      <td>196.9</td>\n",
              "      <td>89</td>\n",
              "      <td>8.86</td>\n",
              "      <td>6.6</td>\n",
              "      <td>7</td>\n",
              "      <td>1.78</td>\n",
              "      <td>2</td>\n",
              "      <td>False</td>\n",
              "    </tr>\n",
              "    <tr>\n",
              "      <th>4</th>\n",
              "      <td>0</td>\n",
              "      <td>0</td>\n",
              "      <td>0</td>\n",
              "      <td>0</td>\n",
              "      <td>0</td>\n",
              "      <td>0</td>\n",
              "      <td>0</td>\n",
              "      <td>0</td>\n",
              "      <td>0</td>\n",
              "      <td>0</td>\n",
              "      <td>...</td>\n",
              "      <td>122</td>\n",
              "      <td>12.61</td>\n",
              "      <td>186.9</td>\n",
              "      <td>121</td>\n",
              "      <td>8.41</td>\n",
              "      <td>10.1</td>\n",
              "      <td>3</td>\n",
              "      <td>2.73</td>\n",
              "      <td>3</td>\n",
              "      <td>False</td>\n",
              "    </tr>\n",
              "  </tbody>\n",
              "</table>\n",
              "<p>5 rows × 70 columns</p>\n",
              "</div>\n",
              "      <button class=\"colab-df-convert\" onclick=\"convertToInteractive('df-99b04b3b-f1ab-45ca-9db6-293a2ecc14c7')\"\n",
              "              title=\"Convert this dataframe to an interactive table.\"\n",
              "              style=\"display:none;\">\n",
              "        \n",
              "  <svg xmlns=\"http://www.w3.org/2000/svg\" height=\"24px\"viewBox=\"0 0 24 24\"\n",
              "       width=\"24px\">\n",
              "    <path d=\"M0 0h24v24H0V0z\" fill=\"none\"/>\n",
              "    <path d=\"M18.56 5.44l.94 2.06.94-2.06 2.06-.94-2.06-.94-.94-2.06-.94 2.06-2.06.94zm-11 1L8.5 8.5l.94-2.06 2.06-.94-2.06-.94L8.5 2.5l-.94 2.06-2.06.94zm10 10l.94 2.06.94-2.06 2.06-.94-2.06-.94-.94-2.06-.94 2.06-2.06.94z\"/><path d=\"M17.41 7.96l-1.37-1.37c-.4-.4-.92-.59-1.43-.59-.52 0-1.04.2-1.43.59L10.3 9.45l-7.72 7.72c-.78.78-.78 2.05 0 2.83L4 21.41c.39.39.9.59 1.41.59.51 0 1.02-.2 1.41-.59l7.78-7.78 2.81-2.81c.8-.78.8-2.07 0-2.86zM5.41 20L4 18.59l7.72-7.72 1.47 1.35L5.41 20z\"/>\n",
              "  </svg>\n",
              "      </button>\n",
              "      \n",
              "  <style>\n",
              "    .colab-df-container {\n",
              "      display:flex;\n",
              "      flex-wrap:wrap;\n",
              "      gap: 12px;\n",
              "    }\n",
              "\n",
              "    .colab-df-convert {\n",
              "      background-color: #E8F0FE;\n",
              "      border: none;\n",
              "      border-radius: 50%;\n",
              "      cursor: pointer;\n",
              "      display: none;\n",
              "      fill: #1967D2;\n",
              "      height: 32px;\n",
              "      padding: 0 0 0 0;\n",
              "      width: 32px;\n",
              "    }\n",
              "\n",
              "    .colab-df-convert:hover {\n",
              "      background-color: #E2EBFA;\n",
              "      box-shadow: 0px 1px 2px rgba(60, 64, 67, 0.3), 0px 1px 3px 1px rgba(60, 64, 67, 0.15);\n",
              "      fill: #174EA6;\n",
              "    }\n",
              "\n",
              "    [theme=dark] .colab-df-convert {\n",
              "      background-color: #3B4455;\n",
              "      fill: #D2E3FC;\n",
              "    }\n",
              "\n",
              "    [theme=dark] .colab-df-convert:hover {\n",
              "      background-color: #434B5C;\n",
              "      box-shadow: 0px 1px 3px 1px rgba(0, 0, 0, 0.15);\n",
              "      filter: drop-shadow(0px 1px 2px rgba(0, 0, 0, 0.3));\n",
              "      fill: #FFFFFF;\n",
              "    }\n",
              "  </style>\n",
              "\n",
              "      <script>\n",
              "        const buttonEl =\n",
              "          document.querySelector('#df-99b04b3b-f1ab-45ca-9db6-293a2ecc14c7 button.colab-df-convert');\n",
              "        buttonEl.style.display =\n",
              "          google.colab.kernel.accessAllowed ? 'block' : 'none';\n",
              "\n",
              "        async function convertToInteractive(key) {\n",
              "          const element = document.querySelector('#df-99b04b3b-f1ab-45ca-9db6-293a2ecc14c7');\n",
              "          const dataTable =\n",
              "            await google.colab.kernel.invokeFunction('convertToInteractive',\n",
              "                                                     [key], {});\n",
              "          if (!dataTable) return;\n",
              "\n",
              "          const docLinkHtml = 'Like what you see? Visit the ' +\n",
              "            '<a target=\"_blank\" href=https://colab.research.google.com/notebooks/data_table.ipynb>data table notebook</a>'\n",
              "            + ' to learn more about interactive tables.';\n",
              "          element.innerHTML = '';\n",
              "          dataTable['output_type'] = 'display_data';\n",
              "          await google.colab.output.renderOutput(dataTable, element);\n",
              "          const docLink = document.createElement('div');\n",
              "          docLink.innerHTML = docLinkHtml;\n",
              "          element.appendChild(docLink);\n",
              "        }\n",
              "      </script>\n",
              "    </div>\n",
              "  </div>\n",
              "  "
            ]
          },
          "metadata": {},
          "execution_count": 167
        }
      ]
    },
    {
      "cell_type": "code",
      "source": [
        "X, y = np.array(df.drop([\"Churn\"] , axis=1)), np.array([int(i) for i in list(df[\"Churn\"])]).reshape(-1, 1)"
      ],
      "metadata": {
        "id": "sNLCa_VLoNZh"
      },
      "execution_count": null,
      "outputs": []
    },
    {
      "cell_type": "code",
      "source": [
        "X_train, X_test, y_train, y_test = train_test_split(X, y, test_size=0.3, random_state=42)"
      ],
      "metadata": {
        "id": "rKjf3XBepN_f"
      },
      "execution_count": null,
      "outputs": []
    },
    {
      "cell_type": "code",
      "source": [
        "param_grid={'C': [0.0001, 0.001, 0.1, 1, 10, 100, 1000], 'solver': ['newton-cg', 'lbfgs', 'liblinear', 'sag']}\n",
        "pipe = make_pipeline(StandardScaler(), \n",
        "                    GridSearchCV(LogisticRegression(max_iter=10000),\n",
        "                                 param_grid=param_grid,\n",
        "                                 scoring='f1',\n",
        "                                 cv=5))\n",
        "\n",
        "pipe.fit(X_train, y_train[:,0])\n",
        "\n",
        "pipe.score(X_train, y_train)"
      ],
      "metadata": {
        "id": "6fm12FS-SGqw",
        "colab": {
          "base_uri": "https://localhost:8080/"
        },
        "outputId": "79c37791-9969-4016-8c4c-9c40e0319b0a"
      },
      "execution_count": null,
      "outputs": [
        {
          "output_type": "execute_result",
          "data": {
            "text/plain": [
              "0.3975409836065574"
            ]
          },
          "metadata": {},
          "execution_count": 170
        }
      ]
    },
    {
      "cell_type": "code",
      "source": [
        "pipe.score(X_test, y_test)"
      ],
      "metadata": {
        "colab": {
          "base_uri": "https://localhost:8080/"
        },
        "id": "yKimwBh_BtsK",
        "outputId": "7c8efebe-ad46-445d-d77a-027153de8573"
      },
      "execution_count": null,
      "outputs": [
        {
          "output_type": "execute_result",
          "data": {
            "text/plain": [
              "0.33816425120772947"
            ]
          },
          "metadata": {},
          "execution_count": 171
        }
      ]
    },
    {
      "cell_type": "code",
      "source": [
        "print(\"train:\", classification_report(y_train, pipe.predict(X_train)), \"\\ntest:\", classification_report(y_test, pipe.predict(X_test)))"
      ],
      "metadata": {
        "colab": {
          "base_uri": "https://localhost:8080/"
        },
        "id": "JC6pwT6uxemS",
        "outputId": "c984dbbe-6c71-445e-c61d-403e144f74be"
      },
      "execution_count": null,
      "outputs": [
        {
          "output_type": "stream",
          "name": "stdout",
          "text": [
            "train:               precision    recall  f1-score   support\n",
            "\n",
            "           0       0.89      0.97      0.93      1993\n",
            "           1       0.66      0.29      0.40       340\n",
            "\n",
            "    accuracy                           0.87      2333\n",
            "   macro avg       0.77      0.63      0.66      2333\n",
            "weighted avg       0.85      0.87      0.85      2333\n",
            " \n",
            "test:               precision    recall  f1-score   support\n",
            "\n",
            "           0       0.88      0.97      0.92       857\n",
            "           1       0.55      0.24      0.34       143\n",
            "\n",
            "    accuracy                           0.86      1000\n",
            "   macro avg       0.72      0.61      0.63      1000\n",
            "weighted avg       0.84      0.86      0.84      1000\n",
            "\n"
          ]
        }
      ]
    },
    {
      "cell_type": "markdown",
      "source": [
        "Качество модели не очень, но для f1 сойдет, переобучение очень небольшое"
      ],
      "metadata": {
        "id": "Gy0uZkv1oBU0"
      }
    },
    {
      "cell_type": "code",
      "source": [
        "from sklearn.metrics import accuracy_score as a, roc_auc_score as ra"
      ],
      "metadata": {
        "id": "XkmG7YD4Qq26"
      },
      "execution_count": null,
      "outputs": []
    },
    {
      "cell_type": "code",
      "source": [
        "print(\"F1-score:\", \"\\ntrain:\", f1_score(y_train, pipe.predict(X_train)), \"\\ntest:\", f1_score(y_test, pipe.predict(X_test)))\n",
        "print(\"\\n\\nROC-AUC:\", \"\\ntrain:\", ra(y_train, pipe.predict(X_train)), \"\\ntest:\", ra(y_test, pipe.predict(X_test)))"
      ],
      "metadata": {
        "colab": {
          "base_uri": "https://localhost:8080/"
        },
        "id": "Rc8e3CzMQRx-",
        "outputId": "1b341c27-fe55-4c37-89d5-b557e11b8218"
      },
      "execution_count": null,
      "outputs": [
        {
          "output_type": "stream",
          "name": "stdout",
          "text": [
            "F1-score: \n",
            "train: 0.3975409836065574 \n",
            "test: 0.33816425120772947\n",
            "\n",
            "\n",
            "ROC-AUC: \n",
            "train: 0.6298522770874531 \n",
            "test: 0.6054581357965255\n"
          ]
        }
      ]
    },
    {
      "cell_type": "markdown",
      "source": [
        "#B"
      ],
      "metadata": {
        "id": "o6U98QaRnjY-"
      }
    },
    {
      "cell_type": "code",
      "source": [
        "param_grid = {'C': [1, 0.1, 0.001, 0.0001],\n",
        "              'gamma': [10, 1, 0.01, 0.01, 0.0001],\n",
        "              'kernel': ['rbf', 'linear']} \n",
        "\n",
        "grid = make_pipeline(StandardScaler(), \n",
        "                    GridSearchCV(SVC(class_weight = \"balanced\"),\n",
        "                                 param_grid=param_grid,\n",
        "                                 scoring='f1',\n",
        "                                 cv=5))\n",
        "  \n",
        "\n",
        "grid.fit(X_train, y_train[:,0])\n",
        "\n",
        "print(grid.score(X_train, y_train))\n",
        "\n",
        "\n",
        "\n"
      ],
      "metadata": {
        "colab": {
          "base_uri": "https://localhost:8080/"
        },
        "id": "63Z0WOH8nKLv",
        "outputId": "3fce6b16-1c01-4c84-cccb-79fe46a362d5"
      },
      "execution_count": null,
      "outputs": [
        {
          "output_type": "stream",
          "name": "stdout",
          "text": [
            "0.6950517836593786\n"
          ]
        }
      ]
    },
    {
      "cell_type": "code",
      "source": [
        "grid.score(X_test, y_test)"
      ],
      "metadata": {
        "colab": {
          "base_uri": "https://localhost:8080/"
        },
        "id": "Bl5wW2FWo_VO",
        "outputId": "1c7b3630-104c-4008-c9ce-ccb797dcbd3c"
      },
      "execution_count": null,
      "outputs": [
        {
          "output_type": "execute_result",
          "data": {
            "text/plain": [
              "0.5567567567567568"
            ]
          },
          "metadata": {},
          "execution_count": 179
        }
      ]
    },
    {
      "cell_type": "code",
      "source": [
        "print(\"F1-score:\", \"\\ntrain:\", f1_score(y_train, grid.predict(X_train)), \"\\ntest:\", f1_score(y_test, grid.predict(X_test)))\n",
        "print(\"\\n\\nROC-AUC:\", \"\\ntrain:\", ra(y_train, grid.predict(X_train)), \"\\ntest:\", ra(y_test, grid.predict(X_test)))"
      ],
      "metadata": {
        "colab": {
          "base_uri": "https://localhost:8080/"
        },
        "id": "QO8ycbwGWQ50",
        "outputId": "7263992e-20c4-461d-9662-89748b64bc55"
      },
      "execution_count": null,
      "outputs": [
        {
          "output_type": "stream",
          "name": "stdout",
          "text": [
            "F1-score: \n",
            "train: 0.6950517836593786 \n",
            "test: 0.5567567567567568\n",
            "\n",
            "\n",
            "ROC-AUC: \n",
            "train: 0.8871683244296213 \n",
            "test: 0.7877944692413771\n"
          ]
        }
      ]
    },
    {
      "cell_type": "markdown",
      "source": [
        "Переобучение заметное, но качество модели приличнее, чем у регрессии"
      ],
      "metadata": {
        "id": "70JhARqR95bo"
      }
    },
    {
      "cell_type": "markdown",
      "source": [
        "#D\n"
      ],
      "metadata": {
        "id": "BvZgUqDl-Xip"
      }
    },
    {
      "cell_type": "markdown",
      "source": [
        "удалим не самые нужные признаки"
      ],
      "metadata": {
        "id": "w-DR383bzBU9"
      }
    },
    {
      "cell_type": "code",
      "source": [
        "s = {\"Churn\": {False: 0, True: 1}, \"International plan\": {\"No\": 0, \"Yes\": 1}, \"Voice mail plan\": {\"No\": 0, \"Yes\": 1}}\n",
        "\n",
        "tab = pd.read_csv(\"telecom_churn.csv\")\n",
        "tab = tab.replace(s)\n",
        "corr = tab.corr()\n",
        "corr.style.background_gradient(cmap='coolwarm')"
      ],
      "metadata": {
        "id": "YWyiXBp6-WY9",
        "colab": {
          "base_uri": "https://localhost:8080/",
          "height": 819
        },
        "outputId": "db15e7f5-488a-4d00-869d-d5592e1afade"
      },
      "execution_count": null,
      "outputs": [
        {
          "output_type": "execute_result",
          "data": {
            "text/plain": [
              "<pandas.io.formats.style.Styler at 0x7fea52515d00>"
            ],
            "text/html": [
              "<style type=\"text/css\">\n",
              "#T_62072_row0_col0, #T_62072_row1_col1, #T_62072_row2_col2, #T_62072_row3_col3, #T_62072_row4_col4, #T_62072_row5_col5, #T_62072_row5_col7, #T_62072_row6_col6, #T_62072_row7_col5, #T_62072_row7_col7, #T_62072_row8_col8, #T_62072_row8_col10, #T_62072_row9_col9, #T_62072_row10_col8, #T_62072_row10_col10, #T_62072_row11_col11, #T_62072_row11_col13, #T_62072_row12_col12, #T_62072_row13_col11, #T_62072_row13_col13, #T_62072_row14_col14, #T_62072_row14_col16, #T_62072_row15_col15, #T_62072_row16_col14, #T_62072_row16_col16, #T_62072_row17_col17, #T_62072_row18_col18 {\n",
              "  background-color: #b40426;\n",
              "  color: #f1f1f1;\n",
              "}\n",
              "#T_62072_row0_col1, #T_62072_row1_col6, #T_62072_row3_col5, #T_62072_row3_col6, #T_62072_row3_col7, #T_62072_row4_col0, #T_62072_row4_col6, #T_62072_row4_col17, #T_62072_row4_col18, #T_62072_row5_col14, #T_62072_row5_col16, #T_62072_row5_col17, #T_62072_row7_col14, #T_62072_row7_col16, #T_62072_row7_col17, #T_62072_row8_col17, #T_62072_row9_col8, #T_62072_row9_col10, #T_62072_row10_col17, #T_62072_row11_col8, #T_62072_row11_col9, #T_62072_row11_col10, #T_62072_row12_col17, #T_62072_row13_col8, #T_62072_row13_col9, #T_62072_row13_col10, #T_62072_row14_col8, #T_62072_row14_col10, #T_62072_row16_col8, #T_62072_row16_col10, #T_62072_row17_col0, #T_62072_row17_col8, #T_62072_row17_col10, #T_62072_row17_col14, #T_62072_row17_col16 {\n",
              "  background-color: #3d50c3;\n",
              "  color: #f1f1f1;\n",
              "}\n",
              "#T_62072_row0_col2, #T_62072_row1_col17, #T_62072_row6_col0, #T_62072_row6_col15, #T_62072_row8_col15, #T_62072_row10_col15 {\n",
              "  background-color: #4a63d3;\n",
              "  color: #f1f1f1;\n",
              "}\n",
              "#T_62072_row0_col3, #T_62072_row15_col4 {\n",
              "  background-color: #5875e1;\n",
              "  color: #f1f1f1;\n",
              "}\n",
              "#T_62072_row0_col4, #T_62072_row1_col2, #T_62072_row5_col2, #T_62072_row7_col2, #T_62072_row9_col4, #T_62072_row17_col3 {\n",
              "  background-color: #516ddb;\n",
              "  color: #f1f1f1;\n",
              "}\n",
              "#T_62072_row0_col5, #T_62072_row0_col7, #T_62072_row0_col11, #T_62072_row0_col13, #T_62072_row2_col9, #T_62072_row3_col0, #T_62072_row3_col14, #T_62072_row3_col16, #T_62072_row5_col0, #T_62072_row6_col9, #T_62072_row7_col0, #T_62072_row8_col11, #T_62072_row8_col13, #T_62072_row10_col11, #T_62072_row10_col13, #T_62072_row11_col1, #T_62072_row11_col5, #T_62072_row11_col7, #T_62072_row12_col9, #T_62072_row13_col1, #T_62072_row13_col5, #T_62072_row13_col7, #T_62072_row15_col11, #T_62072_row15_col12, #T_62072_row15_col13, #T_62072_row17_col11, #T_62072_row17_col13 {\n",
              "  background-color: #3f53c6;\n",
              "  color: #f1f1f1;\n",
              "}\n",
              "#T_62072_row0_col6, #T_62072_row2_col5, #T_62072_row2_col7 {\n",
              "  background-color: #4c66d6;\n",
              "  color: #f1f1f1;\n",
              "}\n",
              "#T_62072_row0_col8, #T_62072_row0_col10, #T_62072_row4_col5, #T_62072_row4_col7, #T_62072_row5_col1, #T_62072_row6_col1, #T_62072_row7_col1, #T_62072_row9_col1, #T_62072_row11_col17, #T_62072_row13_col17, #T_62072_row14_col11, #T_62072_row14_col13, #T_62072_row14_col17, #T_62072_row16_col11, #T_62072_row16_col13, #T_62072_row16_col17, #T_62072_row17_col9 {\n",
              "  background-color: #3e51c5;\n",
              "  color: #f1f1f1;\n",
              "}\n",
              "#T_62072_row0_col9, #T_62072_row0_col16, #T_62072_row5_col6, #T_62072_row5_col8, #T_62072_row5_col10, #T_62072_row7_col6, #T_62072_row7_col8, #T_62072_row7_col10, #T_62072_row9_col5, #T_62072_row9_col7, #T_62072_row11_col12, #T_62072_row12_col8, #T_62072_row12_col10, #T_62072_row13_col12, #T_62072_row15_col9, #T_62072_row18_col0, #T_62072_row18_col1 {\n",
              "  background-color: #4358cb;\n",
              "  color: #f1f1f1;\n",
              "}\n",
              "#T_62072_row0_col12, #T_62072_row1_col5, #T_62072_row1_col7, #T_62072_row3_col9, #T_62072_row3_col17, #T_62072_row4_col9, #T_62072_row6_col17, #T_62072_row8_col0, #T_62072_row8_col14, #T_62072_row8_col16, #T_62072_row10_col0, #T_62072_row10_col14, #T_62072_row10_col16, #T_62072_row11_col0, #T_62072_row12_col14, #T_62072_row12_col16, #T_62072_row13_col0, #T_62072_row14_col1, #T_62072_row14_col12, #T_62072_row15_col17, #T_62072_row16_col1, #T_62072_row16_col12, #T_62072_row17_col2, #T_62072_row17_col12 {\n",
              "  background-color: #3c4ec2;\n",
              "  color: #f1f1f1;\n",
              "}\n",
              "#T_62072_row0_col14, #T_62072_row1_col8, #T_62072_row1_col10, #T_62072_row1_col15, #T_62072_row2_col6, #T_62072_row4_col12, #T_62072_row5_col9, #T_62072_row7_col9, #T_62072_row8_col1, #T_62072_row8_col12, #T_62072_row9_col6, #T_62072_row9_col11, #T_62072_row9_col12, #T_62072_row9_col13, #T_62072_row9_col14, #T_62072_row9_col16, #T_62072_row9_col17, #T_62072_row10_col1, #T_62072_row10_col12, #T_62072_row15_col6, #T_62072_row15_col8, #T_62072_row15_col10, #T_62072_row18_col12 {\n",
              "  background-color: #4257c9;\n",
              "  color: #f1f1f1;\n",
              "}\n",
              "#T_62072_row0_col15, #T_62072_row2_col15, #T_62072_row9_col15, #T_62072_row17_col4 {\n",
              "  background-color: #4f69d9;\n",
              "  color: #f1f1f1;\n",
              "}\n",
              "#T_62072_row0_col17, #T_62072_row1_col11, #T_62072_row1_col13, #T_62072_row3_col1, #T_62072_row4_col1, #T_62072_row4_col14, #T_62072_row4_col16, #T_62072_row6_col5, #T_62072_row6_col7, #T_62072_row8_col5, #T_62072_row8_col7, #T_62072_row10_col5, #T_62072_row10_col7, #T_62072_row14_col0, #T_62072_row14_col9, #T_62072_row15_col5, #T_62072_row15_col7, #T_62072_row16_col0, #T_62072_row16_col9, #T_62072_row18_col9 {\n",
              "  background-color: #4055c8;\n",
              "  color: #f1f1f1;\n",
              "}\n",
              "#T_62072_row0_col18, #T_62072_row12_col3 {\n",
              "  background-color: #5b7ae5;\n",
              "  color: #f1f1f1;\n",
              "}\n",
              "#T_62072_row1_col0, #T_62072_row1_col9, #T_62072_row1_col14, #T_62072_row1_col16, #T_62072_row2_col11, #T_62072_row2_col13, #T_62072_row2_col17, #T_62072_row3_col18, #T_62072_row6_col8, #T_62072_row6_col10, #T_62072_row6_col12, #T_62072_row8_col6, #T_62072_row8_col9, #T_62072_row10_col6, #T_62072_row10_col9, #T_62072_row11_col2, #T_62072_row11_col14, #T_62072_row11_col16, #T_62072_row12_col0, #T_62072_row12_col6, #T_62072_row13_col2, #T_62072_row13_col14, #T_62072_row13_col16, #T_62072_row14_col5, #T_62072_row14_col7, #T_62072_row15_col1, #T_62072_row16_col5, #T_62072_row16_col7, #T_62072_row17_col5, #T_62072_row17_col6, #T_62072_row17_col7, #T_62072_row18_col3, #T_62072_row18_col4, #T_62072_row18_col15 {\n",
              "  background-color: #3b4cc0;\n",
              "  color: #f1f1f1;\n",
              "}\n",
              "#T_62072_row1_col3, #T_62072_row2_col4, #T_62072_row5_col3, #T_62072_row7_col3, #T_62072_row14_col3, #T_62072_row16_col3 {\n",
              "  background-color: #5673e0;\n",
              "  color: #f1f1f1;\n",
              "}\n",
              "#T_62072_row1_col4, #T_62072_row14_col15, #T_62072_row16_col15 {\n",
              "  background-color: #536edd;\n",
              "  color: #f1f1f1;\n",
              "}\n",
              "#T_62072_row1_col12, #T_62072_row2_col0, #T_62072_row4_col2, #T_62072_row4_col8, #T_62072_row4_col10, #T_62072_row4_col11, #T_62072_row4_col13, #T_62072_row11_col15, #T_62072_row12_col5, #T_62072_row12_col7, #T_62072_row12_col11, #T_62072_row12_col13, #T_62072_row13_col15 {\n",
              "  background-color: #455cce;\n",
              "  color: #f1f1f1;\n",
              "}\n",
              "#T_62072_row1_col18, #T_62072_row2_col3, #T_62072_row8_col4, #T_62072_row9_col18, #T_62072_row10_col4, #T_62072_row11_col3, #T_62072_row12_col18, #T_62072_row13_col3, #T_62072_row15_col3 {\n",
              "  background-color: #5977e3;\n",
              "  color: #f1f1f1;\n",
              "}\n",
              "#T_62072_row2_col1, #T_62072_row6_col4, #T_62072_row14_col2, #T_62072_row16_col2 {\n",
              "  background-color: #506bda;\n",
              "  color: #f1f1f1;\n",
              "}\n",
              "#T_62072_row2_col8, #T_62072_row2_col10, #T_62072_row3_col8, #T_62072_row3_col10, #T_62072_row5_col12, #T_62072_row6_col14, #T_62072_row6_col16, #T_62072_row7_col12, #T_62072_row12_col1, #T_62072_row12_col2, #T_62072_row14_col6, #T_62072_row16_col6, #T_62072_row18_col6 {\n",
              "  background-color: #465ecf;\n",
              "  color: #f1f1f1;\n",
              "}\n",
              "#T_62072_row2_col12, #T_62072_row3_col2, #T_62072_row3_col11, #T_62072_row3_col12, #T_62072_row3_col13, #T_62072_row5_col11, #T_62072_row5_col13, #T_62072_row6_col2, #T_62072_row7_col11, #T_62072_row7_col13, #T_62072_row9_col0, #T_62072_row9_col2, #T_62072_row15_col0, #T_62072_row17_col15 {\n",
              "  background-color: #445acc;\n",
              "  color: #f1f1f1;\n",
              "}\n",
              "#T_62072_row2_col14, #T_62072_row2_col16, #T_62072_row4_col15, #T_62072_row18_col11, #T_62072_row18_col13 {\n",
              "  background-color: #4e68d8;\n",
              "  color: #f1f1f1;\n",
              "}\n",
              "#T_62072_row2_col18 {\n",
              "  background-color: #a9c6fd;\n",
              "  color: #000000;\n",
              "}\n",
              "#T_62072_row3_col4, #T_62072_row4_col3 {\n",
              "  background-color: #c32e31;\n",
              "  color: #f1f1f1;\n",
              "}\n",
              "#T_62072_row3_col15, #T_62072_row5_col15, #T_62072_row7_col15 {\n",
              "  background-color: #4b64d5;\n",
              "  color: #f1f1f1;\n",
              "}\n",
              "#T_62072_row5_col4, #T_62072_row6_col3, #T_62072_row7_col4, #T_62072_row14_col4, #T_62072_row16_col4, #T_62072_row18_col14, #T_62072_row18_col16 {\n",
              "  background-color: #5470de;\n",
              "  color: #f1f1f1;\n",
              "}\n",
              "#T_62072_row5_col18, #T_62072_row7_col18, #T_62072_row18_col2 {\n",
              "  background-color: #97b8ff;\n",
              "  color: #000000;\n",
              "}\n",
              "#T_62072_row6_col11, #T_62072_row6_col13, #T_62072_row12_col15, #T_62072_row15_col14, #T_62072_row15_col16, #T_62072_row17_col1 {\n",
              "  background-color: #4961d2;\n",
              "  color: #f1f1f1;\n",
              "}\n",
              "#T_62072_row6_col18, #T_62072_row8_col3, #T_62072_row10_col3, #T_62072_row18_col8, #T_62072_row18_col10 {\n",
              "  background-color: #5d7ce6;\n",
              "  color: #f1f1f1;\n",
              "}\n",
              "#T_62072_row8_col2, #T_62072_row10_col2, #T_62072_row11_col6, #T_62072_row13_col6, #T_62072_row15_col2, #T_62072_row15_col18 {\n",
              "  background-color: #485fd1;\n",
              "  color: #f1f1f1;\n",
              "}\n",
              "#T_62072_row8_col18, #T_62072_row10_col18 {\n",
              "  background-color: #7396f5;\n",
              "  color: #f1f1f1;\n",
              "}\n",
              "#T_62072_row9_col3, #T_62072_row11_col4, #T_62072_row12_col4, #T_62072_row13_col4 {\n",
              "  background-color: #5572df;\n",
              "  color: #f1f1f1;\n",
              "}\n",
              "#T_62072_row11_col18, #T_62072_row13_col18 {\n",
              "  background-color: #6180e9;\n",
              "  color: #f1f1f1;\n",
              "}\n",
              "#T_62072_row14_col18, #T_62072_row16_col18 {\n",
              "  background-color: #6b8df0;\n",
              "  color: #f1f1f1;\n",
              "}\n",
              "#T_62072_row17_col18 {\n",
              "  background-color: #98b9ff;\n",
              "  color: #000000;\n",
              "}\n",
              "#T_62072_row18_col5, #T_62072_row18_col7 {\n",
              "  background-color: #81a4fb;\n",
              "  color: #f1f1f1;\n",
              "}\n",
              "#T_62072_row18_col17 {\n",
              "  background-color: #85a8fc;\n",
              "  color: #f1f1f1;\n",
              "}\n",
              "</style>\n",
              "<table id=\"T_62072\" class=\"dataframe\">\n",
              "  <thead>\n",
              "    <tr>\n",
              "      <th class=\"blank level0\" >&nbsp;</th>\n",
              "      <th id=\"T_62072_level0_col0\" class=\"col_heading level0 col0\" >Account length</th>\n",
              "      <th id=\"T_62072_level0_col1\" class=\"col_heading level0 col1\" >Area code</th>\n",
              "      <th id=\"T_62072_level0_col2\" class=\"col_heading level0 col2\" >International plan</th>\n",
              "      <th id=\"T_62072_level0_col3\" class=\"col_heading level0 col3\" >Voice mail plan</th>\n",
              "      <th id=\"T_62072_level0_col4\" class=\"col_heading level0 col4\" >Number vmail messages</th>\n",
              "      <th id=\"T_62072_level0_col5\" class=\"col_heading level0 col5\" >Total day minutes</th>\n",
              "      <th id=\"T_62072_level0_col6\" class=\"col_heading level0 col6\" >Total day calls</th>\n",
              "      <th id=\"T_62072_level0_col7\" class=\"col_heading level0 col7\" >Total day charge</th>\n",
              "      <th id=\"T_62072_level0_col8\" class=\"col_heading level0 col8\" >Total eve minutes</th>\n",
              "      <th id=\"T_62072_level0_col9\" class=\"col_heading level0 col9\" >Total eve calls</th>\n",
              "      <th id=\"T_62072_level0_col10\" class=\"col_heading level0 col10\" >Total eve charge</th>\n",
              "      <th id=\"T_62072_level0_col11\" class=\"col_heading level0 col11\" >Total night minutes</th>\n",
              "      <th id=\"T_62072_level0_col12\" class=\"col_heading level0 col12\" >Total night calls</th>\n",
              "      <th id=\"T_62072_level0_col13\" class=\"col_heading level0 col13\" >Total night charge</th>\n",
              "      <th id=\"T_62072_level0_col14\" class=\"col_heading level0 col14\" >Total intl minutes</th>\n",
              "      <th id=\"T_62072_level0_col15\" class=\"col_heading level0 col15\" >Total intl calls</th>\n",
              "      <th id=\"T_62072_level0_col16\" class=\"col_heading level0 col16\" >Total intl charge</th>\n",
              "      <th id=\"T_62072_level0_col17\" class=\"col_heading level0 col17\" >Customer service calls</th>\n",
              "      <th id=\"T_62072_level0_col18\" class=\"col_heading level0 col18\" >Churn</th>\n",
              "    </tr>\n",
              "  </thead>\n",
              "  <tbody>\n",
              "    <tr>\n",
              "      <th id=\"T_62072_level0_row0\" class=\"row_heading level0 row0\" >Account length</th>\n",
              "      <td id=\"T_62072_row0_col0\" class=\"data row0 col0\" >1.000000</td>\n",
              "      <td id=\"T_62072_row0_col1\" class=\"data row0 col1\" >-0.012463</td>\n",
              "      <td id=\"T_62072_row0_col2\" class=\"data row0 col2\" >0.024735</td>\n",
              "      <td id=\"T_62072_row0_col3\" class=\"data row0 col3\" >0.002918</td>\n",
              "      <td id=\"T_62072_row0_col4\" class=\"data row0 col4\" >-0.004628</td>\n",
              "      <td id=\"T_62072_row0_col5\" class=\"data row0 col5\" >0.006216</td>\n",
              "      <td id=\"T_62072_row0_col6\" class=\"data row0 col6\" >0.038470</td>\n",
              "      <td id=\"T_62072_row0_col7\" class=\"data row0 col7\" >0.006214</td>\n",
              "      <td id=\"T_62072_row0_col8\" class=\"data row0 col8\" >-0.006757</td>\n",
              "      <td id=\"T_62072_row0_col9\" class=\"data row0 col9\" >0.019260</td>\n",
              "      <td id=\"T_62072_row0_col10\" class=\"data row0 col10\" >-0.006745</td>\n",
              "      <td id=\"T_62072_row0_col11\" class=\"data row0 col11\" >-0.008955</td>\n",
              "      <td id=\"T_62072_row0_col12\" class=\"data row0 col12\" >-0.013176</td>\n",
              "      <td id=\"T_62072_row0_col13\" class=\"data row0 col13\" >-0.008960</td>\n",
              "      <td id=\"T_62072_row0_col14\" class=\"data row0 col14\" >0.009514</td>\n",
              "      <td id=\"T_62072_row0_col15\" class=\"data row0 col15\" >0.020661</td>\n",
              "      <td id=\"T_62072_row0_col16\" class=\"data row0 col16\" >0.009546</td>\n",
              "      <td id=\"T_62072_row0_col17\" class=\"data row0 col17\" >-0.003796</td>\n",
              "      <td id=\"T_62072_row0_col18\" class=\"data row0 col18\" >0.016541</td>\n",
              "    </tr>\n",
              "    <tr>\n",
              "      <th id=\"T_62072_level0_row1\" class=\"row_heading level0 row1\" >Area code</th>\n",
              "      <td id=\"T_62072_row1_col0\" class=\"data row1 col0\" >-0.012463</td>\n",
              "      <td id=\"T_62072_row1_col1\" class=\"data row1 col1\" >1.000000</td>\n",
              "      <td id=\"T_62072_row1_col2\" class=\"data row1 col2\" >0.048551</td>\n",
              "      <td id=\"T_62072_row1_col3\" class=\"data row1 col3\" >-0.000747</td>\n",
              "      <td id=\"T_62072_row1_col4\" class=\"data row1 col4\" >-0.001994</td>\n",
              "      <td id=\"T_62072_row1_col5\" class=\"data row1 col5\" >-0.008264</td>\n",
              "      <td id=\"T_62072_row1_col6\" class=\"data row1 col6\" >-0.009646</td>\n",
              "      <td id=\"T_62072_row1_col7\" class=\"data row1 col7\" >-0.008264</td>\n",
              "      <td id=\"T_62072_row1_col8\" class=\"data row1 col8\" >0.003580</td>\n",
              "      <td id=\"T_62072_row1_col9\" class=\"data row1 col9\" >-0.011886</td>\n",
              "      <td id=\"T_62072_row1_col10\" class=\"data row1 col10\" >0.003607</td>\n",
              "      <td id=\"T_62072_row1_col11\" class=\"data row1 col11\" >-0.005825</td>\n",
              "      <td id=\"T_62072_row1_col12\" class=\"data row1 col12\" >0.016522</td>\n",
              "      <td id=\"T_62072_row1_col13\" class=\"data row1 col13\" >-0.005845</td>\n",
              "      <td id=\"T_62072_row1_col14\" class=\"data row1 col14\" >-0.018288</td>\n",
              "      <td id=\"T_62072_row1_col15\" class=\"data row1 col15\" >-0.024179</td>\n",
              "      <td id=\"T_62072_row1_col16\" class=\"data row1 col16\" >-0.018395</td>\n",
              "      <td id=\"T_62072_row1_col17\" class=\"data row1 col17\" >0.027572</td>\n",
              "      <td id=\"T_62072_row1_col18\" class=\"data row1 col18\" >0.006174</td>\n",
              "    </tr>\n",
              "    <tr>\n",
              "      <th id=\"T_62072_level0_row2\" class=\"row_heading level0 row2\" >International plan</th>\n",
              "      <td id=\"T_62072_row2_col0\" class=\"data row2 col0\" >0.024735</td>\n",
              "      <td id=\"T_62072_row2_col1\" class=\"data row2 col1\" >0.048551</td>\n",
              "      <td id=\"T_62072_row2_col2\" class=\"data row2 col2\" >1.000000</td>\n",
              "      <td id=\"T_62072_row2_col3\" class=\"data row2 col3\" >0.006006</td>\n",
              "      <td id=\"T_62072_row2_col4\" class=\"data row2 col4\" >0.008745</td>\n",
              "      <td id=\"T_62072_row2_col5\" class=\"data row2 col5\" >0.049396</td>\n",
              "      <td id=\"T_62072_row2_col6\" class=\"data row2 col6\" >0.003755</td>\n",
              "      <td id=\"T_62072_row2_col7\" class=\"data row2 col7\" >0.049398</td>\n",
              "      <td id=\"T_62072_row2_col8\" class=\"data row2 col8\" >0.019100</td>\n",
              "      <td id=\"T_62072_row2_col9\" class=\"data row2 col9\" >0.006114</td>\n",
              "      <td id=\"T_62072_row2_col10\" class=\"data row2 col10\" >0.019106</td>\n",
              "      <td id=\"T_62072_row2_col11\" class=\"data row2 col11\" >-0.028905</td>\n",
              "      <td id=\"T_62072_row2_col12\" class=\"data row2 col12\" >0.012451</td>\n",
              "      <td id=\"T_62072_row2_col13\" class=\"data row2 col13\" >-0.028913</td>\n",
              "      <td id=\"T_62072_row2_col14\" class=\"data row2 col14\" >0.045871</td>\n",
              "      <td id=\"T_62072_row2_col15\" class=\"data row2 col15\" >0.017366</td>\n",
              "      <td id=\"T_62072_row2_col16\" class=\"data row2 col16\" >0.045780</td>\n",
              "      <td id=\"T_62072_row2_col17\" class=\"data row2 col17\" >-0.024522</td>\n",
              "      <td id=\"T_62072_row2_col18\" class=\"data row2 col18\" >0.259852</td>\n",
              "    </tr>\n",
              "    <tr>\n",
              "      <th id=\"T_62072_level0_row3\" class=\"row_heading level0 row3\" >Voice mail plan</th>\n",
              "      <td id=\"T_62072_row3_col0\" class=\"data row3 col0\" >0.002918</td>\n",
              "      <td id=\"T_62072_row3_col1\" class=\"data row3 col1\" >-0.000747</td>\n",
              "      <td id=\"T_62072_row3_col2\" class=\"data row3 col2\" >0.006006</td>\n",
              "      <td id=\"T_62072_row3_col3\" class=\"data row3 col3\" >1.000000</td>\n",
              "      <td id=\"T_62072_row3_col4\" class=\"data row3 col4\" >0.956927</td>\n",
              "      <td id=\"T_62072_row3_col5\" class=\"data row3 col5\" >-0.001684</td>\n",
              "      <td id=\"T_62072_row3_col6\" class=\"data row3 col6\" >-0.011086</td>\n",
              "      <td id=\"T_62072_row3_col7\" class=\"data row3 col7\" >-0.001686</td>\n",
              "      <td id=\"T_62072_row3_col8\" class=\"data row3 col8\" >0.021545</td>\n",
              "      <td id=\"T_62072_row3_col9\" class=\"data row3 col9\" >-0.006444</td>\n",
              "      <td id=\"T_62072_row3_col10\" class=\"data row3 col10\" >0.021559</td>\n",
              "      <td id=\"T_62072_row3_col11\" class=\"data row3 col11\" >0.006079</td>\n",
              "      <td id=\"T_62072_row3_col12\" class=\"data row3 col12\" >0.015553</td>\n",
              "      <td id=\"T_62072_row3_col13\" class=\"data row3 col13\" >0.006064</td>\n",
              "      <td id=\"T_62072_row3_col14\" class=\"data row3 col14\" >-0.001318</td>\n",
              "      <td id=\"T_62072_row3_col15\" class=\"data row3 col15\" >0.007618</td>\n",
              "      <td id=\"T_62072_row3_col16\" class=\"data row3 col16\" >-0.001276</td>\n",
              "      <td id=\"T_62072_row3_col17\" class=\"data row3 col17\" >-0.017824</td>\n",
              "      <td id=\"T_62072_row3_col18\" class=\"data row3 col18\" >-0.102148</td>\n",
              "    </tr>\n",
              "    <tr>\n",
              "      <th id=\"T_62072_level0_row4\" class=\"row_heading level0 row4\" >Number vmail messages</th>\n",
              "      <td id=\"T_62072_row4_col0\" class=\"data row4 col0\" >-0.004628</td>\n",
              "      <td id=\"T_62072_row4_col1\" class=\"data row4 col1\" >-0.001994</td>\n",
              "      <td id=\"T_62072_row4_col2\" class=\"data row4 col2\" >0.008745</td>\n",
              "      <td id=\"T_62072_row4_col3\" class=\"data row4 col3\" >0.956927</td>\n",
              "      <td id=\"T_62072_row4_col4\" class=\"data row4 col4\" >1.000000</td>\n",
              "      <td id=\"T_62072_row4_col5\" class=\"data row4 col5\" >0.000778</td>\n",
              "      <td id=\"T_62072_row4_col6\" class=\"data row4 col6\" >-0.009548</td>\n",
              "      <td id=\"T_62072_row4_col7\" class=\"data row4 col7\" >0.000776</td>\n",
              "      <td id=\"T_62072_row4_col8\" class=\"data row4 col8\" >0.017562</td>\n",
              "      <td id=\"T_62072_row4_col9\" class=\"data row4 col9\" >-0.005864</td>\n",
              "      <td id=\"T_62072_row4_col10\" class=\"data row4 col10\" >0.017578</td>\n",
              "      <td id=\"T_62072_row4_col11\" class=\"data row4 col11\" >0.007681</td>\n",
              "      <td id=\"T_62072_row4_col12\" class=\"data row4 col12\" >0.007123</td>\n",
              "      <td id=\"T_62072_row4_col13\" class=\"data row4 col13\" >0.007663</td>\n",
              "      <td id=\"T_62072_row4_col14\" class=\"data row4 col14\" >0.002856</td>\n",
              "      <td id=\"T_62072_row4_col15\" class=\"data row4 col15\" >0.013957</td>\n",
              "      <td id=\"T_62072_row4_col16\" class=\"data row4 col16\" >0.002884</td>\n",
              "      <td id=\"T_62072_row4_col17\" class=\"data row4 col17\" >-0.013263</td>\n",
              "      <td id=\"T_62072_row4_col18\" class=\"data row4 col18\" >-0.089728</td>\n",
              "    </tr>\n",
              "    <tr>\n",
              "      <th id=\"T_62072_level0_row5\" class=\"row_heading level0 row5\" >Total day minutes</th>\n",
              "      <td id=\"T_62072_row5_col0\" class=\"data row5 col0\" >0.006216</td>\n",
              "      <td id=\"T_62072_row5_col1\" class=\"data row5 col1\" >-0.008264</td>\n",
              "      <td id=\"T_62072_row5_col2\" class=\"data row5 col2\" >0.049396</td>\n",
              "      <td id=\"T_62072_row5_col3\" class=\"data row5 col3\" >-0.001684</td>\n",
              "      <td id=\"T_62072_row5_col4\" class=\"data row5 col4\" >0.000778</td>\n",
              "      <td id=\"T_62072_row5_col5\" class=\"data row5 col5\" >1.000000</td>\n",
              "      <td id=\"T_62072_row5_col6\" class=\"data row5 col6\" >0.006750</td>\n",
              "      <td id=\"T_62072_row5_col7\" class=\"data row5 col7\" >1.000000</td>\n",
              "      <td id=\"T_62072_row5_col8\" class=\"data row5 col8\" >0.007043</td>\n",
              "      <td id=\"T_62072_row5_col9\" class=\"data row5 col9\" >0.015769</td>\n",
              "      <td id=\"T_62072_row5_col10\" class=\"data row5 col10\" >0.007029</td>\n",
              "      <td id=\"T_62072_row5_col11\" class=\"data row5 col11\" >0.004323</td>\n",
              "      <td id=\"T_62072_row5_col12\" class=\"data row5 col12\" >0.022972</td>\n",
              "      <td id=\"T_62072_row5_col13\" class=\"data row5 col13\" >0.004300</td>\n",
              "      <td id=\"T_62072_row5_col14\" class=\"data row5 col14\" >-0.010155</td>\n",
              "      <td id=\"T_62072_row5_col15\" class=\"data row5 col15\" >0.008033</td>\n",
              "      <td id=\"T_62072_row5_col16\" class=\"data row5 col16\" >-0.010092</td>\n",
              "      <td id=\"T_62072_row5_col17\" class=\"data row5 col17\" >-0.013423</td>\n",
              "      <td id=\"T_62072_row5_col18\" class=\"data row5 col18\" >0.205151</td>\n",
              "    </tr>\n",
              "    <tr>\n",
              "      <th id=\"T_62072_level0_row6\" class=\"row_heading level0 row6\" >Total day calls</th>\n",
              "      <td id=\"T_62072_row6_col0\" class=\"data row6 col0\" >0.038470</td>\n",
              "      <td id=\"T_62072_row6_col1\" class=\"data row6 col1\" >-0.009646</td>\n",
              "      <td id=\"T_62072_row6_col2\" class=\"data row6 col2\" >0.003755</td>\n",
              "      <td id=\"T_62072_row6_col3\" class=\"data row6 col3\" >-0.011086</td>\n",
              "      <td id=\"T_62072_row6_col4\" class=\"data row6 col4\" >-0.009548</td>\n",
              "      <td id=\"T_62072_row6_col5\" class=\"data row6 col5\" >0.006750</td>\n",
              "      <td id=\"T_62072_row6_col6\" class=\"data row6 col6\" >1.000000</td>\n",
              "      <td id=\"T_62072_row6_col7\" class=\"data row6 col7\" >0.006753</td>\n",
              "      <td id=\"T_62072_row6_col8\" class=\"data row6 col8\" >-0.021451</td>\n",
              "      <td id=\"T_62072_row6_col9\" class=\"data row6 col9\" >0.006462</td>\n",
              "      <td id=\"T_62072_row6_col10\" class=\"data row6 col10\" >-0.021449</td>\n",
              "      <td id=\"T_62072_row6_col11\" class=\"data row6 col11\" >0.022938</td>\n",
              "      <td id=\"T_62072_row6_col12\" class=\"data row6 col12\" >-0.019557</td>\n",
              "      <td id=\"T_62072_row6_col13\" class=\"data row6 col13\" >0.022927</td>\n",
              "      <td id=\"T_62072_row6_col14\" class=\"data row6 col14\" >0.021565</td>\n",
              "      <td id=\"T_62072_row6_col15\" class=\"data row6 col15\" >0.004574</td>\n",
              "      <td id=\"T_62072_row6_col16\" class=\"data row6 col16\" >0.021666</td>\n",
              "      <td id=\"T_62072_row6_col17\" class=\"data row6 col17\" >-0.018942</td>\n",
              "      <td id=\"T_62072_row6_col18\" class=\"data row6 col18\" >0.018459</td>\n",
              "    </tr>\n",
              "    <tr>\n",
              "      <th id=\"T_62072_level0_row7\" class=\"row_heading level0 row7\" >Total day charge</th>\n",
              "      <td id=\"T_62072_row7_col0\" class=\"data row7 col0\" >0.006214</td>\n",
              "      <td id=\"T_62072_row7_col1\" class=\"data row7 col1\" >-0.008264</td>\n",
              "      <td id=\"T_62072_row7_col2\" class=\"data row7 col2\" >0.049398</td>\n",
              "      <td id=\"T_62072_row7_col3\" class=\"data row7 col3\" >-0.001686</td>\n",
              "      <td id=\"T_62072_row7_col4\" class=\"data row7 col4\" >0.000776</td>\n",
              "      <td id=\"T_62072_row7_col5\" class=\"data row7 col5\" >1.000000</td>\n",
              "      <td id=\"T_62072_row7_col6\" class=\"data row7 col6\" >0.006753</td>\n",
              "      <td id=\"T_62072_row7_col7\" class=\"data row7 col7\" >1.000000</td>\n",
              "      <td id=\"T_62072_row7_col8\" class=\"data row7 col8\" >0.007050</td>\n",
              "      <td id=\"T_62072_row7_col9\" class=\"data row7 col9\" >0.015769</td>\n",
              "      <td id=\"T_62072_row7_col10\" class=\"data row7 col10\" >0.007036</td>\n",
              "      <td id=\"T_62072_row7_col11\" class=\"data row7 col11\" >0.004324</td>\n",
              "      <td id=\"T_62072_row7_col12\" class=\"data row7 col12\" >0.022972</td>\n",
              "      <td id=\"T_62072_row7_col13\" class=\"data row7 col13\" >0.004301</td>\n",
              "      <td id=\"T_62072_row7_col14\" class=\"data row7 col14\" >-0.010157</td>\n",
              "      <td id=\"T_62072_row7_col15\" class=\"data row7 col15\" >0.008032</td>\n",
              "      <td id=\"T_62072_row7_col16\" class=\"data row7 col16\" >-0.010094</td>\n",
              "      <td id=\"T_62072_row7_col17\" class=\"data row7 col17\" >-0.013427</td>\n",
              "      <td id=\"T_62072_row7_col18\" class=\"data row7 col18\" >0.205151</td>\n",
              "    </tr>\n",
              "    <tr>\n",
              "      <th id=\"T_62072_level0_row8\" class=\"row_heading level0 row8\" >Total eve minutes</th>\n",
              "      <td id=\"T_62072_row8_col0\" class=\"data row8 col0\" >-0.006757</td>\n",
              "      <td id=\"T_62072_row8_col1\" class=\"data row8 col1\" >0.003580</td>\n",
              "      <td id=\"T_62072_row8_col2\" class=\"data row8 col2\" >0.019100</td>\n",
              "      <td id=\"T_62072_row8_col3\" class=\"data row8 col3\" >0.021545</td>\n",
              "      <td id=\"T_62072_row8_col4\" class=\"data row8 col4\" >0.017562</td>\n",
              "      <td id=\"T_62072_row8_col5\" class=\"data row8 col5\" >0.007043</td>\n",
              "      <td id=\"T_62072_row8_col6\" class=\"data row8 col6\" >-0.021451</td>\n",
              "      <td id=\"T_62072_row8_col7\" class=\"data row8 col7\" >0.007050</td>\n",
              "      <td id=\"T_62072_row8_col8\" class=\"data row8 col8\" >1.000000</td>\n",
              "      <td id=\"T_62072_row8_col9\" class=\"data row8 col9\" >-0.011430</td>\n",
              "      <td id=\"T_62072_row8_col10\" class=\"data row8 col10\" >1.000000</td>\n",
              "      <td id=\"T_62072_row8_col11\" class=\"data row8 col11\" >-0.012584</td>\n",
              "      <td id=\"T_62072_row8_col12\" class=\"data row8 col12\" >0.007586</td>\n",
              "      <td id=\"T_62072_row8_col13\" class=\"data row8 col13\" >-0.012593</td>\n",
              "      <td id=\"T_62072_row8_col14\" class=\"data row8 col14\" >-0.011035</td>\n",
              "      <td id=\"T_62072_row8_col15\" class=\"data row8 col15\" >0.002541</td>\n",
              "      <td id=\"T_62072_row8_col16\" class=\"data row8 col16\" >-0.011067</td>\n",
              "      <td id=\"T_62072_row8_col17\" class=\"data row8 col17\" >-0.012985</td>\n",
              "      <td id=\"T_62072_row8_col18\" class=\"data row8 col18\" >0.092796</td>\n",
              "    </tr>\n",
              "    <tr>\n",
              "      <th id=\"T_62072_level0_row9\" class=\"row_heading level0 row9\" >Total eve calls</th>\n",
              "      <td id=\"T_62072_row9_col0\" class=\"data row9 col0\" >0.019260</td>\n",
              "      <td id=\"T_62072_row9_col1\" class=\"data row9 col1\" >-0.011886</td>\n",
              "      <td id=\"T_62072_row9_col2\" class=\"data row9 col2\" >0.006114</td>\n",
              "      <td id=\"T_62072_row9_col3\" class=\"data row9 col3\" >-0.006444</td>\n",
              "      <td id=\"T_62072_row9_col4\" class=\"data row9 col4\" >-0.005864</td>\n",
              "      <td id=\"T_62072_row9_col5\" class=\"data row9 col5\" >0.015769</td>\n",
              "      <td id=\"T_62072_row9_col6\" class=\"data row9 col6\" >0.006462</td>\n",
              "      <td id=\"T_62072_row9_col7\" class=\"data row9 col7\" >0.015769</td>\n",
              "      <td id=\"T_62072_row9_col8\" class=\"data row9 col8\" >-0.011430</td>\n",
              "      <td id=\"T_62072_row9_col9\" class=\"data row9 col9\" >1.000000</td>\n",
              "      <td id=\"T_62072_row9_col10\" class=\"data row9 col10\" >-0.011423</td>\n",
              "      <td id=\"T_62072_row9_col11\" class=\"data row9 col11\" >-0.002093</td>\n",
              "      <td id=\"T_62072_row9_col12\" class=\"data row9 col12\" >0.007710</td>\n",
              "      <td id=\"T_62072_row9_col13\" class=\"data row9 col13\" >-0.002056</td>\n",
              "      <td id=\"T_62072_row9_col14\" class=\"data row9 col14\" >0.008703</td>\n",
              "      <td id=\"T_62072_row9_col15\" class=\"data row9 col15\" >0.017434</td>\n",
              "      <td id=\"T_62072_row9_col16\" class=\"data row9 col16\" >0.008674</td>\n",
              "      <td id=\"T_62072_row9_col17\" class=\"data row9 col17\" >0.002423</td>\n",
              "      <td id=\"T_62072_row9_col18\" class=\"data row9 col18\" >0.009233</td>\n",
              "    </tr>\n",
              "    <tr>\n",
              "      <th id=\"T_62072_level0_row10\" class=\"row_heading level0 row10\" >Total eve charge</th>\n",
              "      <td id=\"T_62072_row10_col0\" class=\"data row10 col0\" >-0.006745</td>\n",
              "      <td id=\"T_62072_row10_col1\" class=\"data row10 col1\" >0.003607</td>\n",
              "      <td id=\"T_62072_row10_col2\" class=\"data row10 col2\" >0.019106</td>\n",
              "      <td id=\"T_62072_row10_col3\" class=\"data row10 col3\" >0.021559</td>\n",
              "      <td id=\"T_62072_row10_col4\" class=\"data row10 col4\" >0.017578</td>\n",
              "      <td id=\"T_62072_row10_col5\" class=\"data row10 col5\" >0.007029</td>\n",
              "      <td id=\"T_62072_row10_col6\" class=\"data row10 col6\" >-0.021449</td>\n",
              "      <td id=\"T_62072_row10_col7\" class=\"data row10 col7\" >0.007036</td>\n",
              "      <td id=\"T_62072_row10_col8\" class=\"data row10 col8\" >1.000000</td>\n",
              "      <td id=\"T_62072_row10_col9\" class=\"data row10 col9\" >-0.011423</td>\n",
              "      <td id=\"T_62072_row10_col10\" class=\"data row10 col10\" >1.000000</td>\n",
              "      <td id=\"T_62072_row10_col11\" class=\"data row10 col11\" >-0.012592</td>\n",
              "      <td id=\"T_62072_row10_col12\" class=\"data row10 col12\" >0.007596</td>\n",
              "      <td id=\"T_62072_row10_col13\" class=\"data row10 col13\" >-0.012601</td>\n",
              "      <td id=\"T_62072_row10_col14\" class=\"data row10 col14\" >-0.011043</td>\n",
              "      <td id=\"T_62072_row10_col15\" class=\"data row10 col15\" >0.002541</td>\n",
              "      <td id=\"T_62072_row10_col16\" class=\"data row10 col16\" >-0.011074</td>\n",
              "      <td id=\"T_62072_row10_col17\" class=\"data row10 col17\" >-0.012987</td>\n",
              "      <td id=\"T_62072_row10_col18\" class=\"data row10 col18\" >0.092786</td>\n",
              "    </tr>\n",
              "    <tr>\n",
              "      <th id=\"T_62072_level0_row11\" class=\"row_heading level0 row11\" >Total night minutes</th>\n",
              "      <td id=\"T_62072_row11_col0\" class=\"data row11 col0\" >-0.008955</td>\n",
              "      <td id=\"T_62072_row11_col1\" class=\"data row11 col1\" >-0.005825</td>\n",
              "      <td id=\"T_62072_row11_col2\" class=\"data row11 col2\" >-0.028905</td>\n",
              "      <td id=\"T_62072_row11_col3\" class=\"data row11 col3\" >0.006079</td>\n",
              "      <td id=\"T_62072_row11_col4\" class=\"data row11 col4\" >0.007681</td>\n",
              "      <td id=\"T_62072_row11_col5\" class=\"data row11 col5\" >0.004323</td>\n",
              "      <td id=\"T_62072_row11_col6\" class=\"data row11 col6\" >0.022938</td>\n",
              "      <td id=\"T_62072_row11_col7\" class=\"data row11 col7\" >0.004324</td>\n",
              "      <td id=\"T_62072_row11_col8\" class=\"data row11 col8\" >-0.012584</td>\n",
              "      <td id=\"T_62072_row11_col9\" class=\"data row11 col9\" >-0.002093</td>\n",
              "      <td id=\"T_62072_row11_col10\" class=\"data row11 col10\" >-0.012592</td>\n",
              "      <td id=\"T_62072_row11_col11\" class=\"data row11 col11\" >1.000000</td>\n",
              "      <td id=\"T_62072_row11_col12\" class=\"data row11 col12\" >0.011204</td>\n",
              "      <td id=\"T_62072_row11_col13\" class=\"data row11 col13\" >0.999999</td>\n",
              "      <td id=\"T_62072_row11_col14\" class=\"data row11 col14\" >-0.015207</td>\n",
              "      <td id=\"T_62072_row11_col15\" class=\"data row11 col15\" >-0.012353</td>\n",
              "      <td id=\"T_62072_row11_col16\" class=\"data row11 col16\" >-0.015180</td>\n",
              "      <td id=\"T_62072_row11_col17\" class=\"data row11 col17\" >-0.009288</td>\n",
              "      <td id=\"T_62072_row11_col18\" class=\"data row11 col18\" >0.035493</td>\n",
              "    </tr>\n",
              "    <tr>\n",
              "      <th id=\"T_62072_level0_row12\" class=\"row_heading level0 row12\" >Total night calls</th>\n",
              "      <td id=\"T_62072_row12_col0\" class=\"data row12 col0\" >-0.013176</td>\n",
              "      <td id=\"T_62072_row12_col1\" class=\"data row12 col1\" >0.016522</td>\n",
              "      <td id=\"T_62072_row12_col2\" class=\"data row12 col2\" >0.012451</td>\n",
              "      <td id=\"T_62072_row12_col3\" class=\"data row12 col3\" >0.015553</td>\n",
              "      <td id=\"T_62072_row12_col4\" class=\"data row12 col4\" >0.007123</td>\n",
              "      <td id=\"T_62072_row12_col5\" class=\"data row12 col5\" >0.022972</td>\n",
              "      <td id=\"T_62072_row12_col6\" class=\"data row12 col6\" >-0.019557</td>\n",
              "      <td id=\"T_62072_row12_col7\" class=\"data row12 col7\" >0.022972</td>\n",
              "      <td id=\"T_62072_row12_col8\" class=\"data row12 col8\" >0.007586</td>\n",
              "      <td id=\"T_62072_row12_col9\" class=\"data row12 col9\" >0.007710</td>\n",
              "      <td id=\"T_62072_row12_col10\" class=\"data row12 col10\" >0.007596</td>\n",
              "      <td id=\"T_62072_row12_col11\" class=\"data row12 col11\" >0.011204</td>\n",
              "      <td id=\"T_62072_row12_col12\" class=\"data row12 col12\" >1.000000</td>\n",
              "      <td id=\"T_62072_row12_col13\" class=\"data row12 col13\" >0.011188</td>\n",
              "      <td id=\"T_62072_row12_col14\" class=\"data row12 col14\" >-0.013605</td>\n",
              "      <td id=\"T_62072_row12_col15\" class=\"data row12 col15\" >0.000305</td>\n",
              "      <td id=\"T_62072_row12_col16\" class=\"data row12 col16\" >-0.013630</td>\n",
              "      <td id=\"T_62072_row12_col17\" class=\"data row12 col17\" >-0.012802</td>\n",
              "      <td id=\"T_62072_row12_col18\" class=\"data row12 col18\" >0.006141</td>\n",
              "    </tr>\n",
              "    <tr>\n",
              "      <th id=\"T_62072_level0_row13\" class=\"row_heading level0 row13\" >Total night charge</th>\n",
              "      <td id=\"T_62072_row13_col0\" class=\"data row13 col0\" >-0.008960</td>\n",
              "      <td id=\"T_62072_row13_col1\" class=\"data row13 col1\" >-0.005845</td>\n",
              "      <td id=\"T_62072_row13_col2\" class=\"data row13 col2\" >-0.028913</td>\n",
              "      <td id=\"T_62072_row13_col3\" class=\"data row13 col3\" >0.006064</td>\n",
              "      <td id=\"T_62072_row13_col4\" class=\"data row13 col4\" >0.007663</td>\n",
              "      <td id=\"T_62072_row13_col5\" class=\"data row13 col5\" >0.004300</td>\n",
              "      <td id=\"T_62072_row13_col6\" class=\"data row13 col6\" >0.022927</td>\n",
              "      <td id=\"T_62072_row13_col7\" class=\"data row13 col7\" >0.004301</td>\n",
              "      <td id=\"T_62072_row13_col8\" class=\"data row13 col8\" >-0.012593</td>\n",
              "      <td id=\"T_62072_row13_col9\" class=\"data row13 col9\" >-0.002056</td>\n",
              "      <td id=\"T_62072_row13_col10\" class=\"data row13 col10\" >-0.012601</td>\n",
              "      <td id=\"T_62072_row13_col11\" class=\"data row13 col11\" >0.999999</td>\n",
              "      <td id=\"T_62072_row13_col12\" class=\"data row13 col12\" >0.011188</td>\n",
              "      <td id=\"T_62072_row13_col13\" class=\"data row13 col13\" >1.000000</td>\n",
              "      <td id=\"T_62072_row13_col14\" class=\"data row13 col14\" >-0.015214</td>\n",
              "      <td id=\"T_62072_row13_col15\" class=\"data row13 col15\" >-0.012329</td>\n",
              "      <td id=\"T_62072_row13_col16\" class=\"data row13 col16\" >-0.015186</td>\n",
              "      <td id=\"T_62072_row13_col17\" class=\"data row13 col17\" >-0.009277</td>\n",
              "      <td id=\"T_62072_row13_col18\" class=\"data row13 col18\" >0.035496</td>\n",
              "    </tr>\n",
              "    <tr>\n",
              "      <th id=\"T_62072_level0_row14\" class=\"row_heading level0 row14\" >Total intl minutes</th>\n",
              "      <td id=\"T_62072_row14_col0\" class=\"data row14 col0\" >0.009514</td>\n",
              "      <td id=\"T_62072_row14_col1\" class=\"data row14 col1\" >-0.018288</td>\n",
              "      <td id=\"T_62072_row14_col2\" class=\"data row14 col2\" >0.045871</td>\n",
              "      <td id=\"T_62072_row14_col3\" class=\"data row14 col3\" >-0.001318</td>\n",
              "      <td id=\"T_62072_row14_col4\" class=\"data row14 col4\" >0.002856</td>\n",
              "      <td id=\"T_62072_row14_col5\" class=\"data row14 col5\" >-0.010155</td>\n",
              "      <td id=\"T_62072_row14_col6\" class=\"data row14 col6\" >0.021565</td>\n",
              "      <td id=\"T_62072_row14_col7\" class=\"data row14 col7\" >-0.010157</td>\n",
              "      <td id=\"T_62072_row14_col8\" class=\"data row14 col8\" >-0.011035</td>\n",
              "      <td id=\"T_62072_row14_col9\" class=\"data row14 col9\" >0.008703</td>\n",
              "      <td id=\"T_62072_row14_col10\" class=\"data row14 col10\" >-0.011043</td>\n",
              "      <td id=\"T_62072_row14_col11\" class=\"data row14 col11\" >-0.015207</td>\n",
              "      <td id=\"T_62072_row14_col12\" class=\"data row14 col12\" >-0.013605</td>\n",
              "      <td id=\"T_62072_row14_col13\" class=\"data row14 col13\" >-0.015214</td>\n",
              "      <td id=\"T_62072_row14_col14\" class=\"data row14 col14\" >1.000000</td>\n",
              "      <td id=\"T_62072_row14_col15\" class=\"data row14 col15\" >0.032304</td>\n",
              "      <td id=\"T_62072_row14_col16\" class=\"data row14 col16\" >0.999993</td>\n",
              "      <td id=\"T_62072_row14_col17\" class=\"data row14 col17\" >-0.009640</td>\n",
              "      <td id=\"T_62072_row14_col18\" class=\"data row14 col18\" >0.068239</td>\n",
              "    </tr>\n",
              "    <tr>\n",
              "      <th id=\"T_62072_level0_row15\" class=\"row_heading level0 row15\" >Total intl calls</th>\n",
              "      <td id=\"T_62072_row15_col0\" class=\"data row15 col0\" >0.020661</td>\n",
              "      <td id=\"T_62072_row15_col1\" class=\"data row15 col1\" >-0.024179</td>\n",
              "      <td id=\"T_62072_row15_col2\" class=\"data row15 col2\" >0.017366</td>\n",
              "      <td id=\"T_62072_row15_col3\" class=\"data row15 col3\" >0.007618</td>\n",
              "      <td id=\"T_62072_row15_col4\" class=\"data row15 col4\" >0.013957</td>\n",
              "      <td id=\"T_62072_row15_col5\" class=\"data row15 col5\" >0.008033</td>\n",
              "      <td id=\"T_62072_row15_col6\" class=\"data row15 col6\" >0.004574</td>\n",
              "      <td id=\"T_62072_row15_col7\" class=\"data row15 col7\" >0.008032</td>\n",
              "      <td id=\"T_62072_row15_col8\" class=\"data row15 col8\" >0.002541</td>\n",
              "      <td id=\"T_62072_row15_col9\" class=\"data row15 col9\" >0.017434</td>\n",
              "      <td id=\"T_62072_row15_col10\" class=\"data row15 col10\" >0.002541</td>\n",
              "      <td id=\"T_62072_row15_col11\" class=\"data row15 col11\" >-0.012353</td>\n",
              "      <td id=\"T_62072_row15_col12\" class=\"data row15 col12\" >0.000305</td>\n",
              "      <td id=\"T_62072_row15_col13\" class=\"data row15 col13\" >-0.012329</td>\n",
              "      <td id=\"T_62072_row15_col14\" class=\"data row15 col14\" >0.032304</td>\n",
              "      <td id=\"T_62072_row15_col15\" class=\"data row15 col15\" >1.000000</td>\n",
              "      <td id=\"T_62072_row15_col16\" class=\"data row15 col16\" >0.032372</td>\n",
              "      <td id=\"T_62072_row15_col17\" class=\"data row15 col17\" >-0.017561</td>\n",
              "      <td id=\"T_62072_row15_col18\" class=\"data row15 col18\" >-0.052844</td>\n",
              "    </tr>\n",
              "    <tr>\n",
              "      <th id=\"T_62072_level0_row16\" class=\"row_heading level0 row16\" >Total intl charge</th>\n",
              "      <td id=\"T_62072_row16_col0\" class=\"data row16 col0\" >0.009546</td>\n",
              "      <td id=\"T_62072_row16_col1\" class=\"data row16 col1\" >-0.018395</td>\n",
              "      <td id=\"T_62072_row16_col2\" class=\"data row16 col2\" >0.045780</td>\n",
              "      <td id=\"T_62072_row16_col3\" class=\"data row16 col3\" >-0.001276</td>\n",
              "      <td id=\"T_62072_row16_col4\" class=\"data row16 col4\" >0.002884</td>\n",
              "      <td id=\"T_62072_row16_col5\" class=\"data row16 col5\" >-0.010092</td>\n",
              "      <td id=\"T_62072_row16_col6\" class=\"data row16 col6\" >0.021666</td>\n",
              "      <td id=\"T_62072_row16_col7\" class=\"data row16 col7\" >-0.010094</td>\n",
              "      <td id=\"T_62072_row16_col8\" class=\"data row16 col8\" >-0.011067</td>\n",
              "      <td id=\"T_62072_row16_col9\" class=\"data row16 col9\" >0.008674</td>\n",
              "      <td id=\"T_62072_row16_col10\" class=\"data row16 col10\" >-0.011074</td>\n",
              "      <td id=\"T_62072_row16_col11\" class=\"data row16 col11\" >-0.015180</td>\n",
              "      <td id=\"T_62072_row16_col12\" class=\"data row16 col12\" >-0.013630</td>\n",
              "      <td id=\"T_62072_row16_col13\" class=\"data row16 col13\" >-0.015186</td>\n",
              "      <td id=\"T_62072_row16_col14\" class=\"data row16 col14\" >0.999993</td>\n",
              "      <td id=\"T_62072_row16_col15\" class=\"data row16 col15\" >0.032372</td>\n",
              "      <td id=\"T_62072_row16_col16\" class=\"data row16 col16\" >1.000000</td>\n",
              "      <td id=\"T_62072_row16_col17\" class=\"data row16 col17\" >-0.009675</td>\n",
              "      <td id=\"T_62072_row16_col18\" class=\"data row16 col18\" >0.068259</td>\n",
              "    </tr>\n",
              "    <tr>\n",
              "      <th id=\"T_62072_level0_row17\" class=\"row_heading level0 row17\" >Customer service calls</th>\n",
              "      <td id=\"T_62072_row17_col0\" class=\"data row17 col0\" >-0.003796</td>\n",
              "      <td id=\"T_62072_row17_col1\" class=\"data row17 col1\" >0.027572</td>\n",
              "      <td id=\"T_62072_row17_col2\" class=\"data row17 col2\" >-0.024522</td>\n",
              "      <td id=\"T_62072_row17_col3\" class=\"data row17 col3\" >-0.017824</td>\n",
              "      <td id=\"T_62072_row17_col4\" class=\"data row17 col4\" >-0.013263</td>\n",
              "      <td id=\"T_62072_row17_col5\" class=\"data row17 col5\" >-0.013423</td>\n",
              "      <td id=\"T_62072_row17_col6\" class=\"data row17 col6\" >-0.018942</td>\n",
              "      <td id=\"T_62072_row17_col7\" class=\"data row17 col7\" >-0.013427</td>\n",
              "      <td id=\"T_62072_row17_col8\" class=\"data row17 col8\" >-0.012985</td>\n",
              "      <td id=\"T_62072_row17_col9\" class=\"data row17 col9\" >0.002423</td>\n",
              "      <td id=\"T_62072_row17_col10\" class=\"data row17 col10\" >-0.012987</td>\n",
              "      <td id=\"T_62072_row17_col11\" class=\"data row17 col11\" >-0.009288</td>\n",
              "      <td id=\"T_62072_row17_col12\" class=\"data row17 col12\" >-0.012802</td>\n",
              "      <td id=\"T_62072_row17_col13\" class=\"data row17 col13\" >-0.009277</td>\n",
              "      <td id=\"T_62072_row17_col14\" class=\"data row17 col14\" >-0.009640</td>\n",
              "      <td id=\"T_62072_row17_col15\" class=\"data row17 col15\" >-0.017561</td>\n",
              "      <td id=\"T_62072_row17_col16\" class=\"data row17 col16\" >-0.009675</td>\n",
              "      <td id=\"T_62072_row17_col17\" class=\"data row17 col17\" >1.000000</td>\n",
              "      <td id=\"T_62072_row17_col18\" class=\"data row17 col18\" >0.208750</td>\n",
              "    </tr>\n",
              "    <tr>\n",
              "      <th id=\"T_62072_level0_row18\" class=\"row_heading level0 row18\" >Churn</th>\n",
              "      <td id=\"T_62072_row18_col0\" class=\"data row18 col0\" >0.016541</td>\n",
              "      <td id=\"T_62072_row18_col1\" class=\"data row18 col1\" >0.006174</td>\n",
              "      <td id=\"T_62072_row18_col2\" class=\"data row18 col2\" >0.259852</td>\n",
              "      <td id=\"T_62072_row18_col3\" class=\"data row18 col3\" >-0.102148</td>\n",
              "      <td id=\"T_62072_row18_col4\" class=\"data row18 col4\" >-0.089728</td>\n",
              "      <td id=\"T_62072_row18_col5\" class=\"data row18 col5\" >0.205151</td>\n",
              "      <td id=\"T_62072_row18_col6\" class=\"data row18 col6\" >0.018459</td>\n",
              "      <td id=\"T_62072_row18_col7\" class=\"data row18 col7\" >0.205151</td>\n",
              "      <td id=\"T_62072_row18_col8\" class=\"data row18 col8\" >0.092796</td>\n",
              "      <td id=\"T_62072_row18_col9\" class=\"data row18 col9\" >0.009233</td>\n",
              "      <td id=\"T_62072_row18_col10\" class=\"data row18 col10\" >0.092786</td>\n",
              "      <td id=\"T_62072_row18_col11\" class=\"data row18 col11\" >0.035493</td>\n",
              "      <td id=\"T_62072_row18_col12\" class=\"data row18 col12\" >0.006141</td>\n",
              "      <td id=\"T_62072_row18_col13\" class=\"data row18 col13\" >0.035496</td>\n",
              "      <td id=\"T_62072_row18_col14\" class=\"data row18 col14\" >0.068239</td>\n",
              "      <td id=\"T_62072_row18_col15\" class=\"data row18 col15\" >-0.052844</td>\n",
              "      <td id=\"T_62072_row18_col16\" class=\"data row18 col16\" >0.068259</td>\n",
              "      <td id=\"T_62072_row18_col17\" class=\"data row18 col17\" >0.208750</td>\n",
              "      <td id=\"T_62072_row18_col18\" class=\"data row18 col18\" >1.000000</td>\n",
              "    </tr>\n",
              "  </tbody>\n",
              "</table>\n"
            ]
          },
          "metadata": {},
          "execution_count": 181
        }
      ]
    },
    {
      "cell_type": "code",
      "source": [
        "newtc = tab.drop(\"Total day charge\", axis = 1).drop(\"Total night charge\", axis = 1).drop(\"Total intl charge\", axis = 1).drop(\"Total eve charge\", axis = 1).drop(\"Voice mail plan\", axis = 1)"
      ],
      "metadata": {
        "id": "yCQcd7Qe0ZIT"
      },
      "execution_count": null,
      "outputs": []
    },
    {
      "cell_type": "code",
      "source": [
        "corr = newtc.corr()\n",
        "corr.style.background_gradient(cmap='coolwarm')"
      ],
      "metadata": {
        "colab": {
          "base_uri": "https://localhost:8080/",
          "height": 541
        },
        "id": "B6YfPihw3vYa",
        "outputId": "0d306673-aad8-4ab5-fba1-419e605bc6e0"
      },
      "execution_count": null,
      "outputs": [
        {
          "output_type": "execute_result",
          "data": {
            "text/plain": [
              "<pandas.io.formats.style.Styler at 0x7fea52515c70>"
            ],
            "text/html": [
              "<style type=\"text/css\">\n",
              "#T_bfc43_row0_col0, #T_bfc43_row1_col1, #T_bfc43_row2_col2, #T_bfc43_row3_col3, #T_bfc43_row4_col4, #T_bfc43_row5_col5, #T_bfc43_row6_col6, #T_bfc43_row7_col7, #T_bfc43_row8_col8, #T_bfc43_row9_col9, #T_bfc43_row10_col10, #T_bfc43_row11_col11, #T_bfc43_row12_col12, #T_bfc43_row13_col13 {\n",
              "  background-color: #b40426;\n",
              "  color: #f1f1f1;\n",
              "}\n",
              "#T_bfc43_row0_col1, #T_bfc43_row1_col5, #T_bfc43_row3_col0, #T_bfc43_row3_col5, #T_bfc43_row3_col12, #T_bfc43_row4_col10, #T_bfc43_row4_col12, #T_bfc43_row6_col12, #T_bfc43_row7_col6, #T_bfc43_row8_col6, #T_bfc43_row8_col7, #T_bfc43_row9_col12, #T_bfc43_row10_col6, #T_bfc43_row12_col0, #T_bfc43_row12_col6, #T_bfc43_row12_col10 {\n",
              "  background-color: #3d50c3;\n",
              "  color: #f1f1f1;\n",
              "}\n",
              "#T_bfc43_row0_col2, #T_bfc43_row1_col12, #T_bfc43_row5_col0, #T_bfc43_row5_col11, #T_bfc43_row6_col11 {\n",
              "  background-color: #4a63d3;\n",
              "  color: #f1f1f1;\n",
              "}\n",
              "#T_bfc43_row0_col3, #T_bfc43_row1_col2, #T_bfc43_row4_col2, #T_bfc43_row7_col3 {\n",
              "  background-color: #516ddb;\n",
              "  color: #f1f1f1;\n",
              "}\n",
              "#T_bfc43_row0_col4, #T_bfc43_row0_col8, #T_bfc43_row2_col7, #T_bfc43_row4_col0, #T_bfc43_row5_col7, #T_bfc43_row6_col8, #T_bfc43_row8_col1, #T_bfc43_row8_col4, #T_bfc43_row9_col7, #T_bfc43_row11_col8, #T_bfc43_row11_col9, #T_bfc43_row12_col8 {\n",
              "  background-color: #3f53c6;\n",
              "  color: #f1f1f1;\n",
              "}\n",
              "#T_bfc43_row0_col5, #T_bfc43_row2_col4 {\n",
              "  background-color: #4c66d6;\n",
              "  color: #f1f1f1;\n",
              "}\n",
              "#T_bfc43_row0_col6, #T_bfc43_row3_col4, #T_bfc43_row4_col1, #T_bfc43_row5_col1, #T_bfc43_row7_col1, #T_bfc43_row8_col12, #T_bfc43_row10_col8, #T_bfc43_row10_col12, #T_bfc43_row12_col7 {\n",
              "  background-color: #3e51c5;\n",
              "  color: #f1f1f1;\n",
              "}\n",
              "#T_bfc43_row0_col7, #T_bfc43_row4_col5, #T_bfc43_row4_col6, #T_bfc43_row7_col4, #T_bfc43_row8_col9, #T_bfc43_row9_col6, #T_bfc43_row11_col7, #T_bfc43_row13_col0, #T_bfc43_row13_col1 {\n",
              "  background-color: #4358cb;\n",
              "  color: #f1f1f1;\n",
              "}\n",
              "#T_bfc43_row0_col9, #T_bfc43_row1_col4, #T_bfc43_row3_col7, #T_bfc43_row5_col12, #T_bfc43_row6_col0, #T_bfc43_row6_col10, #T_bfc43_row8_col0, #T_bfc43_row9_col10, #T_bfc43_row10_col1, #T_bfc43_row10_col9, #T_bfc43_row11_col12, #T_bfc43_row12_col2, #T_bfc43_row12_col9 {\n",
              "  background-color: #3c4ec2;\n",
              "  color: #f1f1f1;\n",
              "}\n",
              "#T_bfc43_row0_col10, #T_bfc43_row1_col6, #T_bfc43_row1_col11, #T_bfc43_row2_col5, #T_bfc43_row3_col9, #T_bfc43_row4_col7, #T_bfc43_row6_col1, #T_bfc43_row6_col9, #T_bfc43_row7_col5, #T_bfc43_row7_col8, #T_bfc43_row7_col9, #T_bfc43_row7_col10, #T_bfc43_row7_col12, #T_bfc43_row11_col5, #T_bfc43_row11_col6, #T_bfc43_row13_col9 {\n",
              "  background-color: #4257c9;\n",
              "  color: #f1f1f1;\n",
              "}\n",
              "#T_bfc43_row0_col11, #T_bfc43_row2_col11, #T_bfc43_row7_col11, #T_bfc43_row12_col3 {\n",
              "  background-color: #4f69d9;\n",
              "  color: #f1f1f1;\n",
              "}\n",
              "#T_bfc43_row0_col12, #T_bfc43_row1_col8, #T_bfc43_row3_col1, #T_bfc43_row3_col10, #T_bfc43_row5_col4, #T_bfc43_row6_col4, #T_bfc43_row10_col0, #T_bfc43_row10_col7, #T_bfc43_row11_col4, #T_bfc43_row13_col7 {\n",
              "  background-color: #4055c8;\n",
              "  color: #f1f1f1;\n",
              "}\n",
              "#T_bfc43_row0_col13, #T_bfc43_row11_col3 {\n",
              "  background-color: #5875e1;\n",
              "  color: #f1f1f1;\n",
              "}\n",
              "#T_bfc43_row1_col0, #T_bfc43_row1_col7, #T_bfc43_row1_col10, #T_bfc43_row2_col8, #T_bfc43_row2_col12, #T_bfc43_row3_col13, #T_bfc43_row5_col6, #T_bfc43_row5_col9, #T_bfc43_row6_col5, #T_bfc43_row6_col7, #T_bfc43_row8_col2, #T_bfc43_row8_col10, #T_bfc43_row9_col0, #T_bfc43_row9_col5, #T_bfc43_row10_col4, #T_bfc43_row11_col1, #T_bfc43_row12_col4, #T_bfc43_row12_col5, #T_bfc43_row13_col3, #T_bfc43_row13_col11 {\n",
              "  background-color: #3b4cc0;\n",
              "  color: #f1f1f1;\n",
              "}\n",
              "#T_bfc43_row1_col3, #T_bfc43_row10_col11 {\n",
              "  background-color: #536edd;\n",
              "  color: #f1f1f1;\n",
              "}\n",
              "#T_bfc43_row1_col9, #T_bfc43_row2_col0, #T_bfc43_row3_col2, #T_bfc43_row3_col6, #T_bfc43_row3_col8, #T_bfc43_row8_col11, #T_bfc43_row9_col4, #T_bfc43_row9_col8 {\n",
              "  background-color: #455cce;\n",
              "  color: #f1f1f1;\n",
              "}\n",
              "#T_bfc43_row1_col13, #T_bfc43_row8_col3, #T_bfc43_row9_col3, #T_bfc43_row9_col13 {\n",
              "  background-color: #5572df;\n",
              "  color: #f1f1f1;\n",
              "}\n",
              "#T_bfc43_row2_col1, #T_bfc43_row5_col3, #T_bfc43_row10_col2 {\n",
              "  background-color: #506bda;\n",
              "  color: #f1f1f1;\n",
              "}\n",
              "#T_bfc43_row2_col3, #T_bfc43_row7_col13 {\n",
              "  background-color: #5673e0;\n",
              "  color: #f1f1f1;\n",
              "}\n",
              "#T_bfc43_row2_col6, #T_bfc43_row4_col9, #T_bfc43_row5_col10, #T_bfc43_row9_col1, #T_bfc43_row9_col2, #T_bfc43_row10_col5, #T_bfc43_row13_col5 {\n",
              "  background-color: #465ecf;\n",
              "  color: #f1f1f1;\n",
              "}\n",
              "#T_bfc43_row2_col9, #T_bfc43_row4_col8, #T_bfc43_row5_col2, #T_bfc43_row7_col0, #T_bfc43_row7_col2, #T_bfc43_row11_col0, #T_bfc43_row11_col13, #T_bfc43_row12_col11 {\n",
              "  background-color: #445acc;\n",
              "  color: #f1f1f1;\n",
              "}\n",
              "#T_bfc43_row2_col10, #T_bfc43_row3_col11, #T_bfc43_row13_col8 {\n",
              "  background-color: #4e68d8;\n",
              "  color: #f1f1f1;\n",
              "}\n",
              "#T_bfc43_row2_col13 {\n",
              "  background-color: #a6c4fe;\n",
              "  color: #000000;\n",
              "}\n",
              "#T_bfc43_row4_col3, #T_bfc43_row10_col3, #T_bfc43_row13_col10 {\n",
              "  background-color: #5470de;\n",
              "  color: #f1f1f1;\n",
              "}\n",
              "#T_bfc43_row4_col11 {\n",
              "  background-color: #4b64d5;\n",
              "  color: #f1f1f1;\n",
              "}\n",
              "#T_bfc43_row4_col13 {\n",
              "  background-color: #94b6ff;\n",
              "  color: #000000;\n",
              "}\n",
              "#T_bfc43_row5_col8, #T_bfc43_row9_col11, #T_bfc43_row11_col10, #T_bfc43_row12_col1 {\n",
              "  background-color: #4961d2;\n",
              "  color: #f1f1f1;\n",
              "}\n",
              "#T_bfc43_row5_col13, #T_bfc43_row6_col3 {\n",
              "  background-color: #5977e3;\n",
              "  color: #f1f1f1;\n",
              "}\n",
              "#T_bfc43_row6_col2, #T_bfc43_row8_col5, #T_bfc43_row11_col2 {\n",
              "  background-color: #485fd1;\n",
              "  color: #f1f1f1;\n",
              "}\n",
              "#T_bfc43_row6_col13 {\n",
              "  background-color: #6f92f3;\n",
              "  color: #f1f1f1;\n",
              "}\n",
              "#T_bfc43_row8_col13 {\n",
              "  background-color: #5e7de7;\n",
              "  color: #f1f1f1;\n",
              "}\n",
              "#T_bfc43_row10_col13 {\n",
              "  background-color: #688aef;\n",
              "  color: #f1f1f1;\n",
              "}\n",
              "#T_bfc43_row12_col13 {\n",
              "  background-color: #96b7ff;\n",
              "  color: #000000;\n",
              "}\n",
              "#T_bfc43_row13_col2 {\n",
              "  background-color: #97b8ff;\n",
              "  color: #000000;\n",
              "}\n",
              "#T_bfc43_row13_col4 {\n",
              "  background-color: #81a4fb;\n",
              "  color: #f1f1f1;\n",
              "}\n",
              "#T_bfc43_row13_col6 {\n",
              "  background-color: #5d7ce6;\n",
              "  color: #f1f1f1;\n",
              "}\n",
              "#T_bfc43_row13_col12 {\n",
              "  background-color: #85a8fc;\n",
              "  color: #f1f1f1;\n",
              "}\n",
              "</style>\n",
              "<table id=\"T_bfc43\" class=\"dataframe\">\n",
              "  <thead>\n",
              "    <tr>\n",
              "      <th class=\"blank level0\" >&nbsp;</th>\n",
              "      <th id=\"T_bfc43_level0_col0\" class=\"col_heading level0 col0\" >Account length</th>\n",
              "      <th id=\"T_bfc43_level0_col1\" class=\"col_heading level0 col1\" >Area code</th>\n",
              "      <th id=\"T_bfc43_level0_col2\" class=\"col_heading level0 col2\" >International plan</th>\n",
              "      <th id=\"T_bfc43_level0_col3\" class=\"col_heading level0 col3\" >Number vmail messages</th>\n",
              "      <th id=\"T_bfc43_level0_col4\" class=\"col_heading level0 col4\" >Total day minutes</th>\n",
              "      <th id=\"T_bfc43_level0_col5\" class=\"col_heading level0 col5\" >Total day calls</th>\n",
              "      <th id=\"T_bfc43_level0_col6\" class=\"col_heading level0 col6\" >Total eve minutes</th>\n",
              "      <th id=\"T_bfc43_level0_col7\" class=\"col_heading level0 col7\" >Total eve calls</th>\n",
              "      <th id=\"T_bfc43_level0_col8\" class=\"col_heading level0 col8\" >Total night minutes</th>\n",
              "      <th id=\"T_bfc43_level0_col9\" class=\"col_heading level0 col9\" >Total night calls</th>\n",
              "      <th id=\"T_bfc43_level0_col10\" class=\"col_heading level0 col10\" >Total intl minutes</th>\n",
              "      <th id=\"T_bfc43_level0_col11\" class=\"col_heading level0 col11\" >Total intl calls</th>\n",
              "      <th id=\"T_bfc43_level0_col12\" class=\"col_heading level0 col12\" >Customer service calls</th>\n",
              "      <th id=\"T_bfc43_level0_col13\" class=\"col_heading level0 col13\" >Churn</th>\n",
              "    </tr>\n",
              "  </thead>\n",
              "  <tbody>\n",
              "    <tr>\n",
              "      <th id=\"T_bfc43_level0_row0\" class=\"row_heading level0 row0\" >Account length</th>\n",
              "      <td id=\"T_bfc43_row0_col0\" class=\"data row0 col0\" >1.000000</td>\n",
              "      <td id=\"T_bfc43_row0_col1\" class=\"data row0 col1\" >-0.012463</td>\n",
              "      <td id=\"T_bfc43_row0_col2\" class=\"data row0 col2\" >0.024735</td>\n",
              "      <td id=\"T_bfc43_row0_col3\" class=\"data row0 col3\" >-0.004628</td>\n",
              "      <td id=\"T_bfc43_row0_col4\" class=\"data row0 col4\" >0.006216</td>\n",
              "      <td id=\"T_bfc43_row0_col5\" class=\"data row0 col5\" >0.038470</td>\n",
              "      <td id=\"T_bfc43_row0_col6\" class=\"data row0 col6\" >-0.006757</td>\n",
              "      <td id=\"T_bfc43_row0_col7\" class=\"data row0 col7\" >0.019260</td>\n",
              "      <td id=\"T_bfc43_row0_col8\" class=\"data row0 col8\" >-0.008955</td>\n",
              "      <td id=\"T_bfc43_row0_col9\" class=\"data row0 col9\" >-0.013176</td>\n",
              "      <td id=\"T_bfc43_row0_col10\" class=\"data row0 col10\" >0.009514</td>\n",
              "      <td id=\"T_bfc43_row0_col11\" class=\"data row0 col11\" >0.020661</td>\n",
              "      <td id=\"T_bfc43_row0_col12\" class=\"data row0 col12\" >-0.003796</td>\n",
              "      <td id=\"T_bfc43_row0_col13\" class=\"data row0 col13\" >0.016541</td>\n",
              "    </tr>\n",
              "    <tr>\n",
              "      <th id=\"T_bfc43_level0_row1\" class=\"row_heading level0 row1\" >Area code</th>\n",
              "      <td id=\"T_bfc43_row1_col0\" class=\"data row1 col0\" >-0.012463</td>\n",
              "      <td id=\"T_bfc43_row1_col1\" class=\"data row1 col1\" >1.000000</td>\n",
              "      <td id=\"T_bfc43_row1_col2\" class=\"data row1 col2\" >0.048551</td>\n",
              "      <td id=\"T_bfc43_row1_col3\" class=\"data row1 col3\" >-0.001994</td>\n",
              "      <td id=\"T_bfc43_row1_col4\" class=\"data row1 col4\" >-0.008264</td>\n",
              "      <td id=\"T_bfc43_row1_col5\" class=\"data row1 col5\" >-0.009646</td>\n",
              "      <td id=\"T_bfc43_row1_col6\" class=\"data row1 col6\" >0.003580</td>\n",
              "      <td id=\"T_bfc43_row1_col7\" class=\"data row1 col7\" >-0.011886</td>\n",
              "      <td id=\"T_bfc43_row1_col8\" class=\"data row1 col8\" >-0.005825</td>\n",
              "      <td id=\"T_bfc43_row1_col9\" class=\"data row1 col9\" >0.016522</td>\n",
              "      <td id=\"T_bfc43_row1_col10\" class=\"data row1 col10\" >-0.018288</td>\n",
              "      <td id=\"T_bfc43_row1_col11\" class=\"data row1 col11\" >-0.024179</td>\n",
              "      <td id=\"T_bfc43_row1_col12\" class=\"data row1 col12\" >0.027572</td>\n",
              "      <td id=\"T_bfc43_row1_col13\" class=\"data row1 col13\" >0.006174</td>\n",
              "    </tr>\n",
              "    <tr>\n",
              "      <th id=\"T_bfc43_level0_row2\" class=\"row_heading level0 row2\" >International plan</th>\n",
              "      <td id=\"T_bfc43_row2_col0\" class=\"data row2 col0\" >0.024735</td>\n",
              "      <td id=\"T_bfc43_row2_col1\" class=\"data row2 col1\" >0.048551</td>\n",
              "      <td id=\"T_bfc43_row2_col2\" class=\"data row2 col2\" >1.000000</td>\n",
              "      <td id=\"T_bfc43_row2_col3\" class=\"data row2 col3\" >0.008745</td>\n",
              "      <td id=\"T_bfc43_row2_col4\" class=\"data row2 col4\" >0.049396</td>\n",
              "      <td id=\"T_bfc43_row2_col5\" class=\"data row2 col5\" >0.003755</td>\n",
              "      <td id=\"T_bfc43_row2_col6\" class=\"data row2 col6\" >0.019100</td>\n",
              "      <td id=\"T_bfc43_row2_col7\" class=\"data row2 col7\" >0.006114</td>\n",
              "      <td id=\"T_bfc43_row2_col8\" class=\"data row2 col8\" >-0.028905</td>\n",
              "      <td id=\"T_bfc43_row2_col9\" class=\"data row2 col9\" >0.012451</td>\n",
              "      <td id=\"T_bfc43_row2_col10\" class=\"data row2 col10\" >0.045871</td>\n",
              "      <td id=\"T_bfc43_row2_col11\" class=\"data row2 col11\" >0.017366</td>\n",
              "      <td id=\"T_bfc43_row2_col12\" class=\"data row2 col12\" >-0.024522</td>\n",
              "      <td id=\"T_bfc43_row2_col13\" class=\"data row2 col13\" >0.259852</td>\n",
              "    </tr>\n",
              "    <tr>\n",
              "      <th id=\"T_bfc43_level0_row3\" class=\"row_heading level0 row3\" >Number vmail messages</th>\n",
              "      <td id=\"T_bfc43_row3_col0\" class=\"data row3 col0\" >-0.004628</td>\n",
              "      <td id=\"T_bfc43_row3_col1\" class=\"data row3 col1\" >-0.001994</td>\n",
              "      <td id=\"T_bfc43_row3_col2\" class=\"data row3 col2\" >0.008745</td>\n",
              "      <td id=\"T_bfc43_row3_col3\" class=\"data row3 col3\" >1.000000</td>\n",
              "      <td id=\"T_bfc43_row3_col4\" class=\"data row3 col4\" >0.000778</td>\n",
              "      <td id=\"T_bfc43_row3_col5\" class=\"data row3 col5\" >-0.009548</td>\n",
              "      <td id=\"T_bfc43_row3_col6\" class=\"data row3 col6\" >0.017562</td>\n",
              "      <td id=\"T_bfc43_row3_col7\" class=\"data row3 col7\" >-0.005864</td>\n",
              "      <td id=\"T_bfc43_row3_col8\" class=\"data row3 col8\" >0.007681</td>\n",
              "      <td id=\"T_bfc43_row3_col9\" class=\"data row3 col9\" >0.007123</td>\n",
              "      <td id=\"T_bfc43_row3_col10\" class=\"data row3 col10\" >0.002856</td>\n",
              "      <td id=\"T_bfc43_row3_col11\" class=\"data row3 col11\" >0.013957</td>\n",
              "      <td id=\"T_bfc43_row3_col12\" class=\"data row3 col12\" >-0.013263</td>\n",
              "      <td id=\"T_bfc43_row3_col13\" class=\"data row3 col13\" >-0.089728</td>\n",
              "    </tr>\n",
              "    <tr>\n",
              "      <th id=\"T_bfc43_level0_row4\" class=\"row_heading level0 row4\" >Total day minutes</th>\n",
              "      <td id=\"T_bfc43_row4_col0\" class=\"data row4 col0\" >0.006216</td>\n",
              "      <td id=\"T_bfc43_row4_col1\" class=\"data row4 col1\" >-0.008264</td>\n",
              "      <td id=\"T_bfc43_row4_col2\" class=\"data row4 col2\" >0.049396</td>\n",
              "      <td id=\"T_bfc43_row4_col3\" class=\"data row4 col3\" >0.000778</td>\n",
              "      <td id=\"T_bfc43_row4_col4\" class=\"data row4 col4\" >1.000000</td>\n",
              "      <td id=\"T_bfc43_row4_col5\" class=\"data row4 col5\" >0.006750</td>\n",
              "      <td id=\"T_bfc43_row4_col6\" class=\"data row4 col6\" >0.007043</td>\n",
              "      <td id=\"T_bfc43_row4_col7\" class=\"data row4 col7\" >0.015769</td>\n",
              "      <td id=\"T_bfc43_row4_col8\" class=\"data row4 col8\" >0.004323</td>\n",
              "      <td id=\"T_bfc43_row4_col9\" class=\"data row4 col9\" >0.022972</td>\n",
              "      <td id=\"T_bfc43_row4_col10\" class=\"data row4 col10\" >-0.010155</td>\n",
              "      <td id=\"T_bfc43_row4_col11\" class=\"data row4 col11\" >0.008033</td>\n",
              "      <td id=\"T_bfc43_row4_col12\" class=\"data row4 col12\" >-0.013423</td>\n",
              "      <td id=\"T_bfc43_row4_col13\" class=\"data row4 col13\" >0.205151</td>\n",
              "    </tr>\n",
              "    <tr>\n",
              "      <th id=\"T_bfc43_level0_row5\" class=\"row_heading level0 row5\" >Total day calls</th>\n",
              "      <td id=\"T_bfc43_row5_col0\" class=\"data row5 col0\" >0.038470</td>\n",
              "      <td id=\"T_bfc43_row5_col1\" class=\"data row5 col1\" >-0.009646</td>\n",
              "      <td id=\"T_bfc43_row5_col2\" class=\"data row5 col2\" >0.003755</td>\n",
              "      <td id=\"T_bfc43_row5_col3\" class=\"data row5 col3\" >-0.009548</td>\n",
              "      <td id=\"T_bfc43_row5_col4\" class=\"data row5 col4\" >0.006750</td>\n",
              "      <td id=\"T_bfc43_row5_col5\" class=\"data row5 col5\" >1.000000</td>\n",
              "      <td id=\"T_bfc43_row5_col6\" class=\"data row5 col6\" >-0.021451</td>\n",
              "      <td id=\"T_bfc43_row5_col7\" class=\"data row5 col7\" >0.006462</td>\n",
              "      <td id=\"T_bfc43_row5_col8\" class=\"data row5 col8\" >0.022938</td>\n",
              "      <td id=\"T_bfc43_row5_col9\" class=\"data row5 col9\" >-0.019557</td>\n",
              "      <td id=\"T_bfc43_row5_col10\" class=\"data row5 col10\" >0.021565</td>\n",
              "      <td id=\"T_bfc43_row5_col11\" class=\"data row5 col11\" >0.004574</td>\n",
              "      <td id=\"T_bfc43_row5_col12\" class=\"data row5 col12\" >-0.018942</td>\n",
              "      <td id=\"T_bfc43_row5_col13\" class=\"data row5 col13\" >0.018459</td>\n",
              "    </tr>\n",
              "    <tr>\n",
              "      <th id=\"T_bfc43_level0_row6\" class=\"row_heading level0 row6\" >Total eve minutes</th>\n",
              "      <td id=\"T_bfc43_row6_col0\" class=\"data row6 col0\" >-0.006757</td>\n",
              "      <td id=\"T_bfc43_row6_col1\" class=\"data row6 col1\" >0.003580</td>\n",
              "      <td id=\"T_bfc43_row6_col2\" class=\"data row6 col2\" >0.019100</td>\n",
              "      <td id=\"T_bfc43_row6_col3\" class=\"data row6 col3\" >0.017562</td>\n",
              "      <td id=\"T_bfc43_row6_col4\" class=\"data row6 col4\" >0.007043</td>\n",
              "      <td id=\"T_bfc43_row6_col5\" class=\"data row6 col5\" >-0.021451</td>\n",
              "      <td id=\"T_bfc43_row6_col6\" class=\"data row6 col6\" >1.000000</td>\n",
              "      <td id=\"T_bfc43_row6_col7\" class=\"data row6 col7\" >-0.011430</td>\n",
              "      <td id=\"T_bfc43_row6_col8\" class=\"data row6 col8\" >-0.012584</td>\n",
              "      <td id=\"T_bfc43_row6_col9\" class=\"data row6 col9\" >0.007586</td>\n",
              "      <td id=\"T_bfc43_row6_col10\" class=\"data row6 col10\" >-0.011035</td>\n",
              "      <td id=\"T_bfc43_row6_col11\" class=\"data row6 col11\" >0.002541</td>\n",
              "      <td id=\"T_bfc43_row6_col12\" class=\"data row6 col12\" >-0.012985</td>\n",
              "      <td id=\"T_bfc43_row6_col13\" class=\"data row6 col13\" >0.092796</td>\n",
              "    </tr>\n",
              "    <tr>\n",
              "      <th id=\"T_bfc43_level0_row7\" class=\"row_heading level0 row7\" >Total eve calls</th>\n",
              "      <td id=\"T_bfc43_row7_col0\" class=\"data row7 col0\" >0.019260</td>\n",
              "      <td id=\"T_bfc43_row7_col1\" class=\"data row7 col1\" >-0.011886</td>\n",
              "      <td id=\"T_bfc43_row7_col2\" class=\"data row7 col2\" >0.006114</td>\n",
              "      <td id=\"T_bfc43_row7_col3\" class=\"data row7 col3\" >-0.005864</td>\n",
              "      <td id=\"T_bfc43_row7_col4\" class=\"data row7 col4\" >0.015769</td>\n",
              "      <td id=\"T_bfc43_row7_col5\" class=\"data row7 col5\" >0.006462</td>\n",
              "      <td id=\"T_bfc43_row7_col6\" class=\"data row7 col6\" >-0.011430</td>\n",
              "      <td id=\"T_bfc43_row7_col7\" class=\"data row7 col7\" >1.000000</td>\n",
              "      <td id=\"T_bfc43_row7_col8\" class=\"data row7 col8\" >-0.002093</td>\n",
              "      <td id=\"T_bfc43_row7_col9\" class=\"data row7 col9\" >0.007710</td>\n",
              "      <td id=\"T_bfc43_row7_col10\" class=\"data row7 col10\" >0.008703</td>\n",
              "      <td id=\"T_bfc43_row7_col11\" class=\"data row7 col11\" >0.017434</td>\n",
              "      <td id=\"T_bfc43_row7_col12\" class=\"data row7 col12\" >0.002423</td>\n",
              "      <td id=\"T_bfc43_row7_col13\" class=\"data row7 col13\" >0.009233</td>\n",
              "    </tr>\n",
              "    <tr>\n",
              "      <th id=\"T_bfc43_level0_row8\" class=\"row_heading level0 row8\" >Total night minutes</th>\n",
              "      <td id=\"T_bfc43_row8_col0\" class=\"data row8 col0\" >-0.008955</td>\n",
              "      <td id=\"T_bfc43_row8_col1\" class=\"data row8 col1\" >-0.005825</td>\n",
              "      <td id=\"T_bfc43_row8_col2\" class=\"data row8 col2\" >-0.028905</td>\n",
              "      <td id=\"T_bfc43_row8_col3\" class=\"data row8 col3\" >0.007681</td>\n",
              "      <td id=\"T_bfc43_row8_col4\" class=\"data row8 col4\" >0.004323</td>\n",
              "      <td id=\"T_bfc43_row8_col5\" class=\"data row8 col5\" >0.022938</td>\n",
              "      <td id=\"T_bfc43_row8_col6\" class=\"data row8 col6\" >-0.012584</td>\n",
              "      <td id=\"T_bfc43_row8_col7\" class=\"data row8 col7\" >-0.002093</td>\n",
              "      <td id=\"T_bfc43_row8_col8\" class=\"data row8 col8\" >1.000000</td>\n",
              "      <td id=\"T_bfc43_row8_col9\" class=\"data row8 col9\" >0.011204</td>\n",
              "      <td id=\"T_bfc43_row8_col10\" class=\"data row8 col10\" >-0.015207</td>\n",
              "      <td id=\"T_bfc43_row8_col11\" class=\"data row8 col11\" >-0.012353</td>\n",
              "      <td id=\"T_bfc43_row8_col12\" class=\"data row8 col12\" >-0.009288</td>\n",
              "      <td id=\"T_bfc43_row8_col13\" class=\"data row8 col13\" >0.035493</td>\n",
              "    </tr>\n",
              "    <tr>\n",
              "      <th id=\"T_bfc43_level0_row9\" class=\"row_heading level0 row9\" >Total night calls</th>\n",
              "      <td id=\"T_bfc43_row9_col0\" class=\"data row9 col0\" >-0.013176</td>\n",
              "      <td id=\"T_bfc43_row9_col1\" class=\"data row9 col1\" >0.016522</td>\n",
              "      <td id=\"T_bfc43_row9_col2\" class=\"data row9 col2\" >0.012451</td>\n",
              "      <td id=\"T_bfc43_row9_col3\" class=\"data row9 col3\" >0.007123</td>\n",
              "      <td id=\"T_bfc43_row9_col4\" class=\"data row9 col4\" >0.022972</td>\n",
              "      <td id=\"T_bfc43_row9_col5\" class=\"data row9 col5\" >-0.019557</td>\n",
              "      <td id=\"T_bfc43_row9_col6\" class=\"data row9 col6\" >0.007586</td>\n",
              "      <td id=\"T_bfc43_row9_col7\" class=\"data row9 col7\" >0.007710</td>\n",
              "      <td id=\"T_bfc43_row9_col8\" class=\"data row9 col8\" >0.011204</td>\n",
              "      <td id=\"T_bfc43_row9_col9\" class=\"data row9 col9\" >1.000000</td>\n",
              "      <td id=\"T_bfc43_row9_col10\" class=\"data row9 col10\" >-0.013605</td>\n",
              "      <td id=\"T_bfc43_row9_col11\" class=\"data row9 col11\" >0.000305</td>\n",
              "      <td id=\"T_bfc43_row9_col12\" class=\"data row9 col12\" >-0.012802</td>\n",
              "      <td id=\"T_bfc43_row9_col13\" class=\"data row9 col13\" >0.006141</td>\n",
              "    </tr>\n",
              "    <tr>\n",
              "      <th id=\"T_bfc43_level0_row10\" class=\"row_heading level0 row10\" >Total intl minutes</th>\n",
              "      <td id=\"T_bfc43_row10_col0\" class=\"data row10 col0\" >0.009514</td>\n",
              "      <td id=\"T_bfc43_row10_col1\" class=\"data row10 col1\" >-0.018288</td>\n",
              "      <td id=\"T_bfc43_row10_col2\" class=\"data row10 col2\" >0.045871</td>\n",
              "      <td id=\"T_bfc43_row10_col3\" class=\"data row10 col3\" >0.002856</td>\n",
              "      <td id=\"T_bfc43_row10_col4\" class=\"data row10 col4\" >-0.010155</td>\n",
              "      <td id=\"T_bfc43_row10_col5\" class=\"data row10 col5\" >0.021565</td>\n",
              "      <td id=\"T_bfc43_row10_col6\" class=\"data row10 col6\" >-0.011035</td>\n",
              "      <td id=\"T_bfc43_row10_col7\" class=\"data row10 col7\" >0.008703</td>\n",
              "      <td id=\"T_bfc43_row10_col8\" class=\"data row10 col8\" >-0.015207</td>\n",
              "      <td id=\"T_bfc43_row10_col9\" class=\"data row10 col9\" >-0.013605</td>\n",
              "      <td id=\"T_bfc43_row10_col10\" class=\"data row10 col10\" >1.000000</td>\n",
              "      <td id=\"T_bfc43_row10_col11\" class=\"data row10 col11\" >0.032304</td>\n",
              "      <td id=\"T_bfc43_row10_col12\" class=\"data row10 col12\" >-0.009640</td>\n",
              "      <td id=\"T_bfc43_row10_col13\" class=\"data row10 col13\" >0.068239</td>\n",
              "    </tr>\n",
              "    <tr>\n",
              "      <th id=\"T_bfc43_level0_row11\" class=\"row_heading level0 row11\" >Total intl calls</th>\n",
              "      <td id=\"T_bfc43_row11_col0\" class=\"data row11 col0\" >0.020661</td>\n",
              "      <td id=\"T_bfc43_row11_col1\" class=\"data row11 col1\" >-0.024179</td>\n",
              "      <td id=\"T_bfc43_row11_col2\" class=\"data row11 col2\" >0.017366</td>\n",
              "      <td id=\"T_bfc43_row11_col3\" class=\"data row11 col3\" >0.013957</td>\n",
              "      <td id=\"T_bfc43_row11_col4\" class=\"data row11 col4\" >0.008033</td>\n",
              "      <td id=\"T_bfc43_row11_col5\" class=\"data row11 col5\" >0.004574</td>\n",
              "      <td id=\"T_bfc43_row11_col6\" class=\"data row11 col6\" >0.002541</td>\n",
              "      <td id=\"T_bfc43_row11_col7\" class=\"data row11 col7\" >0.017434</td>\n",
              "      <td id=\"T_bfc43_row11_col8\" class=\"data row11 col8\" >-0.012353</td>\n",
              "      <td id=\"T_bfc43_row11_col9\" class=\"data row11 col9\" >0.000305</td>\n",
              "      <td id=\"T_bfc43_row11_col10\" class=\"data row11 col10\" >0.032304</td>\n",
              "      <td id=\"T_bfc43_row11_col11\" class=\"data row11 col11\" >1.000000</td>\n",
              "      <td id=\"T_bfc43_row11_col12\" class=\"data row11 col12\" >-0.017561</td>\n",
              "      <td id=\"T_bfc43_row11_col13\" class=\"data row11 col13\" >-0.052844</td>\n",
              "    </tr>\n",
              "    <tr>\n",
              "      <th id=\"T_bfc43_level0_row12\" class=\"row_heading level0 row12\" >Customer service calls</th>\n",
              "      <td id=\"T_bfc43_row12_col0\" class=\"data row12 col0\" >-0.003796</td>\n",
              "      <td id=\"T_bfc43_row12_col1\" class=\"data row12 col1\" >0.027572</td>\n",
              "      <td id=\"T_bfc43_row12_col2\" class=\"data row12 col2\" >-0.024522</td>\n",
              "      <td id=\"T_bfc43_row12_col3\" class=\"data row12 col3\" >-0.013263</td>\n",
              "      <td id=\"T_bfc43_row12_col4\" class=\"data row12 col4\" >-0.013423</td>\n",
              "      <td id=\"T_bfc43_row12_col5\" class=\"data row12 col5\" >-0.018942</td>\n",
              "      <td id=\"T_bfc43_row12_col6\" class=\"data row12 col6\" >-0.012985</td>\n",
              "      <td id=\"T_bfc43_row12_col7\" class=\"data row12 col7\" >0.002423</td>\n",
              "      <td id=\"T_bfc43_row12_col8\" class=\"data row12 col8\" >-0.009288</td>\n",
              "      <td id=\"T_bfc43_row12_col9\" class=\"data row12 col9\" >-0.012802</td>\n",
              "      <td id=\"T_bfc43_row12_col10\" class=\"data row12 col10\" >-0.009640</td>\n",
              "      <td id=\"T_bfc43_row12_col11\" class=\"data row12 col11\" >-0.017561</td>\n",
              "      <td id=\"T_bfc43_row12_col12\" class=\"data row12 col12\" >1.000000</td>\n",
              "      <td id=\"T_bfc43_row12_col13\" class=\"data row12 col13\" >0.208750</td>\n",
              "    </tr>\n",
              "    <tr>\n",
              "      <th id=\"T_bfc43_level0_row13\" class=\"row_heading level0 row13\" >Churn</th>\n",
              "      <td id=\"T_bfc43_row13_col0\" class=\"data row13 col0\" >0.016541</td>\n",
              "      <td id=\"T_bfc43_row13_col1\" class=\"data row13 col1\" >0.006174</td>\n",
              "      <td id=\"T_bfc43_row13_col2\" class=\"data row13 col2\" >0.259852</td>\n",
              "      <td id=\"T_bfc43_row13_col3\" class=\"data row13 col3\" >-0.089728</td>\n",
              "      <td id=\"T_bfc43_row13_col4\" class=\"data row13 col4\" >0.205151</td>\n",
              "      <td id=\"T_bfc43_row13_col5\" class=\"data row13 col5\" >0.018459</td>\n",
              "      <td id=\"T_bfc43_row13_col6\" class=\"data row13 col6\" >0.092796</td>\n",
              "      <td id=\"T_bfc43_row13_col7\" class=\"data row13 col7\" >0.009233</td>\n",
              "      <td id=\"T_bfc43_row13_col8\" class=\"data row13 col8\" >0.035493</td>\n",
              "      <td id=\"T_bfc43_row13_col9\" class=\"data row13 col9\" >0.006141</td>\n",
              "      <td id=\"T_bfc43_row13_col10\" class=\"data row13 col10\" >0.068239</td>\n",
              "      <td id=\"T_bfc43_row13_col11\" class=\"data row13 col11\" >-0.052844</td>\n",
              "      <td id=\"T_bfc43_row13_col12\" class=\"data row13 col12\" >0.208750</td>\n",
              "      <td id=\"T_bfc43_row13_col13\" class=\"data row13 col13\" >1.000000</td>\n",
              "    </tr>\n",
              "  </tbody>\n",
              "</table>\n"
            ]
          },
          "metadata": {},
          "execution_count": 183
        }
      ]
    },
    {
      "cell_type": "markdown",
      "source": [
        "#C"
      ],
      "metadata": {
        "id": "At8Sq72c5Gez"
      }
    },
    {
      "cell_type": "code",
      "source": [
        "newtc = newtc.drop(\"Area code\", axis = 1).drop(\"Account length\", axis = 1)"
      ],
      "metadata": {
        "id": "0ecNT1gk9pGv"
      },
      "execution_count": null,
      "outputs": []
    },
    {
      "cell_type": "code",
      "source": [
        "newtc['International plan'] = newtc['International plan'] == 'Yes'\n",
        "newtc['International plan'] = newtc['International plan'].replace({True: 1, False: 0})\n",
        "\n",
        "\n",
        "X_new, y_new = np.array(df.drop([\"Churn\"] , axis=1)), np.array([int(i) for i in list(df[\"Churn\"])]).reshape(-1, 1)\n",
        "\n",
        "Xtrain, Xtest, ytrain, ytest = train_test_split(X_new, y_new, test_size=0.3, random_state=42)\n",
        "\n",
        "pipeln = make_pipeline(PolynomialFeatures(3),\n",
        "                     StandardScaler(),\n",
        "                     GridSearchCV(LogisticRegression(),\n",
        "                                  param_grid={\"C\": [0.01, 0.1, 1, 10, 100]},\n",
        "                                  scoring='f1',\n",
        "                                  cv=5))\n",
        "\n",
        "pipeln.fit(Xtrain, ytrain)\n",
        "pipeln.score(Xtrain, ytrain)"
      ],
      "metadata": {
        "colab": {
          "base_uri": "https://localhost:8080/"
        },
        "id": "h2YnjJ395IwZ",
        "outputId": "ce757b57-eff3-416b-a78a-783875b3069e"
      },
      "execution_count": null,
      "outputs": [
        {
          "output_type": "stream",
          "name": "stderr",
          "text": [
            "/usr/local/lib/python3.9/dist-packages/sklearn/utils/validation.py:1143: DataConversionWarning: A column-vector y was passed when a 1d array was expected. Please change the shape of y to (n_samples, ), for example using ravel().\n",
            "  y = column_or_1d(y, warn=True)\n",
            "/usr/local/lib/python3.9/dist-packages/sklearn/linear_model/_logistic.py:458: ConvergenceWarning: lbfgs failed to converge (status=1):\n",
            "STOP: TOTAL NO. of ITERATIONS REACHED LIMIT.\n",
            "\n",
            "Increase the number of iterations (max_iter) or scale the data as shown in:\n",
            "    https://scikit-learn.org/stable/modules/preprocessing.html\n",
            "Please also refer to the documentation for alternative solver options:\n",
            "    https://scikit-learn.org/stable/modules/linear_model.html#logistic-regression\n",
            "  n_iter_i = _check_optimize_result(\n",
            "/usr/local/lib/python3.9/dist-packages/sklearn/utils/validation.py:1143: DataConversionWarning: A column-vector y was passed when a 1d array was expected. Please change the shape of y to (n_samples, ), for example using ravel().\n",
            "  y = column_or_1d(y, warn=True)\n",
            "/usr/local/lib/python3.9/dist-packages/sklearn/linear_model/_logistic.py:458: ConvergenceWarning: lbfgs failed to converge (status=1):\n",
            "STOP: TOTAL NO. of ITERATIONS REACHED LIMIT.\n",
            "\n",
            "Increase the number of iterations (max_iter) or scale the data as shown in:\n",
            "    https://scikit-learn.org/stable/modules/preprocessing.html\n",
            "Please also refer to the documentation for alternative solver options:\n",
            "    https://scikit-learn.org/stable/modules/linear_model.html#logistic-regression\n",
            "  n_iter_i = _check_optimize_result(\n",
            "/usr/local/lib/python3.9/dist-packages/sklearn/utils/validation.py:1143: DataConversionWarning: A column-vector y was passed when a 1d array was expected. Please change the shape of y to (n_samples, ), for example using ravel().\n",
            "  y = column_or_1d(y, warn=True)\n",
            "/usr/local/lib/python3.9/dist-packages/sklearn/linear_model/_logistic.py:458: ConvergenceWarning: lbfgs failed to converge (status=1):\n",
            "STOP: TOTAL NO. of ITERATIONS REACHED LIMIT.\n",
            "\n",
            "Increase the number of iterations (max_iter) or scale the data as shown in:\n",
            "    https://scikit-learn.org/stable/modules/preprocessing.html\n",
            "Please also refer to the documentation for alternative solver options:\n",
            "    https://scikit-learn.org/stable/modules/linear_model.html#logistic-regression\n",
            "  n_iter_i = _check_optimize_result(\n",
            "/usr/local/lib/python3.9/dist-packages/sklearn/utils/validation.py:1143: DataConversionWarning: A column-vector y was passed when a 1d array was expected. Please change the shape of y to (n_samples, ), for example using ravel().\n",
            "  y = column_or_1d(y, warn=True)\n",
            "/usr/local/lib/python3.9/dist-packages/sklearn/linear_model/_logistic.py:458: ConvergenceWarning: lbfgs failed to converge (status=1):\n",
            "STOP: TOTAL NO. of ITERATIONS REACHED LIMIT.\n",
            "\n",
            "Increase the number of iterations (max_iter) or scale the data as shown in:\n",
            "    https://scikit-learn.org/stable/modules/preprocessing.html\n",
            "Please also refer to the documentation for alternative solver options:\n",
            "    https://scikit-learn.org/stable/modules/linear_model.html#logistic-regression\n",
            "  n_iter_i = _check_optimize_result(\n",
            "/usr/local/lib/python3.9/dist-packages/sklearn/utils/validation.py:1143: DataConversionWarning: A column-vector y was passed when a 1d array was expected. Please change the shape of y to (n_samples, ), for example using ravel().\n",
            "  y = column_or_1d(y, warn=True)\n",
            "/usr/local/lib/python3.9/dist-packages/sklearn/linear_model/_logistic.py:458: ConvergenceWarning: lbfgs failed to converge (status=1):\n",
            "STOP: TOTAL NO. of ITERATIONS REACHED LIMIT.\n",
            "\n",
            "Increase the number of iterations (max_iter) or scale the data as shown in:\n",
            "    https://scikit-learn.org/stable/modules/preprocessing.html\n",
            "Please also refer to the documentation for alternative solver options:\n",
            "    https://scikit-learn.org/stable/modules/linear_model.html#logistic-regression\n",
            "  n_iter_i = _check_optimize_result(\n",
            "/usr/local/lib/python3.9/dist-packages/sklearn/utils/validation.py:1143: DataConversionWarning: A column-vector y was passed when a 1d array was expected. Please change the shape of y to (n_samples, ), for example using ravel().\n",
            "  y = column_or_1d(y, warn=True)\n",
            "/usr/local/lib/python3.9/dist-packages/sklearn/linear_model/_logistic.py:458: ConvergenceWarning: lbfgs failed to converge (status=1):\n",
            "STOP: TOTAL NO. of ITERATIONS REACHED LIMIT.\n",
            "\n",
            "Increase the number of iterations (max_iter) or scale the data as shown in:\n",
            "    https://scikit-learn.org/stable/modules/preprocessing.html\n",
            "Please also refer to the documentation for alternative solver options:\n",
            "    https://scikit-learn.org/stable/modules/linear_model.html#logistic-regression\n",
            "  n_iter_i = _check_optimize_result(\n",
            "/usr/local/lib/python3.9/dist-packages/sklearn/utils/validation.py:1143: DataConversionWarning: A column-vector y was passed when a 1d array was expected. Please change the shape of y to (n_samples, ), for example using ravel().\n",
            "  y = column_or_1d(y, warn=True)\n",
            "/usr/local/lib/python3.9/dist-packages/sklearn/linear_model/_logistic.py:458: ConvergenceWarning: lbfgs failed to converge (status=1):\n",
            "STOP: TOTAL NO. of ITERATIONS REACHED LIMIT.\n",
            "\n",
            "Increase the number of iterations (max_iter) or scale the data as shown in:\n",
            "    https://scikit-learn.org/stable/modules/preprocessing.html\n",
            "Please also refer to the documentation for alternative solver options:\n",
            "    https://scikit-learn.org/stable/modules/linear_model.html#logistic-regression\n",
            "  n_iter_i = _check_optimize_result(\n",
            "/usr/local/lib/python3.9/dist-packages/sklearn/utils/validation.py:1143: DataConversionWarning: A column-vector y was passed when a 1d array was expected. Please change the shape of y to (n_samples, ), for example using ravel().\n",
            "  y = column_or_1d(y, warn=True)\n",
            "/usr/local/lib/python3.9/dist-packages/sklearn/linear_model/_logistic.py:458: ConvergenceWarning: lbfgs failed to converge (status=1):\n",
            "STOP: TOTAL NO. of ITERATIONS REACHED LIMIT.\n",
            "\n",
            "Increase the number of iterations (max_iter) or scale the data as shown in:\n",
            "    https://scikit-learn.org/stable/modules/preprocessing.html\n",
            "Please also refer to the documentation for alternative solver options:\n",
            "    https://scikit-learn.org/stable/modules/linear_model.html#logistic-regression\n",
            "  n_iter_i = _check_optimize_result(\n",
            "/usr/local/lib/python3.9/dist-packages/sklearn/utils/validation.py:1143: DataConversionWarning: A column-vector y was passed when a 1d array was expected. Please change the shape of y to (n_samples, ), for example using ravel().\n",
            "  y = column_or_1d(y, warn=True)\n",
            "/usr/local/lib/python3.9/dist-packages/sklearn/linear_model/_logistic.py:458: ConvergenceWarning: lbfgs failed to converge (status=1):\n",
            "STOP: TOTAL NO. of ITERATIONS REACHED LIMIT.\n",
            "\n",
            "Increase the number of iterations (max_iter) or scale the data as shown in:\n",
            "    https://scikit-learn.org/stable/modules/preprocessing.html\n",
            "Please also refer to the documentation for alternative solver options:\n",
            "    https://scikit-learn.org/stable/modules/linear_model.html#logistic-regression\n",
            "  n_iter_i = _check_optimize_result(\n",
            "/usr/local/lib/python3.9/dist-packages/sklearn/utils/validation.py:1143: DataConversionWarning: A column-vector y was passed when a 1d array was expected. Please change the shape of y to (n_samples, ), for example using ravel().\n",
            "  y = column_or_1d(y, warn=True)\n",
            "/usr/local/lib/python3.9/dist-packages/sklearn/linear_model/_logistic.py:458: ConvergenceWarning: lbfgs failed to converge (status=1):\n",
            "STOP: TOTAL NO. of ITERATIONS REACHED LIMIT.\n",
            "\n",
            "Increase the number of iterations (max_iter) or scale the data as shown in:\n",
            "    https://scikit-learn.org/stable/modules/preprocessing.html\n",
            "Please also refer to the documentation for alternative solver options:\n",
            "    https://scikit-learn.org/stable/modules/linear_model.html#logistic-regression\n",
            "  n_iter_i = _check_optimize_result(\n",
            "/usr/local/lib/python3.9/dist-packages/sklearn/utils/validation.py:1143: DataConversionWarning: A column-vector y was passed when a 1d array was expected. Please change the shape of y to (n_samples, ), for example using ravel().\n",
            "  y = column_or_1d(y, warn=True)\n",
            "/usr/local/lib/python3.9/dist-packages/sklearn/linear_model/_logistic.py:458: ConvergenceWarning: lbfgs failed to converge (status=1):\n",
            "STOP: TOTAL NO. of ITERATIONS REACHED LIMIT.\n",
            "\n",
            "Increase the number of iterations (max_iter) or scale the data as shown in:\n",
            "    https://scikit-learn.org/stable/modules/preprocessing.html\n",
            "Please also refer to the documentation for alternative solver options:\n",
            "    https://scikit-learn.org/stable/modules/linear_model.html#logistic-regression\n",
            "  n_iter_i = _check_optimize_result(\n",
            "/usr/local/lib/python3.9/dist-packages/sklearn/utils/validation.py:1143: DataConversionWarning: A column-vector y was passed when a 1d array was expected. Please change the shape of y to (n_samples, ), for example using ravel().\n",
            "  y = column_or_1d(y, warn=True)\n",
            "/usr/local/lib/python3.9/dist-packages/sklearn/linear_model/_logistic.py:458: ConvergenceWarning: lbfgs failed to converge (status=1):\n",
            "STOP: TOTAL NO. of ITERATIONS REACHED LIMIT.\n",
            "\n",
            "Increase the number of iterations (max_iter) or scale the data as shown in:\n",
            "    https://scikit-learn.org/stable/modules/preprocessing.html\n",
            "Please also refer to the documentation for alternative solver options:\n",
            "    https://scikit-learn.org/stable/modules/linear_model.html#logistic-regression\n",
            "  n_iter_i = _check_optimize_result(\n",
            "/usr/local/lib/python3.9/dist-packages/sklearn/utils/validation.py:1143: DataConversionWarning: A column-vector y was passed when a 1d array was expected. Please change the shape of y to (n_samples, ), for example using ravel().\n",
            "  y = column_or_1d(y, warn=True)\n",
            "/usr/local/lib/python3.9/dist-packages/sklearn/linear_model/_logistic.py:458: ConvergenceWarning: lbfgs failed to converge (status=1):\n",
            "STOP: TOTAL NO. of ITERATIONS REACHED LIMIT.\n",
            "\n",
            "Increase the number of iterations (max_iter) or scale the data as shown in:\n",
            "    https://scikit-learn.org/stable/modules/preprocessing.html\n",
            "Please also refer to the documentation for alternative solver options:\n",
            "    https://scikit-learn.org/stable/modules/linear_model.html#logistic-regression\n",
            "  n_iter_i = _check_optimize_result(\n",
            "/usr/local/lib/python3.9/dist-packages/sklearn/utils/validation.py:1143: DataConversionWarning: A column-vector y was passed when a 1d array was expected. Please change the shape of y to (n_samples, ), for example using ravel().\n",
            "  y = column_or_1d(y, warn=True)\n",
            "/usr/local/lib/python3.9/dist-packages/sklearn/linear_model/_logistic.py:458: ConvergenceWarning: lbfgs failed to converge (status=1):\n",
            "STOP: TOTAL NO. of ITERATIONS REACHED LIMIT.\n",
            "\n",
            "Increase the number of iterations (max_iter) or scale the data as shown in:\n",
            "    https://scikit-learn.org/stable/modules/preprocessing.html\n",
            "Please also refer to the documentation for alternative solver options:\n",
            "    https://scikit-learn.org/stable/modules/linear_model.html#logistic-regression\n",
            "  n_iter_i = _check_optimize_result(\n",
            "/usr/local/lib/python3.9/dist-packages/sklearn/utils/validation.py:1143: DataConversionWarning: A column-vector y was passed when a 1d array was expected. Please change the shape of y to (n_samples, ), for example using ravel().\n",
            "  y = column_or_1d(y, warn=True)\n",
            "/usr/local/lib/python3.9/dist-packages/sklearn/linear_model/_logistic.py:458: ConvergenceWarning: lbfgs failed to converge (status=1):\n",
            "STOP: TOTAL NO. of ITERATIONS REACHED LIMIT.\n",
            "\n",
            "Increase the number of iterations (max_iter) or scale the data as shown in:\n",
            "    https://scikit-learn.org/stable/modules/preprocessing.html\n",
            "Please also refer to the documentation for alternative solver options:\n",
            "    https://scikit-learn.org/stable/modules/linear_model.html#logistic-regression\n",
            "  n_iter_i = _check_optimize_result(\n",
            "/usr/local/lib/python3.9/dist-packages/sklearn/utils/validation.py:1143: DataConversionWarning: A column-vector y was passed when a 1d array was expected. Please change the shape of y to (n_samples, ), for example using ravel().\n",
            "  y = column_or_1d(y, warn=True)\n",
            "/usr/local/lib/python3.9/dist-packages/sklearn/linear_model/_logistic.py:458: ConvergenceWarning: lbfgs failed to converge (status=1):\n",
            "STOP: TOTAL NO. of ITERATIONS REACHED LIMIT.\n",
            "\n",
            "Increase the number of iterations (max_iter) or scale the data as shown in:\n",
            "    https://scikit-learn.org/stable/modules/preprocessing.html\n",
            "Please also refer to the documentation for alternative solver options:\n",
            "    https://scikit-learn.org/stable/modules/linear_model.html#logistic-regression\n",
            "  n_iter_i = _check_optimize_result(\n",
            "/usr/local/lib/python3.9/dist-packages/sklearn/utils/validation.py:1143: DataConversionWarning: A column-vector y was passed when a 1d array was expected. Please change the shape of y to (n_samples, ), for example using ravel().\n",
            "  y = column_or_1d(y, warn=True)\n",
            "/usr/local/lib/python3.9/dist-packages/sklearn/linear_model/_logistic.py:458: ConvergenceWarning: lbfgs failed to converge (status=1):\n",
            "STOP: TOTAL NO. of ITERATIONS REACHED LIMIT.\n",
            "\n",
            "Increase the number of iterations (max_iter) or scale the data as shown in:\n",
            "    https://scikit-learn.org/stable/modules/preprocessing.html\n",
            "Please also refer to the documentation for alternative solver options:\n",
            "    https://scikit-learn.org/stable/modules/linear_model.html#logistic-regression\n",
            "  n_iter_i = _check_optimize_result(\n",
            "/usr/local/lib/python3.9/dist-packages/sklearn/utils/validation.py:1143: DataConversionWarning: A column-vector y was passed when a 1d array was expected. Please change the shape of y to (n_samples, ), for example using ravel().\n",
            "  y = column_or_1d(y, warn=True)\n",
            "/usr/local/lib/python3.9/dist-packages/sklearn/linear_model/_logistic.py:458: ConvergenceWarning: lbfgs failed to converge (status=1):\n",
            "STOP: TOTAL NO. of ITERATIONS REACHED LIMIT.\n",
            "\n",
            "Increase the number of iterations (max_iter) or scale the data as shown in:\n",
            "    https://scikit-learn.org/stable/modules/preprocessing.html\n",
            "Please also refer to the documentation for alternative solver options:\n",
            "    https://scikit-learn.org/stable/modules/linear_model.html#logistic-regression\n",
            "  n_iter_i = _check_optimize_result(\n",
            "/usr/local/lib/python3.9/dist-packages/sklearn/utils/validation.py:1143: DataConversionWarning: A column-vector y was passed when a 1d array was expected. Please change the shape of y to (n_samples, ), for example using ravel().\n",
            "  y = column_or_1d(y, warn=True)\n",
            "/usr/local/lib/python3.9/dist-packages/sklearn/linear_model/_logistic.py:458: ConvergenceWarning: lbfgs failed to converge (status=1):\n",
            "STOP: TOTAL NO. of ITERATIONS REACHED LIMIT.\n",
            "\n",
            "Increase the number of iterations (max_iter) or scale the data as shown in:\n",
            "    https://scikit-learn.org/stable/modules/preprocessing.html\n",
            "Please also refer to the documentation for alternative solver options:\n",
            "    https://scikit-learn.org/stable/modules/linear_model.html#logistic-regression\n",
            "  n_iter_i = _check_optimize_result(\n",
            "/usr/local/lib/python3.9/dist-packages/sklearn/utils/validation.py:1143: DataConversionWarning: A column-vector y was passed when a 1d array was expected. Please change the shape of y to (n_samples, ), for example using ravel().\n",
            "  y = column_or_1d(y, warn=True)\n",
            "/usr/local/lib/python3.9/dist-packages/sklearn/linear_model/_logistic.py:458: ConvergenceWarning: lbfgs failed to converge (status=1):\n",
            "STOP: TOTAL NO. of ITERATIONS REACHED LIMIT.\n",
            "\n",
            "Increase the number of iterations (max_iter) or scale the data as shown in:\n",
            "    https://scikit-learn.org/stable/modules/preprocessing.html\n",
            "Please also refer to the documentation for alternative solver options:\n",
            "    https://scikit-learn.org/stable/modules/linear_model.html#logistic-regression\n",
            "  n_iter_i = _check_optimize_result(\n",
            "/usr/local/lib/python3.9/dist-packages/sklearn/utils/validation.py:1143: DataConversionWarning: A column-vector y was passed when a 1d array was expected. Please change the shape of y to (n_samples, ), for example using ravel().\n",
            "  y = column_or_1d(y, warn=True)\n",
            "/usr/local/lib/python3.9/dist-packages/sklearn/linear_model/_logistic.py:458: ConvergenceWarning: lbfgs failed to converge (status=1):\n",
            "STOP: TOTAL NO. of ITERATIONS REACHED LIMIT.\n",
            "\n",
            "Increase the number of iterations (max_iter) or scale the data as shown in:\n",
            "    https://scikit-learn.org/stable/modules/preprocessing.html\n",
            "Please also refer to the documentation for alternative solver options:\n",
            "    https://scikit-learn.org/stable/modules/linear_model.html#logistic-regression\n",
            "  n_iter_i = _check_optimize_result(\n",
            "/usr/local/lib/python3.9/dist-packages/sklearn/utils/validation.py:1143: DataConversionWarning: A column-vector y was passed when a 1d array was expected. Please change the shape of y to (n_samples, ), for example using ravel().\n",
            "  y = column_or_1d(y, warn=True)\n",
            "/usr/local/lib/python3.9/dist-packages/sklearn/linear_model/_logistic.py:458: ConvergenceWarning: lbfgs failed to converge (status=1):\n",
            "STOP: TOTAL NO. of ITERATIONS REACHED LIMIT.\n",
            "\n",
            "Increase the number of iterations (max_iter) or scale the data as shown in:\n",
            "    https://scikit-learn.org/stable/modules/preprocessing.html\n",
            "Please also refer to the documentation for alternative solver options:\n",
            "    https://scikit-learn.org/stable/modules/linear_model.html#logistic-regression\n",
            "  n_iter_i = _check_optimize_result(\n",
            "/usr/local/lib/python3.9/dist-packages/sklearn/utils/validation.py:1143: DataConversionWarning: A column-vector y was passed when a 1d array was expected. Please change the shape of y to (n_samples, ), for example using ravel().\n",
            "  y = column_or_1d(y, warn=True)\n",
            "/usr/local/lib/python3.9/dist-packages/sklearn/linear_model/_logistic.py:458: ConvergenceWarning: lbfgs failed to converge (status=1):\n",
            "STOP: TOTAL NO. of ITERATIONS REACHED LIMIT.\n",
            "\n",
            "Increase the number of iterations (max_iter) or scale the data as shown in:\n",
            "    https://scikit-learn.org/stable/modules/preprocessing.html\n",
            "Please also refer to the documentation for alternative solver options:\n",
            "    https://scikit-learn.org/stable/modules/linear_model.html#logistic-regression\n",
            "  n_iter_i = _check_optimize_result(\n",
            "/usr/local/lib/python3.9/dist-packages/sklearn/utils/validation.py:1143: DataConversionWarning: A column-vector y was passed when a 1d array was expected. Please change the shape of y to (n_samples, ), for example using ravel().\n",
            "  y = column_or_1d(y, warn=True)\n",
            "/usr/local/lib/python3.9/dist-packages/sklearn/linear_model/_logistic.py:458: ConvergenceWarning: lbfgs failed to converge (status=1):\n",
            "STOP: TOTAL NO. of ITERATIONS REACHED LIMIT.\n",
            "\n",
            "Increase the number of iterations (max_iter) or scale the data as shown in:\n",
            "    https://scikit-learn.org/stable/modules/preprocessing.html\n",
            "Please also refer to the documentation for alternative solver options:\n",
            "    https://scikit-learn.org/stable/modules/linear_model.html#logistic-regression\n",
            "  n_iter_i = _check_optimize_result(\n",
            "/usr/local/lib/python3.9/dist-packages/sklearn/utils/validation.py:1143: DataConversionWarning: A column-vector y was passed when a 1d array was expected. Please change the shape of y to (n_samples, ), for example using ravel().\n",
            "  y = column_or_1d(y, warn=True)\n",
            "/usr/local/lib/python3.9/dist-packages/sklearn/linear_model/_logistic.py:458: ConvergenceWarning: lbfgs failed to converge (status=1):\n",
            "STOP: TOTAL NO. of ITERATIONS REACHED LIMIT.\n",
            "\n",
            "Increase the number of iterations (max_iter) or scale the data as shown in:\n",
            "    https://scikit-learn.org/stable/modules/preprocessing.html\n",
            "Please also refer to the documentation for alternative solver options:\n",
            "    https://scikit-learn.org/stable/modules/linear_model.html#logistic-regression\n",
            "  n_iter_i = _check_optimize_result(\n",
            "/usr/local/lib/python3.9/dist-packages/sklearn/utils/validation.py:1143: DataConversionWarning: A column-vector y was passed when a 1d array was expected. Please change the shape of y to (n_samples, ), for example using ravel().\n",
            "  y = column_or_1d(y, warn=True)\n",
            "/usr/local/lib/python3.9/dist-packages/sklearn/linear_model/_logistic.py:458: ConvergenceWarning: lbfgs failed to converge (status=1):\n",
            "STOP: TOTAL NO. of ITERATIONS REACHED LIMIT.\n",
            "\n",
            "Increase the number of iterations (max_iter) or scale the data as shown in:\n",
            "    https://scikit-learn.org/stable/modules/preprocessing.html\n",
            "Please also refer to the documentation for alternative solver options:\n",
            "    https://scikit-learn.org/stable/modules/linear_model.html#logistic-regression\n",
            "  n_iter_i = _check_optimize_result(\n"
          ]
        },
        {
          "output_type": "execute_result",
          "data": {
            "text/plain": [
              "1.0"
            ]
          },
          "metadata": {},
          "execution_count": 186
        }
      ]
    },
    {
      "cell_type": "code",
      "source": [
        "pipeln.score(Xtest, ytest)"
      ],
      "metadata": {
        "colab": {
          "base_uri": "https://localhost:8080/"
        },
        "id": "IJXGr1Uw8Kez",
        "outputId": "67cf7df3-8bcf-4e83-f8fa-40698a8f6678"
      },
      "execution_count": null,
      "outputs": [
        {
          "output_type": "execute_result",
          "data": {
            "text/plain": [
              "0.4413793103448276"
            ]
          },
          "metadata": {},
          "execution_count": 187
        }
      ]
    },
    {
      "cell_type": "code",
      "source": [
        "print(\"F1-score:\", \"\\ntrain:\", f1_score(ytrain, pipeln.predict(Xtrain)), \"\\ntest:\", f1_score(ytest, pipeln.predict(Xtest)))\n",
        "print(\"\\n\\nROC-AUC:\", \"\\ntrain:\", ra(ytrain, pipeln.predict(Xtrain)), \"\\ntest:\", ra(ytest, pipeln.predict(Xtest)))"
      ],
      "metadata": {
        "colab": {
          "base_uri": "https://localhost:8080/"
        },
        "id": "tbpxSf7_XLFI",
        "outputId": "8790a7e6-b27e-4c2e-df42-503c57f0ab24"
      },
      "execution_count": null,
      "outputs": [
        {
          "output_type": "stream",
          "name": "stdout",
          "text": [
            "F1-score: \n",
            "train: 1.0 \n",
            "test: 0.4413793103448276\n",
            "\n",
            "\n",
            "ROC-AUC: \n",
            "train: 1.0 \n",
            "test: 0.6753514863199811\n"
          ]
        }
      ]
    },
    {
      "cell_type": "markdown",
      "source": [
        "Добавление полиномиальных признаков значительно повысило качество, несмотря на cильное переобучение"
      ],
      "metadata": {
        "id": "H1g9VrNIgrv3"
      }
    },
    {
      "cell_type": "markdown",
      "source": [
        "#E"
      ],
      "metadata": {
        "id": "zDnSLDUXgfCz"
      }
    },
    {
      "cell_type": "markdown",
      "source": [
        "а) Вывод:логистическая регрессия плохо решает задачу, SVC с линейным ядром спраляется приличнее. Интересная история происходит при добавлении полиномиальных признаков степени 3: модель переобучается, качество на трейне взлетает, но на тесте оно примерно примерно такое же (чуть лучше относительно f1-score и средне хуже относительно ROC-AUC), как и при работе SVC.\n",
        "\n",
        "Логистическая регрессия:\n",
        "\n",
        "F1-score: \n",
        "train: 0.3975409836065574 \n",
        "test: 0.33816425120772947\n",
        "\n",
        "ROC-AUC: \n",
        "train: 0.6298522770874531 \n",
        "test: 0.6054581357965255\n",
        "\n",
        "SVC:\n",
        "\n",
        "F1-score: \n",
        "train: 0.6950517836593786 \n",
        "test: 0.5567567567567568\n",
        "\n",
        "ROC-AUC: \n",
        "train: 0.8871683244296213 \n",
        "test: 0.7877944692413771\n",
        "\n",
        "\n",
        "polynomial(3):\n",
        "\n",
        "F1-score: \n",
        "train: 1.0 \n",
        "test: 0.4413793103448276\n",
        "\n",
        "ROC-AUC: \n",
        "train: 1.0 \n",
        "test: 0.6753514863199811"
      ],
      "metadata": {
        "id": "kyRe2-kZRuDD"
      }
    },
    {
      "cell_type": "markdown",
      "source": [
        "b)были добавлены полиномиальные признаки степени 3, удалены 1) слабокоррелирующие с целевой переменной признаки Area code и Account length, Total day calls, Total eve calls и Total night calls 2) сильнокррелирующие с другим признаком Total day charge, Total night charge, Total intl charge, Total eve charge, Voice mail plan."
      ],
      "metadata": {
        "id": "litqNh90Y5Db"
      }
    },
    {
      "cell_type": "markdown",
      "source": [
        "c)Да, переобучение очень небольшое при прирменении SCV: качество модели представлено выше"
      ],
      "metadata": {
        "id": "r7V_dja9ZRt8"
      }
    },
    {
      "cell_type": "markdown",
      "metadata": {
        "id": "eE3qjMj6mx2o"
      },
      "source": [
        "## Часть 2. Оценка качества моделей классификации (6 баллов)."
      ]
    },
    {
      "cell_type": "markdown",
      "metadata": {
        "id": "6to451sZmx2p"
      },
      "source": [
        "**Задание 0 (1 балл)**. Закончите определения, начинающиеся так:\n",
        "\n",
        "\n",
        "    accuracy - это доля правильных ответов, сделанных моделью. То есть количество предсказаний, где предсказанный класс совпал с истинным.\n",
        "\n",
        "    точность (precision) - это доля правильных ответов в пределах класса. То есть доля объектов истинно принадлежащих данному классу относительно всех объектов которые модель отнесла к этому классу. (TP/(TP+FP))\n",
        "\n",
        "    полнота (recall) - это доля объектов, реально относящихся к положительному классу, которые были предсказаны верно (TP/(TP+FN))\n",
        "\n",
        "    TPR - это же самое, что и recall - доля верно принятых объектов положительного класса. (TRUE POSITIVE RATE)\n",
        "\n",
        "    \n",
        "    \n",
        "Продолжите определения прямо в этой ячейке."
      ]
    },
    {
      "cell_type": "markdown",
      "metadata": {
        "id": "JwN68x2vmx2s"
      },
      "source": [
        "В этой части вы будете работать с данными в задаче скоринга. За работу с этими данными можно получить **5 баллов.**\n",
        "\n",
        "* Колонки 0, 1, ..., 13 - анонимизированные характеристики клиентов (некоторые числовые, некоторые категориальные). \n",
        "* Target - целевая переменная: 1 - выдать кредит, 0 - не выдать кредит.\n",
        "\n",
        "На этих данных было обучено три различных алгоритма классификации и получены предсказания:\n",
        "* pred1_probs - предсказанные вероятности положительного класса, полученные алгоритмом 1.\n",
        "* pred1_classes - предсказанные алгоритмом 1 классы\n",
        "* pred2_probs, pred2_classes, pred3_probs, pred3_classes - аналогичные величины для алгоритмов 2 и 3\n",
        "\n",
        "Наша задача - оценить качество каждого из трех алгоритмов и разобраться, какой из алгоритмов лучше всего работает в данной задаче."
      ]
    },
    {
      "cell_type": "code",
      "execution_count": null,
      "metadata": {
        "id": "K3y-RS3bmx2t",
        "colab": {
          "base_uri": "https://localhost:8080/",
          "height": 236
        },
        "outputId": "4af0a909-34db-4e70-dda4-4559628d5dfc"
      },
      "outputs": [
        {
          "output_type": "execute_result",
          "data": {
            "text/plain": [
              "   0      1      2  3  4  5      6  7  8   9  ...  11   12    13  target  \\\n",
              "0  1  22.08  11.46  2  4  4  1.585  0  0   0  ...   2  100  1213       0   \n",
              "1  0  22.67   7.00  2  8  4  0.165  0  0   0  ...   2  160     1       0   \n",
              "2  0  29.58   1.75  1  4  4  1.250  0  0   0  ...   2  280     1       0   \n",
              "3  0  21.67  11.50  1  5  3  0.000  1  1  11  ...   2    0     1       1   \n",
              "4  1  20.17   8.17  2  6  4  1.960  1  1  14  ...   2   60   159       1   \n",
              "\n",
              "   pred1_probs  pred1_classes  pred2_probs  pred2_classes  pred3_probs  \\\n",
              "0     0.506772              1     0.610853              1     0.375494   \n",
              "1     0.358519              0     0.185941              0     0.200975   \n",
              "2     0.358753              0     0.523009              1     0.160465   \n",
              "3     0.408729              0     0.185941              0     0.357771   \n",
              "4     0.480904              0     0.526646              1     0.260169   \n",
              "\n",
              "   pred3_classes  \n",
              "0              0  \n",
              "1              0  \n",
              "2              0  \n",
              "3              0  \n",
              "4              0  \n",
              "\n",
              "[5 rows x 21 columns]"
            ],
            "text/html": [
              "\n",
              "  <div id=\"df-cb741ea8-2a58-4b27-af1b-531269eb11c8\">\n",
              "    <div class=\"colab-df-container\">\n",
              "      <div>\n",
              "<style scoped>\n",
              "    .dataframe tbody tr th:only-of-type {\n",
              "        vertical-align: middle;\n",
              "    }\n",
              "\n",
              "    .dataframe tbody tr th {\n",
              "        vertical-align: top;\n",
              "    }\n",
              "\n",
              "    .dataframe thead th {\n",
              "        text-align: right;\n",
              "    }\n",
              "</style>\n",
              "<table border=\"1\" class=\"dataframe\">\n",
              "  <thead>\n",
              "    <tr style=\"text-align: right;\">\n",
              "      <th></th>\n",
              "      <th>0</th>\n",
              "      <th>1</th>\n",
              "      <th>2</th>\n",
              "      <th>3</th>\n",
              "      <th>4</th>\n",
              "      <th>5</th>\n",
              "      <th>6</th>\n",
              "      <th>7</th>\n",
              "      <th>8</th>\n",
              "      <th>9</th>\n",
              "      <th>...</th>\n",
              "      <th>11</th>\n",
              "      <th>12</th>\n",
              "      <th>13</th>\n",
              "      <th>target</th>\n",
              "      <th>pred1_probs</th>\n",
              "      <th>pred1_classes</th>\n",
              "      <th>pred2_probs</th>\n",
              "      <th>pred2_classes</th>\n",
              "      <th>pred3_probs</th>\n",
              "      <th>pred3_classes</th>\n",
              "    </tr>\n",
              "  </thead>\n",
              "  <tbody>\n",
              "    <tr>\n",
              "      <th>0</th>\n",
              "      <td>1</td>\n",
              "      <td>22.08</td>\n",
              "      <td>11.46</td>\n",
              "      <td>2</td>\n",
              "      <td>4</td>\n",
              "      <td>4</td>\n",
              "      <td>1.585</td>\n",
              "      <td>0</td>\n",
              "      <td>0</td>\n",
              "      <td>0</td>\n",
              "      <td>...</td>\n",
              "      <td>2</td>\n",
              "      <td>100</td>\n",
              "      <td>1213</td>\n",
              "      <td>0</td>\n",
              "      <td>0.506772</td>\n",
              "      <td>1</td>\n",
              "      <td>0.610853</td>\n",
              "      <td>1</td>\n",
              "      <td>0.375494</td>\n",
              "      <td>0</td>\n",
              "    </tr>\n",
              "    <tr>\n",
              "      <th>1</th>\n",
              "      <td>0</td>\n",
              "      <td>22.67</td>\n",
              "      <td>7.00</td>\n",
              "      <td>2</td>\n",
              "      <td>8</td>\n",
              "      <td>4</td>\n",
              "      <td>0.165</td>\n",
              "      <td>0</td>\n",
              "      <td>0</td>\n",
              "      <td>0</td>\n",
              "      <td>...</td>\n",
              "      <td>2</td>\n",
              "      <td>160</td>\n",
              "      <td>1</td>\n",
              "      <td>0</td>\n",
              "      <td>0.358519</td>\n",
              "      <td>0</td>\n",
              "      <td>0.185941</td>\n",
              "      <td>0</td>\n",
              "      <td>0.200975</td>\n",
              "      <td>0</td>\n",
              "    </tr>\n",
              "    <tr>\n",
              "      <th>2</th>\n",
              "      <td>0</td>\n",
              "      <td>29.58</td>\n",
              "      <td>1.75</td>\n",
              "      <td>1</td>\n",
              "      <td>4</td>\n",
              "      <td>4</td>\n",
              "      <td>1.250</td>\n",
              "      <td>0</td>\n",
              "      <td>0</td>\n",
              "      <td>0</td>\n",
              "      <td>...</td>\n",
              "      <td>2</td>\n",
              "      <td>280</td>\n",
              "      <td>1</td>\n",
              "      <td>0</td>\n",
              "      <td>0.358753</td>\n",
              "      <td>0</td>\n",
              "      <td>0.523009</td>\n",
              "      <td>1</td>\n",
              "      <td>0.160465</td>\n",
              "      <td>0</td>\n",
              "    </tr>\n",
              "    <tr>\n",
              "      <th>3</th>\n",
              "      <td>0</td>\n",
              "      <td>21.67</td>\n",
              "      <td>11.50</td>\n",
              "      <td>1</td>\n",
              "      <td>5</td>\n",
              "      <td>3</td>\n",
              "      <td>0.000</td>\n",
              "      <td>1</td>\n",
              "      <td>1</td>\n",
              "      <td>11</td>\n",
              "      <td>...</td>\n",
              "      <td>2</td>\n",
              "      <td>0</td>\n",
              "      <td>1</td>\n",
              "      <td>1</td>\n",
              "      <td>0.408729</td>\n",
              "      <td>0</td>\n",
              "      <td>0.185941</td>\n",
              "      <td>0</td>\n",
              "      <td>0.357771</td>\n",
              "      <td>0</td>\n",
              "    </tr>\n",
              "    <tr>\n",
              "      <th>4</th>\n",
              "      <td>1</td>\n",
              "      <td>20.17</td>\n",
              "      <td>8.17</td>\n",
              "      <td>2</td>\n",
              "      <td>6</td>\n",
              "      <td>4</td>\n",
              "      <td>1.960</td>\n",
              "      <td>1</td>\n",
              "      <td>1</td>\n",
              "      <td>14</td>\n",
              "      <td>...</td>\n",
              "      <td>2</td>\n",
              "      <td>60</td>\n",
              "      <td>159</td>\n",
              "      <td>1</td>\n",
              "      <td>0.480904</td>\n",
              "      <td>0</td>\n",
              "      <td>0.526646</td>\n",
              "      <td>1</td>\n",
              "      <td>0.260169</td>\n",
              "      <td>0</td>\n",
              "    </tr>\n",
              "  </tbody>\n",
              "</table>\n",
              "<p>5 rows × 21 columns</p>\n",
              "</div>\n",
              "      <button class=\"colab-df-convert\" onclick=\"convertToInteractive('df-cb741ea8-2a58-4b27-af1b-531269eb11c8')\"\n",
              "              title=\"Convert this dataframe to an interactive table.\"\n",
              "              style=\"display:none;\">\n",
              "        \n",
              "  <svg xmlns=\"http://www.w3.org/2000/svg\" height=\"24px\"viewBox=\"0 0 24 24\"\n",
              "       width=\"24px\">\n",
              "    <path d=\"M0 0h24v24H0V0z\" fill=\"none\"/>\n",
              "    <path d=\"M18.56 5.44l.94 2.06.94-2.06 2.06-.94-2.06-.94-.94-2.06-.94 2.06-2.06.94zm-11 1L8.5 8.5l.94-2.06 2.06-.94-2.06-.94L8.5 2.5l-.94 2.06-2.06.94zm10 10l.94 2.06.94-2.06 2.06-.94-2.06-.94-.94-2.06-.94 2.06-2.06.94z\"/><path d=\"M17.41 7.96l-1.37-1.37c-.4-.4-.92-.59-1.43-.59-.52 0-1.04.2-1.43.59L10.3 9.45l-7.72 7.72c-.78.78-.78 2.05 0 2.83L4 21.41c.39.39.9.59 1.41.59.51 0 1.02-.2 1.41-.59l7.78-7.78 2.81-2.81c.8-.78.8-2.07 0-2.86zM5.41 20L4 18.59l7.72-7.72 1.47 1.35L5.41 20z\"/>\n",
              "  </svg>\n",
              "      </button>\n",
              "      \n",
              "  <style>\n",
              "    .colab-df-container {\n",
              "      display:flex;\n",
              "      flex-wrap:wrap;\n",
              "      gap: 12px;\n",
              "    }\n",
              "\n",
              "    .colab-df-convert {\n",
              "      background-color: #E8F0FE;\n",
              "      border: none;\n",
              "      border-radius: 50%;\n",
              "      cursor: pointer;\n",
              "      display: none;\n",
              "      fill: #1967D2;\n",
              "      height: 32px;\n",
              "      padding: 0 0 0 0;\n",
              "      width: 32px;\n",
              "    }\n",
              "\n",
              "    .colab-df-convert:hover {\n",
              "      background-color: #E2EBFA;\n",
              "      box-shadow: 0px 1px 2px rgba(60, 64, 67, 0.3), 0px 1px 3px 1px rgba(60, 64, 67, 0.15);\n",
              "      fill: #174EA6;\n",
              "    }\n",
              "\n",
              "    [theme=dark] .colab-df-convert {\n",
              "      background-color: #3B4455;\n",
              "      fill: #D2E3FC;\n",
              "    }\n",
              "\n",
              "    [theme=dark] .colab-df-convert:hover {\n",
              "      background-color: #434B5C;\n",
              "      box-shadow: 0px 1px 3px 1px rgba(0, 0, 0, 0.15);\n",
              "      filter: drop-shadow(0px 1px 2px rgba(0, 0, 0, 0.3));\n",
              "      fill: #FFFFFF;\n",
              "    }\n",
              "  </style>\n",
              "\n",
              "      <script>\n",
              "        const buttonEl =\n",
              "          document.querySelector('#df-cb741ea8-2a58-4b27-af1b-531269eb11c8 button.colab-df-convert');\n",
              "        buttonEl.style.display =\n",
              "          google.colab.kernel.accessAllowed ? 'block' : 'none';\n",
              "\n",
              "        async function convertToInteractive(key) {\n",
              "          const element = document.querySelector('#df-cb741ea8-2a58-4b27-af1b-531269eb11c8');\n",
              "          const dataTable =\n",
              "            await google.colab.kernel.invokeFunction('convertToInteractive',\n",
              "                                                     [key], {});\n",
              "          if (!dataTable) return;\n",
              "\n",
              "          const docLinkHtml = 'Like what you see? Visit the ' +\n",
              "            '<a target=\"_blank\" href=https://colab.research.google.com/notebooks/data_table.ipynb>data table notebook</a>'\n",
              "            + ' to learn more about interactive tables.';\n",
              "          element.innerHTML = '';\n",
              "          dataTable['output_type'] = 'display_data';\n",
              "          await google.colab.output.renderOutput(dataTable, element);\n",
              "          const docLink = document.createElement('div');\n",
              "          docLink.innerHTML = docLinkHtml;\n",
              "          element.appendChild(docLink);\n",
              "        }\n",
              "      </script>\n",
              "    </div>\n",
              "  </div>\n",
              "  "
            ]
          },
          "metadata": {},
          "execution_count": 78
        }
      ],
      "source": [
        "df = pd.read_csv(\"credit_scoring_example1.csv\")\n",
        "df.head()"
      ]
    },
    {
      "cell_type": "code",
      "execution_count": null,
      "metadata": {
        "id": "4f0vZrW6mx2u",
        "colab": {
          "base_uri": "https://localhost:8080/"
        },
        "outputId": "bb8ad9f5-a065-4a4b-c00e-4c9896d77991"
      },
      "outputs": [
        {
          "output_type": "execute_result",
          "data": {
            "text/plain": [
              "(689, 21)"
            ]
          },
          "metadata": {},
          "execution_count": 53
        }
      ],
      "source": [
        "df.shape"
      ]
    },
    {
      "cell_type": "markdown",
      "metadata": {
        "id": "v0fAZojHmx2v"
      },
      "source": [
        "**Задание 1.** Проверьте target на сбалансированность по классам, сделайте вывод."
      ]
    },
    {
      "cell_type": "code",
      "execution_count": null,
      "metadata": {
        "id": "ifDl0qgGmx2v",
        "colab": {
          "base_uri": "https://localhost:8080/"
        },
        "outputId": "b54ca4e3-00d2-42af-cc7d-e429490b6727"
      },
      "outputs": [
        {
          "output_type": "stream",
          "name": "stdout",
          "text": [
            "target: 0    382\n",
            "1    307\n",
            "Name: target, dtype: int64\n",
            "1: 0    495\n",
            "1    194\n",
            "Name: pred1_classes, dtype: int64\n",
            "2: 1    367\n",
            "0    322\n",
            "Name: pred2_classes, dtype: int64\n",
            "3: 0    534\n",
            "1    155\n",
            "Name: pred3_classes, dtype: int64\n"
          ]
        }
      ],
      "source": [
        "print(\"target:\", df[\"target\"].value_counts())\n",
        "print(\"1:\", df[\"pred1_classes\"].value_counts())\n",
        "print(\"2:\", df[\"pred2_classes\"].value_counts())\n",
        "print(\"3:\", df[\"pred3_classes\"].value_counts())"
      ]
    },
    {
      "cell_type": "markdown",
      "source": [
        "сбалансированность по классам есть только в pred1_classes"
      ],
      "metadata": {
        "id": "Hw38yDqAif7U"
      }
    },
    {
      "cell_type": "markdown",
      "metadata": {
        "id": "rlBv2Xdemx2w"
      },
      "source": [
        "**Задание 2.** Вычислите accuracy - долю правильных ответов каждого из алгоритмов. Какой алгоритм имеет наибольшую accuracy?"
      ]
    },
    {
      "cell_type": "code",
      "execution_count": null,
      "metadata": {
        "id": "1Uq5xMgSmx2x",
        "colab": {
          "base_uri": "https://localhost:8080/"
        },
        "outputId": "5494c919-2d60-4dc3-db76-992b21c3a950"
      },
      "outputs": [
        {
          "output_type": "stream",
          "name": "stdout",
          "text": [
            "1. Accuracy: 0.6618287373004355\n",
            "2. Accuracy: 0.6719883889695211\n",
            "3. Accuracy: 0.6400580551523948\n"
          ]
        }
      ],
      "source": [
        "from sklearn.metrics import accuracy_score as acc\n",
        "\n",
        "print(\"1. Accuracy:\", acc(df[\"pred1_classes\"], df[\"target\"]))\n",
        "print(\"2. Accuracy:\", acc(df[\"pred2_classes\"], df[\"target\"]))\n",
        "print(\"3. Accuracy:\", acc(df[\"pred3_classes\"], df[\"target\"]))"
      ]
    },
    {
      "cell_type": "markdown",
      "source": [
        "самый точный с точки зрения accuracy алгоритм - второй, хотя по качеству, все 3 алгоритма далеки от точности"
      ],
      "metadata": {
        "id": "0z7brGOaiwyM"
      }
    },
    {
      "cell_type": "markdown",
      "metadata": {
        "id": "7qsNiYjkmx2x"
      },
      "source": [
        "**Задание 3.** Теперь вычислите точность и полноту каждого из алгоритмов."
      ]
    },
    {
      "cell_type": "code",
      "execution_count": null,
      "metadata": {
        "id": "etTOdRG-mx2y",
        "colab": {
          "base_uri": "https://localhost:8080/"
        },
        "outputId": "c59b37ba-1bb8-43a5-dece-bd57b467e70c"
      },
      "outputs": [
        {
          "output_type": "stream",
          "name": "stdout",
          "text": [
            "1. Precision: 0.6907216494845361\n",
            "1. Recall: 0.4364820846905538\n",
            "2. Precision: 0.6103542234332425\n",
            "2. Recall: 0.7296416938110749\n",
            "3. Precision: 0.6903225806451613\n",
            "3. Recall: 0.3485342019543974\n"
          ]
        }
      ],
      "source": [
        "from sklearn.metrics import precision_score as pr, recall_score as rc\n",
        "\n",
        "print(\"1. Precision:\", pr(df[\"target\"], df[\"pred1_classes\"]))\n",
        "print(\"1. Recall:\", rc(df[\"target\"], df[\"pred1_classes\"]))\n",
        "print(\"2. Precision:\", pr(df[\"target\"], df[\"pred2_classes\"]))\n",
        "print(\"2. Recall:\", rc(df[\"target\"], df[\"pred2_classes\"]))\n",
        "print(\"3. Precision:\", pr(df[\"target\"], df[\"pred3_classes\"]))\n",
        "print(\"3. Recall:\", rc(df[\"target\"], df[\"pred3_classes\"]))"
      ]
    },
    {
      "cell_type": "markdown",
      "metadata": {
        "id": "Je06CPxKmx2z"
      },
      "source": [
        "Самым полезным инструментом в практических задачах является ***матрица ошибок***. Смотря на неё и регулируя порог, определяющий классы, мы можем достичь оптимального решения нашей задачи.\n",
        "\n",
        "**Задание 4.** Используя функцию plot_confusion_matrix для визуализации матрицы ошибок, нарисуйте матрицы ошибок всех трех алгоритмов."
      ]
    },
    {
      "cell_type": "code",
      "execution_count": null,
      "metadata": {
        "id": "QjjQ1OEvmx2z"
      },
      "outputs": [],
      "source": [
        "import itertools\n",
        "from sklearn.metrics import confusion_matrix\n",
        "\n",
        "def plot_confusion_matrix(cm, classes,\n",
        "                          normalize=False,\n",
        "                          title='Confusion matrix',\n",
        "                          cmap=plt.cm.Blues):\n",
        " \n",
        "    plt.imshow(cm, interpolation='nearest', cmap=cmap)\n",
        "    plt.title(title)\n",
        "    plt.colorbar()\n",
        "    tick_marks = np.arange(len(classes))\n",
        "    plt.xticks(tick_marks, classes, rotation=45)\n",
        "    plt.yticks(tick_marks, classes)\n",
        " \n",
        "    fmt = '.2f' if normalize else 'd'\n",
        "    thresh = cm.max() / 2.\n",
        "    for i, j in itertools.product(range(cm.shape[0]), range(cm.shape[1])):\n",
        "        plt.text(j, i, format(cm[i, j], fmt),\n",
        "                 horizontalalignment=\"center\",\n",
        "                 color=\"white\" if cm[i, j] > thresh else \"black\")\n",
        " \n",
        "    plt.tight_layout()\n",
        "    plt.ylabel('True label')\n",
        "    plt.xlabel('Predicted label')"
      ]
    },
    {
      "cell_type": "code",
      "execution_count": null,
      "metadata": {
        "id": "PiB47mYCmx20",
        "colab": {
          "base_uri": "https://localhost:8080/",
          "height": 506
        },
        "outputId": "c2c18f71-857e-4ed6-e7aa-fd34be98b80a"
      },
      "outputs": [
        {
          "output_type": "display_data",
          "data": {
            "text/plain": [
              "<Figure size 640x480 with 2 Axes>"
            ],
            "image/png": "[encoded data removed]"
          },
          "metadata": {}
        }
      ],
      "source": [
        "matrix_1 = confusion_matrix(df[\"target\"], df[\"pred1_classes\"])\n",
        "matrix_2 = confusion_matrix(df[\"target\"], df[\"pred2_classes\"])\n",
        "matrix_3 = confusion_matrix(df[\"target\"], df[\"pred3_classes\"])\n",
        "\n",
        "plot_confusion_matrix(matrix_1, df[\"pred1_classes\"].unique())"
      ]
    },
    {
      "cell_type": "code",
      "source": [
        "plot_confusion_matrix(matrix_2, df[\"pred2_classes\"].unique())"
      ],
      "metadata": {
        "colab": {
          "base_uri": "https://localhost:8080/",
          "height": 506
        },
        "id": "fyzrpPW2jU8h",
        "outputId": "90a88444-90f6-4a54-8cab-9cdb5914fd4e"
      },
      "execution_count": null,
      "outputs": [
        {
          "output_type": "display_data",
          "data": {
            "text/plain": [
              "<Figure size 640x480 with 2 Axes>"
            ],
            "image/png": "[encoded data removed]"
          },
          "metadata": {}
        }
      ]
    },
    {
      "cell_type": "code",
      "source": [
        "plot_confusion_matrix(matrix_3, df[\"pred3_classes\"].unique())"
      ],
      "metadata": {
        "colab": {
          "base_uri": "https://localhost:8080/",
          "height": 506
        },
        "id": "K5hy23S3jboZ",
        "outputId": "0f0b940b-bbe7-41dd-a43d-33daad069c52"
      },
      "execution_count": null,
      "outputs": [
        {
          "output_type": "display_data",
          "data": {
            "text/plain": [
              "<Figure size 640x480 with 2 Axes>"
            ],
            "image/png": "[encoded data removed]"
          },
          "metadata": {}
        }
      ]
    },
    {
      "cell_type": "markdown",
      "metadata": {
        "id": "nNVVlCGGmx21"
      },
      "source": [
        "Давайте определимся с целями нашего предсказания:\n",
        "    \n",
        "* **Вариант 1**: хотим выдать кредит максимальному числу людей среди тех, кто мог бы его вернуть. При этом не хотим много ошибаться (общее число ошибок не более 35%).\n",
        "  \n",
        "1) Мы не хотим, чтобы алгоритм много ошибался: accuracy $\\geq$ 0.65.\n",
        "\n",
        "2) Кроме того полнота должна быть как можно больше (число в левом нижнем квадрате матрицы ошибок минимально).\n",
        "\n",
        "**Задание 5.** Для каждого алгоритма найдите такой порог принятия решения, чтобы выполнялись перечисленные выше условия. Какой максимальной полноты можно добиться у каждой из моделей при условии, что accuracy $\\geq$ 0.65?\n",
        "\n",
        "**Комментарий:** порог можно искать в цикле с небольшим шагом."
      ]
    },
    {
      "cell_type": "code",
      "source": [
        "import builtins\n",
        "range = builtins.range"
      ],
      "metadata": {
        "id": "yLpvOSRv1ngd"
      },
      "execution_count": null,
      "outputs": []
    },
    {
      "cell_type": "code",
      "execution_count": null,
      "metadata": {
        "id": "JdaoAzVEmx21",
        "colab": {
          "base_uri": "https://localhost:8080/"
        },
        "outputId": "b255488a-e53d-4d77-e2c2-8b8028b78dc2"
      },
      "outputs": [
        {
          "output_type": "stream",
          "name": "stdout",
          "text": [
            "алгоритм 1: максимальное значение полноты: 0.742671009771987 при пороге: 0.36\n"
          ]
        }
      ],
      "source": [
        "lim1 = 0\n",
        "maxr = 0\n",
        "for i in range(101):\n",
        "  classes1 = df[\"pred1_probs\"].map(lambda x: 1 if x>i/100 else 0)\n",
        "  a = acc(df[\"target\"], classes1)\n",
        "  r = rc(df[\"target\"], classes1)\n",
        "\n",
        "  if a >= 0.65 and r > maxr:\n",
        "    maxr = r\n",
        "    lim1 = i\n",
        "print(\"алгоритм 1: максимальное значение полноты:\", maxr, \"при пороге:\", lim1/100)\n"
      ]
    },
    {
      "cell_type": "code",
      "source": [
        "classesl1 = df[\"pred1_probs\"].map(lambda x: 1 if x>lim1/100 else 0)\n",
        "matrix_l1 = confusion_matrix(df[\"target\"], classesl1)\n",
        "\n",
        "plot_confusion_matrix(matrix_l1, classesl1.unique())\n",
        "print(rc(df[\"target\"], classesl1))"
      ],
      "metadata": {
        "colab": {
          "base_uri": "https://localhost:8080/",
          "height": 524
        },
        "id": "jVqGy4SJ4MW4",
        "outputId": "545b5c33-518e-44a9-b8d5-9185f4769894"
      },
      "execution_count": null,
      "outputs": [
        {
          "output_type": "stream",
          "name": "stdout",
          "text": [
            "0.742671009771987\n"
          ]
        },
        {
          "output_type": "display_data",
          "data": {
            "text/plain": [
              "<Figure size 640x480 with 2 Axes>"
            ],
            "image/png": "[encoded data removed]"
          },
          "metadata": {}
        }
      ]
    },
    {
      "cell_type": "code",
      "source": [
        "lim2 = 0\n",
        "maxr = 0\n",
        "for i in range(101):\n",
        "  classes2 = df[\"pred2_probs\"].map(lambda x: 1 if x>i/100 else 0)\n",
        "  a = acc(df[\"target\"], classes2)\n",
        "  r = rc(df[\"target\"], classes2)\n",
        "\n",
        "  if a >= 0.65 and r > maxr:\n",
        "    maxr = r\n",
        "    lim2 = i\n",
        "print(\"алгоритм 2: максимальное значение полноты:\", maxr, \"при пороге:\", lim2/100)"
      ],
      "metadata": {
        "colab": {
          "base_uri": "https://localhost:8080/"
        },
        "id": "826QBjkK3Ahq",
        "outputId": "30178263-4bc4-4912-c49b-fd010c943c3e"
      },
      "execution_count": null,
      "outputs": [
        {
          "output_type": "stream",
          "name": "stdout",
          "text": [
            "алгоритм 2: максимальное значение полноты: 0.8371335504885994 при пороге: 0.27\n"
          ]
        }
      ]
    },
    {
      "cell_type": "code",
      "source": [
        "classesl2 = df[\"pred2_probs\"].map(lambda x: 1 if x>lim2/100 else 0)\n",
        "matrix_l2 = confusion_matrix(df[\"target\"], classesl2)\n",
        "\n",
        "plot_confusion_matrix(matrix_l2, classesl2.unique())\n",
        "print(rc(df[\"target\"], classesl2))"
      ],
      "metadata": {
        "colab": {
          "base_uri": "https://localhost:8080/",
          "height": 524
        },
        "id": "-wTtUcpU3kv2",
        "outputId": "7af9b71c-33b8-4eff-8c5a-be4c65d8d734"
      },
      "execution_count": null,
      "outputs": [
        {
          "output_type": "stream",
          "name": "stdout",
          "text": [
            "0.8371335504885994\n"
          ]
        },
        {
          "output_type": "display_data",
          "data": {
            "text/plain": [
              "<Figure size 640x480 with 2 Axes>"
            ],
            "image/png": "[encoded data removed]"
          },
          "metadata": {}
        }
      ]
    },
    {
      "cell_type": "code",
      "source": [
        "lim3 = 0\n",
        "maxr = 0\n",
        "for i in range(101):\n",
        "  classes3 = df[\"pred3_probs\"].map(lambda x: 1 if x>i/100 else 0)\n",
        "  a = acc(df[\"target\"], classes3)\n",
        "  r = rc(df[\"target\"], classes3)\n",
        "\n",
        "  if a >= 0.65 and r > maxr:\n",
        "    maxr = r\n",
        "    lim3 = i\n",
        "print(\"алгоритм 3: максимальное значение полноты:\", maxr, \"при пороге:\", lim3/100)"
      ],
      "metadata": {
        "colab": {
          "base_uri": "https://localhost:8080/"
        },
        "id": "f4kZgswX4jNQ",
        "outputId": "a904ab02-c188-4563-8037-8a8cfb91092e"
      },
      "execution_count": null,
      "outputs": [
        {
          "output_type": "stream",
          "name": "stdout",
          "text": [
            "алгоритм 3: максимальное значение полноты: 0 при пороге: 0.0\n"
          ]
        }
      ]
    },
    {
      "cell_type": "markdown",
      "source": [
        "алгоритм 3 не справился с задачей"
      ],
      "metadata": {
        "id": "3OamrtGt4zZW"
      }
    },
    {
      "cell_type": "markdown",
      "source": [
        "Итог: с вариантом 1 лучше всего справился 2 алгоритм, у него наиболее высокое значение полноты"
      ],
      "metadata": {
        "id": "PkB9wpyu5EJo"
      }
    },
    {
      "cell_type": "markdown",
      "metadata": {
        "id": "xYN-JLWKmx24"
      },
      "source": [
        "Наша цель может звучать и по-другому:\n",
        "    \n",
        "* **Вариант 2**: среди тех, кому модель выдает кредит, должно быть меньше всего ошибок (мало людей, кто его на самом деле не вернет - на них будем терять деньги). \n",
        "    При этом не хотим много ошибаться (общее число ошибок не более 35%).\n",
        "  \n",
        "1) Мы не хотим, чтобы алгоритм много ошибался: accuracy $\\geq$ 0.65.\n",
        "\n",
        "2) Кроме того точность должна быть как можно больше (число в правом верхнем квадрате матрицы ошибок минимально).\n",
        "\n",
        "**Задание 7.** Для каждого алгоритма найдите порог принятия решения, чтобы выполнялись перечисленные выше условия. Какой максимальной точности можно добиться у каждой из моделей при условии, что accuracy $\\geq$ 0.65? "
      ]
    },
    {
      "cell_type": "code",
      "execution_count": null,
      "metadata": {
        "id": "uM3_IjYSmx24",
        "colab": {
          "base_uri": "https://localhost:8080/"
        },
        "outputId": "0fb80c82-0131-4809-fa54-14bc6e77cfca"
      },
      "outputs": [
        {
          "output_type": "stream",
          "name": "stdout",
          "text": [
            "алгоритм 1: максимальное значение точности: 0.7371794871794872 при пороге: 0.54\n"
          ]
        },
        {
          "output_type": "stream",
          "name": "stderr",
          "text": [
            "/usr/local/lib/python3.9/dist-packages/sklearn/metrics/_classification.py:1344: UndefinedMetricWarning: Precision is ill-defined and being set to 0.0 due to no predicted samples. Use `zero_division` parameter to control this behavior.\n",
            "  _warn_prf(average, modifier, msg_start, len(result))\n"
          ]
        }
      ],
      "source": [
        "limit1 = 0\n",
        "maxr = 0\n",
        "for i in range(101):\n",
        "  classeso1 = df[\"pred1_probs\"].map(lambda x: 1 if x>i/100 else 0)\n",
        "  a = acc(df[\"target\"], classeso1)\n",
        "  r = pr(df[\"target\"], classeso1)\n",
        "\n",
        "  if a >= 0.65 and r > maxr:\n",
        "    maxr = r\n",
        "    limit1 = i\n",
        "print(\"алгоритм 1: максимальное значение точности:\", maxr, \"при пороге:\", limit1/100)"
      ]
    },
    {
      "cell_type": "code",
      "execution_count": null,
      "metadata": {
        "id": "RFD8g9G-mx25",
        "colab": {
          "base_uri": "https://localhost:8080/",
          "height": 524
        },
        "outputId": "b29b36bf-8d6f-48e4-e370-22d156846af9"
      },
      "outputs": [
        {
          "output_type": "stream",
          "name": "stdout",
          "text": [
            "0.7371794871794872\n"
          ]
        },
        {
          "output_type": "display_data",
          "data": {
            "text/plain": [
              "<Figure size 640x480 with 2 Axes>"
            ],
            "image/png": "[encoded data removed]"
          },
          "metadata": {}
        }
      ],
      "source": [
        "classeso1 = df[\"pred1_probs\"].map(lambda x: 1 if x>limit1/100 else 0)\n",
        "matrix_o1 = confusion_matrix(df[\"target\"], classeso1)\n",
        "\n",
        "plot_confusion_matrix(matrix_o1, classeso1.unique())\n",
        "print(pr(df[\"target\"], classeso1))"
      ]
    },
    {
      "cell_type": "code",
      "source": [
        "limit2 = 0\n",
        "maxr = 0\n",
        "for i in range(101):\n",
        "  classeso2 = df[\"pred2_probs\"].map(lambda x: 1 if x>i/100 else 0)\n",
        "  a = acc(df[\"target\"], classeso2)\n",
        "  r = pr(df[\"target\"], classeso2)\n",
        "\n",
        "  if a >= 0.65 and r > maxr:\n",
        "    maxr = r\n",
        "    limit2 = i\n",
        "print(\"алгоритм 2: максимальное значение точности:\", maxr, \"при пороге:\", limit2/100)"
      ],
      "metadata": {
        "colab": {
          "base_uri": "https://localhost:8080/"
        },
        "id": "qzcmazea6dgO",
        "outputId": "127c95f4-55b1-40a7-fee3-f8cf5232597c"
      },
      "execution_count": null,
      "outputs": [
        {
          "output_type": "stream",
          "name": "stdout",
          "text": [
            "алгоритм 2: максимальное значение точности: 0.8367346938775511 при пороге: 0.73\n"
          ]
        },
        {
          "output_type": "stream",
          "name": "stderr",
          "text": [
            "/usr/local/lib/python3.9/dist-packages/sklearn/metrics/_classification.py:1344: UndefinedMetricWarning: Precision is ill-defined and being set to 0.0 due to no predicted samples. Use `zero_division` parameter to control this behavior.\n",
            "  _warn_prf(average, modifier, msg_start, len(result))\n",
            "/usr/local/lib/python3.9/dist-packages/sklearn/metrics/_classification.py:1344: UndefinedMetricWarning: Precision is ill-defined and being set to 0.0 due to no predicted samples. Use `zero_division` parameter to control this behavior.\n",
            "  _warn_prf(average, modifier, msg_start, len(result))\n",
            "/usr/local/lib/python3.9/dist-packages/sklearn/metrics/_classification.py:1344: UndefinedMetricWarning: Precision is ill-defined and being set to 0.0 due to no predicted samples. Use `zero_division` parameter to control this behavior.\n",
            "  _warn_prf(average, modifier, msg_start, len(result))\n",
            "/usr/local/lib/python3.9/dist-packages/sklearn/metrics/_classification.py:1344: UndefinedMetricWarning: Precision is ill-defined and being set to 0.0 due to no predicted samples. Use `zero_division` parameter to control this behavior.\n",
            "  _warn_prf(average, modifier, msg_start, len(result))\n",
            "/usr/local/lib/python3.9/dist-packages/sklearn/metrics/_classification.py:1344: UndefinedMetricWarning: Precision is ill-defined and being set to 0.0 due to no predicted samples. Use `zero_division` parameter to control this behavior.\n",
            "  _warn_prf(average, modifier, msg_start, len(result))\n"
          ]
        }
      ]
    },
    {
      "cell_type": "code",
      "source": [
        "classeso2 = df[\"pred2_probs\"].map(lambda x: 1 if x>limit2/100 else 0)\n",
        "matrix_o2 = confusion_matrix(df[\"target\"], classeso2)\n",
        "\n",
        "plot_confusion_matrix(matrix_o2, classeso2.unique())\n",
        "print(pr(df[\"target\"], classeso2))"
      ],
      "metadata": {
        "colab": {
          "base_uri": "https://localhost:8080/",
          "height": 524
        },
        "id": "zdCWjFd86rmh",
        "outputId": "97373815-2e88-44a4-8e1f-11ac4e51a405"
      },
      "execution_count": null,
      "outputs": [
        {
          "output_type": "stream",
          "name": "stdout",
          "text": [
            "0.8367346938775511\n"
          ]
        },
        {
          "output_type": "display_data",
          "data": {
            "text/plain": [
              "<Figure size 640x480 with 2 Axes>"
            ],
            "image/png": "[encoded data removed]"
          },
          "metadata": {}
        }
      ]
    },
    {
      "cell_type": "code",
      "source": [
        "limit3 = 0\n",
        "maxr = 0\n",
        "for i in range(101):\n",
        "  classeso3 = df[\"pred3_probs\"].map(lambda x: 1 if x>i/100 else 0)\n",
        "  a = acc(df[\"target\"], classeso3)\n",
        "  r = pr(df[\"target\"], classeso3)\n",
        "\n",
        "  if a >= 0.65 and r > maxr:\n",
        "    maxr = r\n",
        "    limit3 = i\n",
        "\n",
        "print(\"алгоритм 3: максимальное значение точности:\", maxr, \"при пороге:\", limit3/100)"
      ],
      "metadata": {
        "colab": {
          "base_uri": "https://localhost:8080/"
        },
        "id": "64TkOoO56zDq",
        "outputId": "fa8c620c-9a70-46c0-9dc6-ecd6535ebc81"
      },
      "execution_count": null,
      "outputs": [
        {
          "output_type": "stream",
          "name": "stdout",
          "text": [
            "алгоритм 3: максимальное значение точности: 0 при пороге: 0.0\n"
          ]
        },
        {
          "output_type": "stream",
          "name": "stderr",
          "text": [
            "/usr/local/lib/python3.9/dist-packages/sklearn/metrics/_classification.py:1344: UndefinedMetricWarning: Precision is ill-defined and being set to 0.0 due to no predicted samples. Use `zero_division` parameter to control this behavior.\n",
            "  _warn_prf(average, modifier, msg_start, len(result))\n"
          ]
        }
      ]
    },
    {
      "cell_type": "markdown",
      "source": [
        "алгоритм 3 тупой, ни с чем справится не может"
      ],
      "metadata": {
        "id": "rOVAbWQ76_g0"
      }
    },
    {
      "cell_type": "markdown",
      "source": [
        "Итог: с задачей лучше всего справился алгоритм 2, у него наиболее высокое значение точности"
      ],
      "metadata": {
        "id": "UjI5-bhM7Kbw"
      }
    },
    {
      "cell_type": "markdown",
      "metadata": {
        "id": "x7L7Z7_emx25"
      },
      "source": [
        "Также (**Вариант 3**) можно потребовать, чтобы и точность, и полнота были высокими, то есть обе ошибки в матрице ошибок были маленькие. Как вариант - можно максимизировать F1-score (среднее гармоническое между точностью и полнотой).\n",
        "\n",
        "**Задание 9.** Найдите пороги для достижения максимального F1-score для каждой из трех моделей и нарисуйте матрицы ошибок. Какая модель решает поставленную задачу лучше остальных?"
      ]
    },
    {
      "cell_type": "code",
      "source": [
        "from sklearn.metrics import f1_score "
      ],
      "metadata": {
        "id": "sX0mdAAI70eb"
      },
      "execution_count": null,
      "outputs": []
    },
    {
      "cell_type": "code",
      "execution_count": null,
      "metadata": {
        "id": "bLLUAxZhmx25",
        "colab": {
          "base_uri": "https://localhost:8080/"
        },
        "outputId": "559c2309-3b17-4dd1-d01e-d34874ca3d31"
      },
      "outputs": [
        {
          "output_type": "stream",
          "name": "stdout",
          "text": [
            "1 алгоритм: максимальное значение f1: 0.6551724137931035 при пороге: 0.36\n"
          ]
        }
      ],
      "source": [
        "threshold1 = 0\n",
        "maxr = 0\n",
        "for i in range(101):\n",
        "  classesf1 = df[\"pred1_probs\"].map(lambda x: 1 if x>i/100 else 0)\n",
        "  a = acc(df[\"target\"], classesf1)\n",
        "  r = f1_score(df[\"target\"], classesf1)\n",
        "\n",
        "  if a >= 0.65 and r > maxr:\n",
        "    maxr = r\n",
        "    threshold1 = i\n",
        "print(\"алгоритм 1: максимальное значение f1:\", maxr, \"при пороге:\", threshold1/100)"
      ]
    },
    {
      "cell_type": "code",
      "source": [
        "classesf1 = df[\"pred1_probs\"].map(lambda x: 1 if x>threshold1/100 else 0)\n",
        "matrix_f1 = confusion_matrix(df[\"target\"], classesf1)\n",
        "\n",
        "plot_confusion_matrix(matrix_f1, classesf1.unique())\n",
        "print(f1_score(df[\"target\"], classesf1))"
      ],
      "metadata": {
        "colab": {
          "base_uri": "https://localhost:8080/",
          "height": 524
        },
        "id": "nFAO9A_J8AbH",
        "outputId": "e5ebc9e3-10b5-4ece-bddc-3839fe134eb0"
      },
      "execution_count": null,
      "outputs": [
        {
          "output_type": "stream",
          "name": "stdout",
          "text": [
            "0.6551724137931035\n"
          ]
        },
        {
          "output_type": "display_data",
          "data": {
            "text/plain": [
              "<Figure size 640x480 with 2 Axes>"
            ],
            "image/png": "[encoded data removed]"
          },
          "metadata": {}
        }
      ]
    },
    {
      "cell_type": "code",
      "source": [
        "threshold2 = 0\n",
        "maxr = 0\n",
        "for i in range(101):\n",
        "  classesf2 = df[\"pred2_probs\"].map(lambda x: 1 if x>i/100 else 0)\n",
        "  a = acc(df[\"target\"], classesf2)\n",
        "  r = f1_score(df[\"target\"], classesf2)\n",
        "\n",
        "  if a >= 0.65 and r > maxr:\n",
        "    maxr = r\n",
        "    threshold2 = i\n",
        "print(\"алгоритм 2: максимальное значение f1:\", maxr, \"при пороге:\", threshold2/100)"
      ],
      "metadata": {
        "colab": {
          "base_uri": "https://localhost:8080/"
        },
        "id": "D9qGL45Y8IAt",
        "outputId": "64b1261b-a868-46a4-9f0f-b24db4ebf662"
      },
      "execution_count": null,
      "outputs": [
        {
          "output_type": "stream",
          "name": "stdout",
          "text": [
            "алгоритм 2: максимальное значение f1: 0.6990291262135923 при пороге: 0.32\n"
          ]
        }
      ]
    },
    {
      "cell_type": "code",
      "source": [
        "classesf2 = df[\"pred2_probs\"].map(lambda x: 1 if x>threshold2/100 else 0)\n",
        "matrix_f2 = confusion_matrix(df[\"target\"], classesf2)\n",
        "\n",
        "plot_confusion_matrix(matrix_f2, classesf2.unique())\n",
        "print(f1_score(df[\"target\"], classesf2))"
      ],
      "metadata": {
        "colab": {
          "base_uri": "https://localhost:8080/",
          "height": 524
        },
        "id": "DSWHEhRk8UJ_",
        "outputId": "493da4d9-a818-4f2b-fe17-758233785ca7"
      },
      "execution_count": null,
      "outputs": [
        {
          "output_type": "stream",
          "name": "stdout",
          "text": [
            "0.6990291262135923\n"
          ]
        },
        {
          "output_type": "display_data",
          "data": {
            "text/plain": [
              "<Figure size 640x480 with 2 Axes>"
            ],
            "image/png": "[encoded data removed]"
          },
          "metadata": {}
        }
      ]
    },
    {
      "cell_type": "markdown",
      "source": [
        "ну с этим дурным как обычно"
      ],
      "metadata": {
        "id": "MD8u0_fM8hO2"
      }
    },
    {
      "cell_type": "code",
      "source": [
        "threshold3 = 0\n",
        "maxr = 0\n",
        "for i in range(101):\n",
        "  classesf3 = df[\"pred3_probs\"].map(lambda x: 1 if x>i/100 else 0)\n",
        "  a = acc(df[\"target\"], classesf3)\n",
        "  r = f1_score(df[\"target\"], classesf3)\n",
        "\n",
        "  if a >= 0.65 and r > maxr:\n",
        "    maxr = r\n",
        "    threshold3 = i\n",
        "print(\"алгоритм 3: максимальное значение f1:\", maxr, \"при пороге:\", threshold3/100)"
      ],
      "metadata": {
        "colab": {
          "base_uri": "https://localhost:8080/"
        },
        "id": "U5KHQgB98btj",
        "outputId": "d88543a3-9c38-4a3b-a4fa-8130e04e2876"
      },
      "execution_count": null,
      "outputs": [
        {
          "output_type": "stream",
          "name": "stdout",
          "text": [
            "алгоритм 3: максимальное значение f1: 0 при пороге: 0.0\n"
          ]
        }
      ]
    },
    {
      "cell_type": "markdown",
      "metadata": {
        "id": "JliicUvLmx26"
      },
      "source": [
        "#### Кстати\n",
        "\n",
        "В python есть удобная функция classification_report, которая выводит значения нескольких метрик."
      ]
    },
    {
      "cell_type": "code",
      "execution_count": null,
      "metadata": {
        "id": "6l_wAef9mx26"
      },
      "outputs": [],
      "source": [
        "from sklearn.metrics import classification_report\n",
        "\n",
        "print(classification_report(df['target'],df['pred1_classes']))"
      ]
    },
    {
      "cell_type": "markdown",
      "metadata": {
        "id": "0kyPGfjpmx27"
      },
      "source": [
        "### Обучим свою модель для предсказания target.\n",
        "\n",
        "**Задание 10.** Отнормируйте признаки в задаче и обучите логистическую регрессию предсказывать target."
      ]
    },
    {
      "cell_type": "code",
      "execution_count": null,
      "metadata": {
        "id": "b89i9F07mx28",
        "colab": {
          "base_uri": "https://localhost:8080/",
          "height": 424
        },
        "outputId": "aa888375-048f-4cde-cd9d-a51bbb45bcb0"
      },
      "outputs": [
        {
          "output_type": "execute_result",
          "data": {
            "text/plain": [
              "     0      1       2  3   4  5      6  7  8   9  10  11   12    13  target\n",
              "0    1  22.08  11.460  2   4  4  1.585  0  0   0   1   2  100  1213       0\n",
              "1    0  22.67   7.000  2   8  4  0.165  0  0   0   0   2  160     1       0\n",
              "2    0  29.58   1.750  1   4  4  1.250  0  0   0   1   2  280     1       0\n",
              "3    0  21.67  11.500  1   5  3  0.000  1  1  11   1   2    0     1       1\n",
              "4    1  20.17   8.170  2   6  4  1.960  1  1  14   0   2   60   159       1\n",
              "..  ..    ...     ... ..  .. ..    ... .. ..  ..  ..  ..  ...   ...     ...\n",
              "684  1  31.57  10.500  2  14  4  6.500  1  0   0   0   2    0     1       1\n",
              "685  1  20.67   0.415  2   8  4  0.125  0  0   0   0   2    0    45       0\n",
              "686  0  18.83   9.540  2   6  4  0.085  1  0   0   0   2  100     1       1\n",
              "687  0  27.42  14.500  2  14  8  3.085  1  1   1   0   2  120    12       1\n",
              "688  1  41.00   0.040  2  10  4  0.040  0  1   1   0   1  560     1       1\n",
              "\n",
              "[689 rows x 15 columns]"
            ],
            "text/html": [
              "\n",
              "  <div id=\"df-924417da-bb33-452d-959e-43db0e4d0e15\">\n",
              "    <div class=\"colab-df-container\">\n",
              "      <div>\n",
              "<style scoped>\n",
              "    .dataframe tbody tr th:only-of-type {\n",
              "        vertical-align: middle;\n",
              "    }\n",
              "\n",
              "    .dataframe tbody tr th {\n",
              "        vertical-align: top;\n",
              "    }\n",
              "\n",
              "    .dataframe thead th {\n",
              "        text-align: right;\n",
              "    }\n",
              "</style>\n",
              "<table border=\"1\" class=\"dataframe\">\n",
              "  <thead>\n",
              "    <tr style=\"text-align: right;\">\n",
              "      <th></th>\n",
              "      <th>0</th>\n",
              "      <th>1</th>\n",
              "      <th>2</th>\n",
              "      <th>3</th>\n",
              "      <th>4</th>\n",
              "      <th>5</th>\n",
              "      <th>6</th>\n",
              "      <th>7</th>\n",
              "      <th>8</th>\n",
              "      <th>9</th>\n",
              "      <th>10</th>\n",
              "      <th>11</th>\n",
              "      <th>12</th>\n",
              "      <th>13</th>\n",
              "      <th>target</th>\n",
              "    </tr>\n",
              "  </thead>\n",
              "  <tbody>\n",
              "    <tr>\n",
              "      <th>0</th>\n",
              "      <td>1</td>\n",
              "      <td>22.08</td>\n",
              "      <td>11.460</td>\n",
              "      <td>2</td>\n",
              "      <td>4</td>\n",
              "      <td>4</td>\n",
              "      <td>1.585</td>\n",
              "      <td>0</td>\n",
              "      <td>0</td>\n",
              "      <td>0</td>\n",
              "      <td>1</td>\n",
              "      <td>2</td>\n",
              "      <td>100</td>\n",
              "      <td>1213</td>\n",
              "      <td>0</td>\n",
              "    </tr>\n",
              "    <tr>\n",
              "      <th>1</th>\n",
              "      <td>0</td>\n",
              "      <td>22.67</td>\n",
              "      <td>7.000</td>\n",
              "      <td>2</td>\n",
              "      <td>8</td>\n",
              "      <td>4</td>\n",
              "      <td>0.165</td>\n",
              "      <td>0</td>\n",
              "      <td>0</td>\n",
              "      <td>0</td>\n",
              "      <td>0</td>\n",
              "      <td>2</td>\n",
              "      <td>160</td>\n",
              "      <td>1</td>\n",
              "      <td>0</td>\n",
              "    </tr>\n",
              "    <tr>\n",
              "      <th>2</th>\n",
              "      <td>0</td>\n",
              "      <td>29.58</td>\n",
              "      <td>1.750</td>\n",
              "      <td>1</td>\n",
              "      <td>4</td>\n",
              "      <td>4</td>\n",
              "      <td>1.250</td>\n",
              "      <td>0</td>\n",
              "      <td>0</td>\n",
              "      <td>0</td>\n",
              "      <td>1</td>\n",
              "      <td>2</td>\n",
              "      <td>280</td>\n",
              "      <td>1</td>\n",
              "      <td>0</td>\n",
              "    </tr>\n",
              "    <tr>\n",
              "      <th>3</th>\n",
              "      <td>0</td>\n",
              "      <td>21.67</td>\n",
              "      <td>11.500</td>\n",
              "      <td>1</td>\n",
              "      <td>5</td>\n",
              "      <td>3</td>\n",
              "      <td>0.000</td>\n",
              "      <td>1</td>\n",
              "      <td>1</td>\n",
              "      <td>11</td>\n",
              "      <td>1</td>\n",
              "      <td>2</td>\n",
              "      <td>0</td>\n",
              "      <td>1</td>\n",
              "      <td>1</td>\n",
              "    </tr>\n",
              "    <tr>\n",
              "      <th>4</th>\n",
              "      <td>1</td>\n",
              "      <td>20.17</td>\n",
              "      <td>8.170</td>\n",
              "      <td>2</td>\n",
              "      <td>6</td>\n",
              "      <td>4</td>\n",
              "      <td>1.960</td>\n",
              "      <td>1</td>\n",
              "      <td>1</td>\n",
              "      <td>14</td>\n",
              "      <td>0</td>\n",
              "      <td>2</td>\n",
              "      <td>60</td>\n",
              "      <td>159</td>\n",
              "      <td>1</td>\n",
              "    </tr>\n",
              "    <tr>\n",
              "      <th>...</th>\n",
              "      <td>...</td>\n",
              "      <td>...</td>\n",
              "      <td>...</td>\n",
              "      <td>...</td>\n",
              "      <td>...</td>\n",
              "      <td>...</td>\n",
              "      <td>...</td>\n",
              "      <td>...</td>\n",
              "      <td>...</td>\n",
              "      <td>...</td>\n",
              "      <td>...</td>\n",
              "      <td>...</td>\n",
              "      <td>...</td>\n",
              "      <td>...</td>\n",
              "      <td>...</td>\n",
              "    </tr>\n",
              "    <tr>\n",
              "      <th>684</th>\n",
              "      <td>1</td>\n",
              "      <td>31.57</td>\n",
              "      <td>10.500</td>\n",
              "      <td>2</td>\n",
              "      <td>14</td>\n",
              "      <td>4</td>\n",
              "      <td>6.500</td>\n",
              "      <td>1</td>\n",
              "      <td>0</td>\n",
              "      <td>0</td>\n",
              "      <td>0</td>\n",
              "      <td>2</td>\n",
              "      <td>0</td>\n",
              "      <td>1</td>\n",
              "      <td>1</td>\n",
              "    </tr>\n",
              "    <tr>\n",
              "      <th>685</th>\n",
              "      <td>1</td>\n",
              "      <td>20.67</td>\n",
              "      <td>0.415</td>\n",
              "      <td>2</td>\n",
              "      <td>8</td>\n",
              "      <td>4</td>\n",
              "      <td>0.125</td>\n",
              "      <td>0</td>\n",
              "      <td>0</td>\n",
              "      <td>0</td>\n",
              "      <td>0</td>\n",
              "      <td>2</td>\n",
              "      <td>0</td>\n",
              "      <td>45</td>\n",
              "      <td>0</td>\n",
              "    </tr>\n",
              "    <tr>\n",
              "      <th>686</th>\n",
              "      <td>0</td>\n",
              "      <td>18.83</td>\n",
              "      <td>9.540</td>\n",
              "      <td>2</td>\n",
              "      <td>6</td>\n",
              "      <td>4</td>\n",
              "      <td>0.085</td>\n",
              "      <td>1</td>\n",
              "      <td>0</td>\n",
              "      <td>0</td>\n",
              "      <td>0</td>\n",
              "      <td>2</td>\n",
              "      <td>100</td>\n",
              "      <td>1</td>\n",
              "      <td>1</td>\n",
              "    </tr>\n",
              "    <tr>\n",
              "      <th>687</th>\n",
              "      <td>0</td>\n",
              "      <td>27.42</td>\n",
              "      <td>14.500</td>\n",
              "      <td>2</td>\n",
              "      <td>14</td>\n",
              "      <td>8</td>\n",
              "      <td>3.085</td>\n",
              "      <td>1</td>\n",
              "      <td>1</td>\n",
              "      <td>1</td>\n",
              "      <td>0</td>\n",
              "      <td>2</td>\n",
              "      <td>120</td>\n",
              "      <td>12</td>\n",
              "      <td>1</td>\n",
              "    </tr>\n",
              "    <tr>\n",
              "      <th>688</th>\n",
              "      <td>1</td>\n",
              "      <td>41.00</td>\n",
              "      <td>0.040</td>\n",
              "      <td>2</td>\n",
              "      <td>10</td>\n",
              "      <td>4</td>\n",
              "      <td>0.040</td>\n",
              "      <td>0</td>\n",
              "      <td>1</td>\n",
              "      <td>1</td>\n",
              "      <td>0</td>\n",
              "      <td>1</td>\n",
              "      <td>560</td>\n",
              "      <td>1</td>\n",
              "      <td>1</td>\n",
              "    </tr>\n",
              "  </tbody>\n",
              "</table>\n",
              "<p>689 rows × 15 columns</p>\n",
              "</div>\n",
              "      <button class=\"colab-df-convert\" onclick=\"convertToInteractive('df-924417da-bb33-452d-959e-43db0e4d0e15')\"\n",
              "              title=\"Convert this dataframe to an interactive table.\"\n",
              "              style=\"display:none;\">\n",
              "        \n",
              "  <svg xmlns=\"http://www.w3.org/2000/svg\" height=\"24px\"viewBox=\"0 0 24 24\"\n",
              "       width=\"24px\">\n",
              "    <path d=\"M0 0h24v24H0V0z\" fill=\"none\"/>\n",
              "    <path d=\"M18.56 5.44l.94 2.06.94-2.06 2.06-.94-2.06-.94-.94-2.06-.94 2.06-2.06.94zm-11 1L8.5 8.5l.94-2.06 2.06-.94-2.06-.94L8.5 2.5l-.94 2.06-2.06.94zm10 10l.94 2.06.94-2.06 2.06-.94-2.06-.94-.94-2.06-.94 2.06-2.06.94z\"/><path d=\"M17.41 7.96l-1.37-1.37c-.4-.4-.92-.59-1.43-.59-.52 0-1.04.2-1.43.59L10.3 9.45l-7.72 7.72c-.78.78-.78 2.05 0 2.83L4 21.41c.39.39.9.59 1.41.59.51 0 1.02-.2 1.41-.59l7.78-7.78 2.81-2.81c.8-.78.8-2.07 0-2.86zM5.41 20L4 18.59l7.72-7.72 1.47 1.35L5.41 20z\"/>\n",
              "  </svg>\n",
              "      </button>\n",
              "      \n",
              "  <style>\n",
              "    .colab-df-container {\n",
              "      display:flex;\n",
              "      flex-wrap:wrap;\n",
              "      gap: 12px;\n",
              "    }\n",
              "\n",
              "    .colab-df-convert {\n",
              "      background-color: #E8F0FE;\n",
              "      border: none;\n",
              "      border-radius: 50%;\n",
              "      cursor: pointer;\n",
              "      display: none;\n",
              "      fill: #1967D2;\n",
              "      height: 32px;\n",
              "      padding: 0 0 0 0;\n",
              "      width: 32px;\n",
              "    }\n",
              "\n",
              "    .colab-df-convert:hover {\n",
              "      background-color: #E2EBFA;\n",
              "      box-shadow: 0px 1px 2px rgba(60, 64, 67, 0.3), 0px 1px 3px 1px rgba(60, 64, 67, 0.15);\n",
              "      fill: #174EA6;\n",
              "    }\n",
              "\n",
              "    [theme=dark] .colab-df-convert {\n",
              "      background-color: #3B4455;\n",
              "      fill: #D2E3FC;\n",
              "    }\n",
              "\n",
              "    [theme=dark] .colab-df-convert:hover {\n",
              "      background-color: #434B5C;\n",
              "      box-shadow: 0px 1px 3px 1px rgba(0, 0, 0, 0.15);\n",
              "      filter: drop-shadow(0px 1px 2px rgba(0, 0, 0, 0.3));\n",
              "      fill: #FFFFFF;\n",
              "    }\n",
              "  </style>\n",
              "\n",
              "      <script>\n",
              "        const buttonEl =\n",
              "          document.querySelector('#df-924417da-bb33-452d-959e-43db0e4d0e15 button.colab-df-convert');\n",
              "        buttonEl.style.display =\n",
              "          google.colab.kernel.accessAllowed ? 'block' : 'none';\n",
              "\n",
              "        async function convertToInteractive(key) {\n",
              "          const element = document.querySelector('#df-924417da-bb33-452d-959e-43db0e4d0e15');\n",
              "          const dataTable =\n",
              "            await google.colab.kernel.invokeFunction('convertToInteractive',\n",
              "                                                     [key], {});\n",
              "          if (!dataTable) return;\n",
              "\n",
              "          const docLinkHtml = 'Like what you see? Visit the ' +\n",
              "            '<a target=\"_blank\" href=https://colab.research.google.com/notebooks/data_table.ipynb>data table notebook</a>'\n",
              "            + ' to learn more about interactive tables.';\n",
              "          element.innerHTML = '';\n",
              "          dataTable['output_type'] = 'display_data';\n",
              "          await google.colab.output.renderOutput(dataTable, element);\n",
              "          const docLink = document.createElement('div');\n",
              "          docLink.innerHTML = docLinkHtml;\n",
              "          element.appendChild(docLink);\n",
              "        }\n",
              "      </script>\n",
              "    </div>\n",
              "  </div>\n",
              "  "
            ]
          },
          "metadata": {},
          "execution_count": 113
        }
      ],
      "source": [
        "df.drop(\"pred1_probs\", axis = 1).drop(\"pred2_probs\", axis = 1).drop(\"pred3_probs\", axis = 1).drop(\"pred1_classes\", axis = 1).drop(\"pred2_classes\", axis = 1).drop(\"pred3_classes\", axis = 1)"
      ]
    },
    {
      "cell_type": "code",
      "source": [
        "Xtrain, Xtest, ytrain, ytest = train_test_split(df.drop(\"target\", axis = 1), df[\"target\"], test_size = 0.3, random_state = 42)"
      ],
      "metadata": {
        "id": "QTbpl_t49FDe"
      },
      "execution_count": null,
      "outputs": []
    },
    {
      "cell_type": "code",
      "source": [
        "pipe = make_pipeline(StandardScaler(),\n",
        "                     GridSearchCV(LogisticRegression(),\n",
        "                                  param_grid={\"C\": [0.01, 0.1, 1, 10, 100]},\n",
        "                                  scoring='f1',\n",
        "                                  cv=5))\n",
        "pipe.fit(Xtrain, ytrain)"
      ],
      "metadata": {
        "colab": {
          "base_uri": "https://localhost:8080/",
          "height": 303
        },
        "id": "SYhh8MKe__-x",
        "outputId": "d736abdf-aaea-48b0-9d2f-f1a1a1fc4b9c"
      },
      "execution_count": null,
      "outputs": [
        {
          "output_type": "execute_result",
          "data": {
            "text/plain": [
              "Pipeline(steps=[('standardscaler', StandardScaler()),\n",
              "                ('gridsearchcv',\n",
              "                 GridSearchCV(cv=5, estimator=LogisticRegression(),\n",
              "                              param_grid={'C': [0.01, 0.1, 1, 10, 100]},\n",
              "                              scoring='f1'))])"
            ],
            "text/html": [
              "<style>#sk-container-id-1 {color: black;background-color: white;}#sk-container-id-1 pre{padding: 0;}#sk-container-id-1 div.sk-toggleable {background-color: white;}#sk-container-id-1 label.sk-toggleable__label {cursor: pointer;display: block;width: 100%;margin-bottom: 0;padding: 0.3em;box-sizing: border-box;text-align: center;}#sk-container-id-1 label.sk-toggleable__label-arrow:before {content: \"▸\";float: left;margin-right: 0.25em;color: #696969;}#sk-container-id-1 label.sk-toggleable__label-arrow:hover:before {color: black;}#sk-container-id-1 div.sk-estimator:hover label.sk-toggleable__label-arrow:before {color: black;}#sk-container-id-1 div.sk-toggleable__content {max-height: 0;max-width: 0;overflow: hidden;text-align: left;background-color: #f0f8ff;}#sk-container-id-1 div.sk-toggleable__content pre {margin: 0.2em;color: black;border-radius: 0.25em;background-color: #f0f8ff;}#sk-container-id-1 input.sk-toggleable__control:checked~div.sk-toggleable__content {max-height: 200px;max-width: 100%;overflow: auto;}#sk-container-id-1 input.sk-toggleable__control:checked~label.sk-toggleable__label-arrow:before {content: \"▾\";}#sk-container-id-1 div.sk-estimator input.sk-toggleable__control:checked~label.sk-toggleable__label {background-color: #d4ebff;}#sk-container-id-1 div.sk-label input.sk-toggleable__control:checked~label.sk-toggleable__label {background-color: #d4ebff;}#sk-container-id-1 input.sk-hidden--visually {border: 0;clip: rect(1px 1px 1px 1px);clip: rect(1px, 1px, 1px, 1px);height: 1px;margin: -1px;overflow: hidden;padding: 0;position: absolute;width: 1px;}#sk-container-id-1 div.sk-estimator {font-family: monospace;background-color: #f0f8ff;border: 1px dotted black;border-radius: 0.25em;box-sizing: border-box;margin-bottom: 0.5em;}#sk-container-id-1 div.sk-estimator:hover {background-color: #d4ebff;}#sk-container-id-1 div.sk-parallel-item::after {content: \"\";width: 100%;border-bottom: 1px solid gray;flex-grow: 1;}#sk-container-id-1 div.sk-label:hover label.sk-toggleable__label {background-color: #d4ebff;}#sk-container-id-1 div.sk-serial::before {content: \"\";position: absolute;border-left: 1px solid gray;box-sizing: border-box;top: 0;bottom: 0;left: 50%;z-index: 0;}#sk-container-id-1 div.sk-serial {display: flex;flex-direction: column;align-items: center;background-color: white;padding-right: 0.2em;padding-left: 0.2em;position: relative;}#sk-container-id-1 div.sk-item {position: relative;z-index: 1;}#sk-container-id-1 div.sk-parallel {display: flex;align-items: stretch;justify-content: center;background-color: white;position: relative;}#sk-container-id-1 div.sk-item::before, #sk-container-id-1 div.sk-parallel-item::before {content: \"\";position: absolute;border-left: 1px solid gray;box-sizing: border-box;top: 0;bottom: 0;left: 50%;z-index: -1;}#sk-container-id-1 div.sk-parallel-item {display: flex;flex-direction: column;z-index: 1;position: relative;background-color: white;}#sk-container-id-1 div.sk-parallel-item:first-child::after {align-self: flex-end;width: 50%;}#sk-container-id-1 div.sk-parallel-item:last-child::after {align-self: flex-start;width: 50%;}#sk-container-id-1 div.sk-parallel-item:only-child::after {width: 0;}#sk-container-id-1 div.sk-dashed-wrapped {border: 1px dashed gray;margin: 0 0.4em 0.5em 0.4em;box-sizing: border-box;padding-bottom: 0.4em;background-color: white;}#sk-container-id-1 div.sk-label label {font-family: monospace;font-weight: bold;display: inline-block;line-height: 1.2em;}#sk-container-id-1 div.sk-label-container {text-align: center;}#sk-container-id-1 div.sk-container {/* jupyter's `normalize.less` sets `[hidden] { display: none; }` but bootstrap.min.css set `[hidden] { display: none !important; }` so we also need the `!important` here to be able to override the default hidden behavior on the sphinx rendered scikit-learn.org. See: https://github.com/scikit-learn/scikit-learn/issues/21755 */display: inline-block !important;position: relative;}#sk-container-id-1 div.sk-text-repr-fallback {display: none;}</style><div id=\"sk-container-id-1\" class=\"sk-top-container\"><div class=\"sk-text-repr-fallback\"><pre>Pipeline(steps=[(&#x27;standardscaler&#x27;, StandardScaler()),\n",
              "                (&#x27;gridsearchcv&#x27;,\n",
              "                 GridSearchCV(cv=5, estimator=LogisticRegression(),\n",
              "                              param_grid={&#x27;C&#x27;: [0.01, 0.1, 1, 10, 100]},\n",
              "                              scoring=&#x27;f1&#x27;))])</pre><b>In a Jupyter environment, please rerun this cell to show the HTML representation or trust the notebook. <br />On GitHub, the HTML representation is unable to render, please try loading this page with nbviewer.org.</b></div><div class=\"sk-container\" hidden><div class=\"sk-item sk-dashed-wrapped\"><div class=\"sk-label-container\"><div class=\"sk-label sk-toggleable\"><input class=\"sk-toggleable__control sk-hidden--visually\" id=\"sk-estimator-id-1\" type=\"checkbox\" ><label for=\"sk-estimator-id-1\" class=\"sk-toggleable__label sk-toggleable__label-arrow\">Pipeline</label><div class=\"sk-toggleable__content\"><pre>Pipeline(steps=[(&#x27;standardscaler&#x27;, StandardScaler()),\n",
              "                (&#x27;gridsearchcv&#x27;,\n",
              "                 GridSearchCV(cv=5, estimator=LogisticRegression(),\n",
              "                              param_grid={&#x27;C&#x27;: [0.01, 0.1, 1, 10, 100]},\n",
              "                              scoring=&#x27;f1&#x27;))])</pre></div></div></div><div class=\"sk-serial\"><div class=\"sk-item\"><div class=\"sk-estimator sk-toggleable\"><input class=\"sk-toggleable__control sk-hidden--visually\" id=\"sk-estimator-id-2\" type=\"checkbox\" ><label for=\"sk-estimator-id-2\" class=\"sk-toggleable__label sk-toggleable__label-arrow\">StandardScaler</label><div class=\"sk-toggleable__content\"><pre>StandardScaler()</pre></div></div></div><div class=\"sk-item sk-dashed-wrapped\"><div class=\"sk-label-container\"><div class=\"sk-label sk-toggleable\"><input class=\"sk-toggleable__control sk-hidden--visually\" id=\"sk-estimator-id-3\" type=\"checkbox\" ><label for=\"sk-estimator-id-3\" class=\"sk-toggleable__label sk-toggleable__label-arrow\">gridsearchcv: GridSearchCV</label><div class=\"sk-toggleable__content\"><pre>GridSearchCV(cv=5, estimator=LogisticRegression(),\n",
              "             param_grid={&#x27;C&#x27;: [0.01, 0.1, 1, 10, 100]}, scoring=&#x27;f1&#x27;)</pre></div></div></div><div class=\"sk-parallel\"><div class=\"sk-parallel-item\"><div class=\"sk-item\"><div class=\"sk-label-container\"><div class=\"sk-label sk-toggleable\"><input class=\"sk-toggleable__control sk-hidden--visually\" id=\"sk-estimator-id-4\" type=\"checkbox\" ><label for=\"sk-estimator-id-4\" class=\"sk-toggleable__label sk-toggleable__label-arrow\">estimator: LogisticRegression</label><div class=\"sk-toggleable__content\"><pre>LogisticRegression()</pre></div></div></div><div class=\"sk-serial\"><div class=\"sk-item\"><div class=\"sk-estimator sk-toggleable\"><input class=\"sk-toggleable__control sk-hidden--visually\" id=\"sk-estimator-id-5\" type=\"checkbox\" ><label for=\"sk-estimator-id-5\" class=\"sk-toggleable__label sk-toggleable__label-arrow\">LogisticRegression</label><div class=\"sk-toggleable__content\"><pre>LogisticRegression()</pre></div></div></div></div></div></div></div></div></div></div></div></div>"
            ]
          },
          "metadata": {},
          "execution_count": 117
        }
      ]
    },
    {
      "cell_type": "code",
      "source": [
        "pred_test = pd.Series(pd.DataFrame(pipe.predict_proba(Xtest))[1])\n",
        "print(pred_test)"
      ],
      "metadata": {
        "colab": {
          "base_uri": "https://localhost:8080/"
        },
        "id": "D-CyrrEnBA4W",
        "outputId": "c3875839-1b76-48f4-8202-d7f7f4349b39"
      },
      "execution_count": null,
      "outputs": [
        {
          "output_type": "stream",
          "name": "stdout",
          "text": [
            "0      0.822268\n",
            "1      0.820024\n",
            "2      0.056176\n",
            "3      0.032732\n",
            "4      0.908188\n",
            "         ...   \n",
            "202    0.834884\n",
            "203    0.494816\n",
            "204    0.947543\n",
            "205    0.056255\n",
            "206    0.999931\n",
            "Name: 1, Length: 207, dtype: float64\n"
          ]
        }
      ]
    },
    {
      "cell_type": "code",
      "source": [
        "pipe.score(Xtrain, ytrain)"
      ],
      "metadata": {
        "colab": {
          "base_uri": "https://localhost:8080/"
        },
        "id": "MoMqbWjPF6ho",
        "outputId": "fd54e63e-ff2c-4371-eabc-350cc5cd82ff"
      },
      "execution_count": null,
      "outputs": [
        {
          "output_type": "execute_result",
          "data": {
            "text/plain": [
              "0.8634361233480177"
            ]
          },
          "metadata": {},
          "execution_count": 122
        }
      ]
    },
    {
      "cell_type": "code",
      "source": [
        "pipe.score(Xtest, ytest)"
      ],
      "metadata": {
        "colab": {
          "base_uri": "https://localhost:8080/"
        },
        "id": "EemGd87uFxzh",
        "outputId": "604d17c2-c3b4-4a51-a76b-7280f9e115e3"
      },
      "execution_count": null,
      "outputs": [
        {
          "output_type": "execute_result",
          "data": {
            "text/plain": [
              "0.8715083798882681"
            ]
          },
          "metadata": {},
          "execution_count": 121
        }
      ]
    },
    {
      "cell_type": "markdown",
      "metadata": {
        "id": "3BvjbFSZmx28"
      },
      "source": [
        "**Задание 11.** Подберите порог для перевода предсказания в классы, чтобы максимизировать:\n",
        "    а) точность \n",
        "    б) полноту \n",
        "    в) f1-score. \n",
        "Лучше ли логистическая регрессия справилась с задачей, чем три готовые модели, предсказания которых мы анализировали выше?"
      ]
    },
    {
      "cell_type": "markdown",
      "source": [
        "точность"
      ],
      "metadata": {
        "id": "fXnHGr7nGH6N"
      }
    },
    {
      "cell_type": "code",
      "execution_count": null,
      "metadata": {
        "id": "MmDN95hjmx29",
        "colab": {
          "base_uri": "https://localhost:8080/"
        },
        "outputId": "8556c7a6-3d63-48de-be1f-5af62511a024"
      },
      "outputs": [
        {
          "output_type": "stream",
          "name": "stdout",
          "text": [
            "максимальное значение точности: 1.0 при пороге: 0.98\n"
          ]
        },
        {
          "output_type": "stream",
          "name": "stderr",
          "text": [
            "/usr/local/lib/python3.9/dist-packages/sklearn/metrics/_classification.py:1344: UndefinedMetricWarning: Precision is ill-defined and being set to 0.0 due to no predicted samples. Use `zero_division` parameter to control this behavior.\n",
            "  _warn_prf(average, modifier, msg_start, len(result))\n"
          ]
        }
      ],
      "source": [
        "lm = 0\n",
        "maxr = 0\n",
        "for i in range(101):\n",
        "  classes = pred_test.map(lambda x: 1 if x>i/100 else 0)\n",
        "  a = acc(ytest, classes)\n",
        "  r = pr(ytest, classes)\n",
        "  if a >= 0.65 and r > maxr:\n",
        "    maxr = r\n",
        "    lm = i\n",
        "    \n",
        "print(\"максимальное значение точности:\", maxr, \"при пороге:\", lm/100)"
      ]
    },
    {
      "cell_type": "code",
      "source": [
        "classes = pred_test.map(lambda x: 1 if x>lm/100 else 0)\n",
        "matrix = confusion_matrix(ytest, classes)\n",
        "\n",
        "plot_confusion_matrix(matrix.T[::-1].T[::-1], classes.unique()[::-1])\n",
        "print(pr(ytest, classes))"
      ],
      "metadata": {
        "colab": {
          "base_uri": "https://localhost:8080/",
          "height": 524
        },
        "id": "C4axY_J4Ga1X",
        "outputId": "423a8f50-57c8-476b-db97-16820682addf"
      },
      "execution_count": null,
      "outputs": [
        {
          "output_type": "stream",
          "name": "stdout",
          "text": [
            "1.0\n"
          ]
        },
        {
          "output_type": "display_data",
          "data": {
            "text/plain": [
              "<Figure size 640x480 with 2 Axes>"
            ],
            "image/png": "[encoded data removed]"
          },
          "metadata": {}
        }
      ]
    },
    {
      "cell_type": "markdown",
      "source": [
        "полнота"
      ],
      "metadata": {
        "id": "fuVqgbTHGpeR"
      }
    },
    {
      "cell_type": "code",
      "source": [
        "lm2 = 0\n",
        "maxr = 0\n",
        "for i in range(101):\n",
        "  classes = pred_test.map(lambda x: 1 if x>i/100 else 0)\n",
        "  a = acc(ytest, classes)\n",
        "  r = rc(ytest, classes)\n",
        "  if a >= 0.65 and r > maxr:\n",
        "    maxr = r\n",
        "    lm2 = i\n",
        "    \n",
        "print(\"максимальное значение f1:\", maxr, \"при пороге:\", lm2/100)"
      ],
      "metadata": {
        "colab": {
          "base_uri": "https://localhost:8080/"
        },
        "id": "WawsyHQuGhjJ",
        "outputId": "ef611b3b-a2b6-46d5-c59b-5bbcb331f1c1"
      },
      "execution_count": null,
      "outputs": [
        {
          "output_type": "stream",
          "name": "stdout",
          "text": [
            "максимальное значение f1: 1.0 при пороге: 0.06\n"
          ]
        }
      ]
    },
    {
      "cell_type": "code",
      "source": [
        "classes = pred_test.map(lambda x: 1 if x>lm2/100 else 0)\n",
        "matrix = confusion_matrix(ytest, classes)\n",
        "\n",
        "plot_confusion_matrix(matrix, classes.unique())\n",
        "print(rc(ytest, classes))"
      ],
      "metadata": {
        "colab": {
          "base_uri": "https://localhost:8080/",
          "height": 524
        },
        "id": "r080eJJ-HiH-",
        "outputId": "0303ad8e-cf78-44d4-eb62-0e32b4657172"
      },
      "execution_count": null,
      "outputs": [
        {
          "output_type": "stream",
          "name": "stdout",
          "text": [
            "1.0\n"
          ]
        },
        {
          "output_type": "display_data",
          "data": {
            "text/plain": [
              "<Figure size 640x480 with 2 Axes>"
            ],
            "image/png": "[encoded data removed]"
          },
          "metadata": {}
        }
      ]
    },
    {
      "cell_type": "markdown",
      "source": [
        "f1_score"
      ],
      "metadata": {
        "id": "Qj3WL2U0H29L"
      }
    },
    {
      "cell_type": "code",
      "source": [
        "lm3 = 0\n",
        "maxr = 0\n",
        "for i in range(101):\n",
        "  classes = pred_test.map(lambda x: 1 if x>i/100 else 0)\n",
        "  a = acc(ytest, classes)\n",
        "  r = f1_score(ytest, classes)\n",
        "  if a >= 0.65 and r > maxr:\n",
        "    maxr = r\n",
        "    lm3 = i\n",
        "    \n",
        "print(\"максимальное значение f1_score:\", maxr, \"при пороге:\", lm3/100)"
      ],
      "metadata": {
        "colab": {
          "base_uri": "https://localhost:8080/"
        },
        "id": "h-OPb2uzINJX",
        "outputId": "7f76e9bc-d645-4df5-ef52-e69ba1331a6a"
      },
      "execution_count": null,
      "outputs": [
        {
          "output_type": "stream",
          "name": "stdout",
          "text": [
            "максимальное значение f1_score: 0.8823529411764707 при пороге: 0.66\n"
          ]
        }
      ]
    },
    {
      "cell_type": "code",
      "source": [
        "classes = pred_test.map(lambda x: 1 if x>lm3/100 else 0)\n",
        "matrix = confusion_matrix(ytest, classes)\n",
        "\n",
        "plot_confusion_matrix(matrix, classes.unique())\n",
        "print(f1_score(ytest, classes))"
      ],
      "metadata": {
        "colab": {
          "base_uri": "https://localhost:8080/",
          "height": 524
        },
        "id": "SLJncAI9IavN",
        "outputId": "6c225119-db2a-45a5-c0da-63bc7f7c3d76"
      },
      "execution_count": null,
      "outputs": [
        {
          "output_type": "stream",
          "name": "stdout",
          "text": [
            "0.8823529411764707\n"
          ]
        },
        {
          "output_type": "display_data",
          "data": {
            "text/plain": [
              "<Figure size 640x480 with 2 Axes>"
            ],
            "image/png": "[encoded data removed]"
          },
          "metadata": {}
        }
      ]
    },
    {
      "cell_type": "markdown",
      "source": [
        "очевидно регрессия с гридом разносит задачу "
      ],
      "metadata": {
        "id": "yaBPv_slIjt9"
      }
    }
  ],
  "metadata": {
    "kernelspec": {
      "display_name": "Python 3",
      "language": "python",
      "name": "python3"
    },
    "language_info": {
      "codemirror_mode": {
        "name": "ipython",
        "version": 3
      },
      "file_extension": ".py",
      "mimetype": "text/x-python",
      "name": "python",
      "nbconvert_exporter": "python",
      "pygments_lexer": "ipython3",
      "version": "3.7.6"
    },
    "colab": {
      "provenance": []
    }
  },
  "nbformat": 4,
  "nbformat_minor": 0
}